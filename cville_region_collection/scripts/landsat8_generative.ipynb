{
 "cells": [
  {
   "cell_type": "code",
   "execution_count": 1,
   "metadata": {},
   "outputs": [
    {
     "name": "stderr",
     "output_type": "stream",
     "text": [
      "/Users/chasedawson/opt/anaconda3/envs/earth-analytics-python/lib/python3.8/site-packages/geopandas/_compat.py:106: UserWarning: The Shapely GEOS version (3.9.1dev-CAPI-1.14.1) is incompatible with the GEOS version PyGEOS was compiled with (3.9.1-CAPI-1.14.2). Conversions between both will be slow.\n",
      "  warnings.warn(\n"
     ]
    },
    {
     "data": {
      "text/plain": [
       "'/Users/chasedawson/dev/uva_equity_center/summer-sandbox/landsat8'"
      ]
     },
     "execution_count": 1,
     "metadata": {},
     "output_type": "execute_result"
    }
   ],
   "source": [
    "import pandas as pd\n",
    "import geopandas as gpd\n",
    "from datetime import datetime\n",
    "import os\n",
    "from dotenv import dotenv_values\n",
    "import numpy as np\n",
    "from rasterstats import zonal_stats\n",
    "import rasterio as rio\n",
    "from rasterio.session import AWSSession\n",
    "import boto3\n",
    "\n",
    "%matplotlib inline\n",
    "\n",
    "    \n",
    "# print current working directory\n",
    "os.getcwd()"
   ]
  },
  {
   "cell_type": "code",
   "execution_count": 2,
   "metadata": {
    "scrolled": true
   },
   "outputs": [],
   "source": [
    "# read in Landsat 8 Collection 2 Level 2 Metadata\n",
    "meta = pd.read_csv(\"https://landsat.usgs.gov/landsat/metadata_service/bulk_metadata_files/LANDSAT_OT_C2_L2.csv.gz\", compression='gzip')\n",
    "\n",
    "# add year column\n",
    "meta['year'] = meta['Date Acquired'].apply(lambda x: datetime.strptime(x, '%Y/%m/%d').year)\n",
    "\n",
    "# add month column\n",
    "meta['month'] = meta['Date Acquired'].apply(lambda x: datetime.strptime(x, '%Y/%m/%d').month)"
   ]
  },
  {
   "cell_type": "code",
   "execution_count": 3,
   "metadata": {},
   "outputs": [],
   "source": [
    "# read in wrs data\n",
    "wrs_url = 'https://d9-wret.s3.us-west-2.amazonaws.com/assets/palladium/production/s3fs-public/atoms/files/WRS2_descending_0.zip'\n",
    "wrs = gpd.read_file(wrs_url, compression = 'zip')"
   ]
  },
  {
   "cell_type": "code",
   "execution_count": 98,
   "metadata": {},
   "outputs": [
    {
     "data": {
      "text/plain": [
       "<AxesSubplot:>"
      ]
     },
     "execution_count": 98,
     "metadata": {},
     "output_type": "execute_result"
    },
    {
     "data": {
      "image/png": "[encoded data removed]",
      "text/plain": [
       "<Figure size 432x288 with 1 Axes>"
      ]
     },
     "metadata": {
      "needs_background": "light"
     },
     "output_type": "display_data"
    }
   ],
   "source": [
    "# read in cville spatial data \n",
    "cville_sp = {}\n",
    "for sp in ['counties', 'tracts', 'blkgps', 'blocks']:\n",
    "    gdf = gpd.read_file('../spatial_units/data/cville_{sp}.shp'.format(sp = sp))\n",
    "    cville_sp[sp] = gdf\n",
    "\n",
    "cville = cville_sp['counties'].dissolve()\n",
    "cville_city = cville_sp['counties'][cville_sp['counties'].COUNTYFP == \"540\"]\n",
    "cville.boundary.plot()"
   ]
  },
  {
   "cell_type": "code",
   "execution_count": 9,
   "metadata": {},
   "outputs": [],
   "source": [
    "def select_scenes(scenes, region, wrs, months = [6, 7, 8, 9], year_range = (2017, 2022), max_cloud_cover = 10):\n",
    "    \"\"\"\n",
    "    Selects scenes from bulk metadata that intersect with a provided region for desired year, months, and maximum cloud cover. Specifically,\n",
    "    select_scenes will return all scenes that intersect with region where the year the scene was acquired is >= year_range[0] and <= year_range[1], the month the scene\n",
    "    was acquired is listed in months, and the land cloud cover for the scene is <= max_cloud_cover. Also, select_scenes will only return scenes \n",
    "    captured during the day.\n",
    "\n",
    "    Parameters\n",
    "    ----------\n",
    "    scenes: landsat8 c2 l2 scenes, read in / downloaded from USGS Bulk Metadata Tool (https://landsat.usgs.gov/landsat/metadata_service/bulk_metadata_files/LANDSAT_OT_C2_L2.csv.gz)\n",
    "        DataFrame\n",
    "\n",
    "    region: target area\n",
    "        GeoDataFrame with Polygon geometry\n",
    "\n",
    "    months: months in which you want to accept scenes\n",
    "        list of integers (1 = Jan, 2 = Feb ... 12 = Dec) \n",
    "\n",
    "    year_range: inclusive range of years in which you want to accept scenes\n",
    "        tuple, (min_year, max_year)\n",
    "\n",
    "    max_cloud_cover: maximum land cloud cover permitted in a scene\n",
    "        int\n",
    "\n",
    "    Returns\n",
    "    -------\n",
    "    GeoDataFrame of selected scenes containing all metadata \n",
    "    \"\"\"\n",
    "    # intersect focus region with wrs geometries\n",
    "    wrs_intersection = wrs[wrs.intersects(region.to_crs(wrs.crs).geometry[0])]\n",
    "\n",
    "    # join wrs_intersection with scenes to add geometry info to metadata\n",
    "    scenes = wrs_intersection[['PATH', 'ROW', 'geometry']].merge(scenes, left_on = ['PATH', 'ROW'], right_on = ['WRS Path', 'WRS Row']).drop(columns=['PATH', 'ROW'])\n",
    "\n",
    "    # filter to scenes in year range\n",
    "    scenes = scenes[(scenes.year >= year_range[0]) & (scenes.year <= year_range[1])]\n",
    "    \n",
    "    # filter to scenes from given months\n",
    "    scenes = scenes[scenes.month.isin(months)]\n",
    "    \n",
    "    # filter to scenes captured during the day\n",
    "    scenes = scenes[scenes['Day/Night Indicator'] == \"DAY\"]\n",
    "    \n",
    "    # filter to scenes with land cloud cover less than max cloud cover\n",
    "    scenes = scenes[scenes['Land Cloud Cover'] <= max_cloud_cover]\n",
    "    \n",
    "    return scenes\n",
    "\n",
    "# select scenes that intersect with any part of region boundary\n",
    "intersects = select_scenes(meta, cville, wrs)"
   ]
  },
  {
   "cell_type": "code",
   "execution_count": 10,
   "metadata": {},
   "outputs": [],
   "source": [
    "def assign_groups(scenes, geoms, num_scenes = 5):\n",
    "    \"\"\"\n",
    "    Given a GeoDataFrame containing scene info and a GeoDataFrame containing target regions, assign_groups selects the top 5 scenes for each region and \n",
    "    creates a minimal list of all scenes to download. This method is useful to run after select_scenes to ensure that the smaller regions contained with the \n",
    "    broader boundary (such as the block groups within a county) are being intersected by scenes as well.\n",
    "\n",
    "    Parameters\n",
    "    ----------\n",
    "    scenes:\n",
    "\n",
    "    geoms:\n",
    "\n",
    "    Returns\n",
    "    -------\n",
    "    groups: \n",
    "\n",
    "    \"\"\"\n",
    "    # left join geoms and scenes to get a GeoDataFrame where each geom has all scenes it intersects with\n",
    "    geoms = geoms.to_crs(scenes.crs)\n",
    "    scenes_sub = scenes[['Landsat Scene Identifier', 'Land Cloud Cover', 'Date Acquired', 'month', 'year', 'geometry']]\n",
    "    geoms_sub = geoms[['GEOID', 'geometry']]\n",
    "    left_sjoin = gpd.sjoin(geoms_sub, scenes_sub, how=\"left\")\n",
    "\n",
    "    # convert to regular DataFrame, drop geometry column\n",
    "    join = pd.DataFrame(left_sjoin.drop(columns='geometry'))\n",
    "    \n",
    "    # sort by cloud cover, then geoid and year\n",
    "    join = join.sort_values(by = ['Land Cloud Cover'], ascending = True)\n",
    "    join = join.sort_values(by = ['GEOID', 'year'], ascending = False)\n",
    "\n",
    "    # get top 5 scenes for each geoid\n",
    "    groups = join.groupby('GEOID').head(num_scenes).reset_index(drop=True)\n",
    "    groups = groups[['GEOID', 'Landsat Scene Identifier']]\n",
    "    \n",
    "    # return both the groups DataFrame and the list of unique scene ids\n",
    "    return groups\n",
    "    "
   ]
  },
  {
   "cell_type": "code",
   "execution_count": 7,
   "metadata": {},
   "outputs": [],
   "source": [
    "# for each spatial group, get list of 5 best scenes for each geometry within the spatial group. \n",
    "# for example, after running this cell, groups['blocks'] is a DataFrame that matches GEOIDs (for blocks) \n",
    "# to Landsat Scene Identifiers and scene_ids['blocks'] contains a unique list of these scene identifiers\n",
    "\n",
    "groups = {}\n",
    "scene_ids = {}\n",
    "for sp in ['counties', 'tracts', 'blkgps', 'blocks']:\n",
    "\n",
    "    # get 5 best scenes for each geometry within a spatial region\n",
    "    groups[sp] = assign_groups(intersects, cville_sp[sp])\n",
    "\n",
    "    # get unique list of scene ids for each spatial region\n",
    "    scene_ids[sp] = list(np.unique(groups[sp][\"Landsat Scene Identifier\"].values))\n",
    "\n",
    "    # join groups with sp to get geometry column of block groups\n",
    "    groups[sp] = cville_sp[sp][['GEOID', 'geometry']].merge(groups[sp], how='inner')\n"
   ]
  },
  {
   "cell_type": "code",
   "execution_count": 11,
   "metadata": {},
   "outputs": [],
   "source": [
    "# method to get filename from the scene id\n",
    "def sceneIdToFile(scenes, id):\n",
    "    return scenes[scenes['Landsat Scene Identifier'] == id]['Display ID'].iloc[0] + \"_ST_B10.TIF\"\n",
    "\n",
    "# returns url to access scene on the AWS S3 bucket\n",
    "def sceneIdToS3Path(scenes, id):\n",
    "    file = sceneIdToFile(scenes, id)\n",
    "    scene = scenes[scenes['Landsat Scene Identifier'] == id]\n",
    "    year = scene['year'].iloc[0]\n",
    "    path = scene['WRS Path'].iloc[0]\n",
    "    row = scene['WRS Row'].iloc[0]\n",
    "    product = scene['Display ID'].iloc[0]\n",
    "    return \"s3://usgs-landsat/collection02/level-2/standard/oli-tirs/\" + str(year) + \"/\" + str(path).zfill(3) + \"/\" + str(row).zfill(3) + \"/\" + str(product) + \"/\" + str(file)"
   ]
  },
  {
   "cell_type": "code",
   "execution_count": 12,
   "metadata": {},
   "outputs": [],
   "source": [
    "def rescale(arr):\n",
    "    MULTIPLICATIVE_SCALE_FACTOR = 0.00341802\n",
    "    ADDITIVE_SCALE_FACTOR = 149\n",
    "    return arr * MULTIPLICATIVE_SCALE_FACTOR + ADDITIVE_SCALE_FACTOR\n",
    "\n",
    "def to_fahrenheit(arr):\n",
    "    return (arr - 273.15) * 1.8 + 32"
   ]
  },
  {
   "cell_type": "code",
   "execution_count": 13,
   "metadata": {},
   "outputs": [],
   "source": [
    "# get unique list of all scene ids regardless of spatial group\n",
    "all_scene_ids = []\n",
    "for sp in ['counties', 'tracts', 'blkgps', 'blocks']:\n",
    "    all_scene_ids += scene_ids[sp]\n",
    "\n",
    "all_scene_ids = list(np.unique(all_scene_ids))"
   ]
  },
  {
   "cell_type": "code",
   "execution_count": 14,
   "metadata": {},
   "outputs": [],
   "source": [
    "# add spatial region col to groups and combine to one data frame\n",
    "temp = gpd.GeoDataFrame()\n",
    "for sp in ['counties', 'tracts', 'blkgps', 'blocks']:\n",
    "\n",
    "    # add spatial region col\n",
    "    groups[sp]['spatial_region'] = [sp] * len(groups[sp])\n",
    "\n",
    "    # add to temp\n",
    "    temp = pd.concat([temp, groups[sp]])\n",
    "\n",
    "all_groups = temp.reset_index().drop(columns=['index'])"
   ]
  },
  {
   "cell_type": "code",
   "execution_count": 15,
   "metadata": {},
   "outputs": [],
   "source": [
    "# get scene metadata for all scenes we will analyze\n",
    "scenes = intersects[intersects['Landsat Scene Identifier'].isin(all_scene_ids)]\n",
    "assert len(all_scene_ids) == len(scenes)"
   ]
  },
  {
   "cell_type": "code",
   "execution_count": 16,
   "metadata": {},
   "outputs": [],
   "source": [
    "aws_env_path = './.aws_env'\n",
    "aws_config = dotenv_values(aws_env_path)\n",
    "aws_session = AWSSession(boto3.Session(aws_access_key_id=aws_config['AWS_ACCESS_KEY_ID'], aws_secret_access_key=aws_config['AWS_SECRET_ACCESS_KEY']), requester_pays=True)"
   ]
  },
  {
   "cell_type": "code",
   "execution_count": 17,
   "metadata": {},
   "outputs": [
    {
     "name": "stdout",
     "output_type": "stream",
     "text": [
      "opening LC80150342021197LGN00\n",
      "computing raster stats\n",
      "opening LC80150342022152LGN00\n",
      "computing raster stats\n",
      "opening LC80160332020250LGN00\n",
      "computing raster stats\n",
      "opening LC80160332020266LGN00\n",
      "computing raster stats\n",
      "opening LC80160332021156LGN00\n",
      "computing raster stats\n",
      "opening LC80160332021204LGN00\n",
      "computing raster stats\n",
      "opening LC80160332021236LGN00\n",
      "computing raster stats\n",
      "opening LC80160342020250LGN00\n",
      "computing raster stats\n",
      "opening LC80160342020266LGN00\n",
      "computing raster stats\n",
      "opening LC80160342021156LGN00\n",
      "computing raster stats\n",
      "opening LC80160342021220LGN00\n",
      "computing raster stats\n",
      "opening LC80160342021236LGN00\n",
      "computing raster stats\n"
     ]
    }
   ],
   "source": [
    "stats = pd.DataFrame()\n",
    "with rio.Env(aws_session):\n",
    "    for scene_id in all_scene_ids:\n",
    "        # get all census geometries that intersect with this scene regardless of spatial region\n",
    "        scene_intersects = all_groups[all_groups['Landsat Scene Identifier'] == scene_id]\n",
    "\n",
    "        # get s3 url to scene\n",
    "        cog = sceneIdToS3Path(intersects, scene_id)\n",
    "        print('opening ' + scene_id)\n",
    "\n",
    "        # read scene tif\n",
    "        with rio.open(cog) as src:\n",
    "            print('computing raster stats')\n",
    "\n",
    "            affine = src.transform\n",
    "            nodata = src.profile['nodata']\n",
    "            raster_data = src.read(1)\n",
    "\n",
    "            # make sure focus region crs is the same as scene\n",
    "            gdf = scene_intersects.to_crs(src.crs)\n",
    "\n",
    "            # mask nodata in raster so not included in temperature calculation\n",
    "            raster_data = np.ma.masked_array(raster_data, mask = (raster_data == nodata))\n",
    "\n",
    "            # convert kelvin values to fahrenheit values\n",
    "            raster_data = to_fahrenheit(rescale(raster_data))\n",
    "             \n",
    "            # un mask\n",
    "            raster_data = raster_data.data\n",
    "            \n",
    "            # set any values less than or equal to 32 degrees fahrenheit to nodata\n",
    "            raster_data[raster_data <= 32] = nodata\n",
    "\n",
    "            # comupute zonal stats\n",
    "            cur_stats = pd.DataFrame(zonal_stats(gdf, raster_data, affine=affine, stats = ['min', 'max', 'median', 'mean', 'count'], nodata=nodata))\n",
    "\n",
    "            # add geoid and landsat scene identifier columns\n",
    "            cur_stats['GEOID'] = gdf['GEOID'].values\n",
    "            cur_stats['Landsat Scene Identifier'] = gdf['Landsat Scene Identifier'].values\n",
    "\n",
    "            # concat\n",
    "            stats = pd.concat([stats, cur_stats])"
   ]
  },
  {
   "cell_type": "code",
   "execution_count": 24,
   "metadata": {},
   "outputs": [],
   "source": [
    "# remove rows where count = 0\n",
    "stats = stats[stats['count'] > 0]"
   ]
  },
  {
   "cell_type": "code",
   "execution_count": 34,
   "metadata": {},
   "outputs": [],
   "source": [
    "# https://www.statology.org/pandas-weighted-average/\n",
    "def weighted_average(df, values, weights):\n",
    "    d = df[values]\n",
    "    w = df[weights]\n",
    "    return (d * w).sum() / w.sum()"
   ]
  },
  {
   "cell_type": "code",
   "execution_count": 42,
   "metadata": {},
   "outputs": [],
   "source": [
    "# computed weighted average of temperature columns where weights are the number of pixels intersected in the zonal stats operation\n",
    "mean = stats.groupby('GEOID').apply(weighted_average, 'mean', 'count')\n",
    "median = stats.groupby('GEOID').apply(weighted_average, 'median', 'count')\n",
    "min_ = stats.groupby('GEOID').apply(weighted_average, 'min', 'count')\n",
    "max_ = stats.groupby('GEOID').apply(weighted_average, 'max', 'count')"
   ]
  },
  {
   "cell_type": "code",
   "execution_count": 85,
   "metadata": {},
   "outputs": [],
   "source": [
    "# combine series into dataframe\n",
    "grp_stats = pd.concat([mean, median, min_, max_], axis = 1).rename(columns = {0: 'mean', 1: 'median', 2: 'min', 3: 'max'}).reset_index()"
   ]
  },
  {
   "cell_type": "code",
   "execution_count": 88,
   "metadata": {},
   "outputs": [],
   "source": [
    "grp_stats = grp_stats.merge(all_groups[[\"GEOID\", \"spatial_region\"]].drop_duplicates(), on=\"GEOID\", how='inner')"
   ]
  },
  {
   "cell_type": "code",
   "execution_count": 97,
   "metadata": {},
   "outputs": [],
   "source": [
    "# write to csv\n",
    "for sp in ['counties', 'tracts', 'blkgps', 'blocks']:\n",
    "    grp_stats[grp_stats['spatial_region'] == sp].to_csv(f'landsat8_cville_{sp}.csv')"
   ]
  }
 ],
 "metadata": {
  "kernelspec": {
   "display_name": "earth-analytics-python",
   "language": "python",
   "name": "earth-analytics-python"
  },
  "language_info": {
   "codemirror_mode": {
    "name": "ipython",
    "version": 3
   },
   "file_extension": ".py",
   "mimetype": "text/x-python",
   "name": "python",
   "nbconvert_exporter": "python",
   "pygments_lexer": "ipython3",
   "version": "3.8.10"
  }
 },
 "nbformat": 4,
 "nbformat_minor": 4
}
