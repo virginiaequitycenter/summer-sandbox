{
 "cells": [
  {
   "cell_type": "code",
   "execution_count": 1,
   "metadata": {},
   "outputs": [
    {
     "data": {
      "text/plain": [
       "'/Users/chasedawson/dev/uva_equity_center/climate_equity'"
      ]
     },
     "execution_count": 1,
     "metadata": {},
     "output_type": "execute_result"
    }
   ],
   "source": [
    "# load libraries\n",
    "import json\n",
    "import requests\n",
    "from dotenv import dotenv_values\n",
    "import sys\n",
    "import os\n",
    "import time\n",
    "import re\n",
    "\n",
    "# print cwd\n",
    "os.getcwd()"
   ]
  },
  {
   "cell_type": "code",
   "execution_count": 2,
   "metadata": {},
   "outputs": [],
   "source": [
    "# send http request\n",
    "def sendRequest(url, data, apiKey = None):\n",
    "    json_data = json.dumps(data)\n",
    "    \n",
    "    if apiKey == None:\n",
    "        response = requests.post(url, json_data)\n",
    "    else:\n",
    "        headers = {'X-Auth-Token': apiKey}\n",
    "        response = requests.post(url, json_data, headers = headers)\n",
    "        \n",
    "        \n",
    "    try:\n",
    "        httpStatusCode = response.status_code\n",
    "        \n",
    "        if response == None:\n",
    "            print(\"No output from service!\")\n",
    "            sys.exit()\n",
    "            \n",
    "        output = json.loads(response.text)\n",
    "        if output['errorCode'] != None:\n",
    "            print(output['errorCode'], \"- \", output['errorMessage'])\n",
    "            sys.exit()\n",
    "            \n",
    "        if httpStatusCode == 404:\n",
    "            print(\"404 Not Found\")\n",
    "            sys.exit()\n",
    "            \n",
    "        elif httpStatusCode == 401:\n",
    "            print(\"401 Unauthorized\")\n",
    "            sys.exit()\n",
    "            \n",
    "        elif httpStatusCode == 400:\n",
    "            print(\"Error Code\", httpStatusCode)\n",
    "            sys.exit()\n",
    "            \n",
    "    except Exception as e:\n",
    "        response.close()\n",
    "        print(e)\n",
    "        sys.exit()\n",
    "    \n",
    "    response.close()\n",
    "    return output['data']\n",
    "        "
   ]
  },
  {
   "cell_type": "code",
   "execution_count": 3,
   "metadata": {},
   "outputs": [],
   "source": [
    "# logs-in using credentials and returns apiKey if successful\n",
    "def login(username, password):\n",
    "    serviceUrl = \"https://m2m.cr.usgs.gov/api/api/json/stable/\"\n",
    "\n",
    "    # login information\n",
    "    payload = {'username': username, 'password': password}\n",
    "\n",
    "    # get apiKey \n",
    "    apiKey = sendRequest(serviceUrl + \"login\", payload)\n",
    "    \n",
    "    return apiKey\n",
    "\n",
    "# call when finished working to ensure that no one else can use the API key\n",
    "def logout(apiKey):\n",
    "    serviceUrl = \"https://m2m.cr.usgs.gov/api/api/json/stable/\"\n",
    "    endpoint = \"logout\"\n",
    "    if sendRequest(serviceUrl + endpoint, None, apiKey) == None:\n",
    "        print(\"Logged Out\\n\\n\")\n",
    "    else:\n",
    "        print(\"Logout Failed\\n\\n\")"
   ]
  },
  {
   "cell_type": "code",
   "execution_count": 4,
   "metadata": {},
   "outputs": [],
   "source": [
    "# load username and password from .env\n",
    "config = dotenv_values('.env')\n",
    "apiKey = login(config[\"USGS_USERNAME\"], config[\"USGS_PASSWORD\"])"
   ]
  },
  {
   "cell_type": "code",
   "execution_count": 5,
   "metadata": {},
   "outputs": [],
   "source": [
    "eastern_shore_bounds = {'upperRight': {'latitude': 38.08422, 'longitude': -75.07674},\n",
    "                       'lowerLeft': {'latitude': 37.02165, 'longitude': -76.16713}}\n",
    "\n",
    "cville_bounds = {'upperRight': {'latitude': 38.07493, 'longitude': -78.43942},\n",
    "                'lowerLeft': {'latitude': 38.00855, 'longitude': -78.54259}}"
   ]
  },
  {
   "cell_type": "code",
   "execution_count": 6,
   "metadata": {},
   "outputs": [],
   "source": [
    "# dataset-search\n",
    "serviceUrl = \"https://m2m.cr.usgs.gov/api/api/json/stable/\"\n",
    "endpoint = \"dataset-search\"\n",
    "\n",
    "datasetName = \"TIRS\"\n",
    "spatialFilter = {'filterType': 'mbr',\n",
    "                'upperRight': cville_bounds['upperRight'],\n",
    "                'lowerLeft': cville_bounds['lowerLeft']}\n",
    "temporalFilter = {'start': '2020-06-21', 'end': '2020-09-21'}\n",
    "payload = {'datasetName': datasetName,\n",
    "          'spatialFilter': spatialFilter,\n",
    "          'temporalFilter': temporalFilter}\n",
    "\n",
    "datasets = sendRequest(serviceUrl + endpoint, payload, apiKey)"
   ]
  },
  {
   "cell_type": "code",
   "execution_count": 7,
   "metadata": {},
   "outputs": [
    {
     "data": {
      "text/plain": [
       "4"
      ]
     },
     "execution_count": 7,
     "metadata": {},
     "output_type": "execute_result"
    }
   ],
   "source": [
    "len(datasets)"
   ]
  },
  {
   "cell_type": "code",
   "execution_count": 8,
   "metadata": {},
   "outputs": [
    {
     "name": "stdout",
     "output_type": "stream",
     "text": [
      "landsat_8_c1\n",
      "The USGS Earth Resources Observation and Science (EROS) Center archive holds data collected by the Landsat suite of satellites, beginning with Landsat 1 in 1972.  Landsat 8, launched February 11, 2013, is the latest Landsat sensor.\n",
      "\n",
      "\n",
      "lsr_landsat_8_c1\n",
      "The USGS Earth Resources Observation and Science (EROS) Center archive holds data collected by the Landsat suite of satellites, beginning with Landsat 1 in 1972.  Landsat 8, launched February 11, 2013, is the latest Landsat sensor.\n",
      "\n",
      "\n",
      "landsat_ot_c2_l1\n",
      "The USGS Earth Resources Observation and Science (EROS) Center archive holds data collected by the Landsat suite of satellites, beginning with Landsat 1 in 1972.  Landsat 8, launched February 11, 2013, is the latest Landsat sensor.\n",
      "\n",
      "\n",
      "landsat_ot_c2_l2\n",
      "The USGS Earth Resources Observation and Science (EROS) Center archive holds data collected by the Landsat suite of satellites, beginning with Landsat 1 in 1972.  Landsat 8, launched February 11, 2013, is the latest Landsat sensor.\n",
      "\n",
      "\n"
     ]
    }
   ],
   "source": [
    "for dataset in datasets:\n",
    "    print(dataset['datasetAlias'])\n",
    "    print(dataset['abstractText'])\n",
    "    print('\\n')"
   ]
  },
  {
   "cell_type": "code",
   "execution_count": 9,
   "metadata": {},
   "outputs": [
    {
     "data": {
      "text/plain": [
       "{'abstractText': 'The USGS Earth Resources Observation and Science (EROS) Center archive holds data collected by the Landsat suite of satellites, beginning with Landsat 1 in 1972.  Landsat 8, launched February 11, 2013, is the latest Landsat sensor.',\n",
       " 'acquisitionStart': '2013-04-11',\n",
       " 'acquisitionEnd': None,\n",
       " 'catalogs': ['EE'],\n",
       " 'collectionName': 'Landsat 8 OLI/TIRS C2 L2',\n",
       " 'collectionLongName': 'Landsat 8 Operational Land Imager and Thermal Infrared Sensor Collection 2 Level-2',\n",
       " 'datasetId': '5e83d14f2fc39685',\n",
       " 'datasetAlias': 'landsat_ot_c2_l2',\n",
       " 'datasetCategoryName': 'Landsat Collection 2 Level-2',\n",
       " 'dataOwner': 'LSAA',\n",
       " 'dateUpdated': '2020-12-02 16:29:18.381513-06',\n",
       " 'doiNumber': 'https://doi.org/10.5066/P9OGBGM6 ',\n",
       " 'ingestFrequency': 'P1D',\n",
       " 'keywords': 'None,Visible Wavelengths,Earth Science,Infrared Wavelengths,Infrared Imagery,Imagery ,Earth Resources Observation and Science (EROS) Center,Coastal Aerosol ,Visible Imagery,U.S. Geological Survey (USGS),Thermal Infrared Sensor (TIRS),Landsat 8 Collection 1,Operational Land Imager (OLI),Radiance,Remote Sensing,Satellite,ISO 19115 Topic Category,ImageryBaseMapsEarthCover',\n",
       " 'legacyId': 9885,\n",
       " 'sceneCount': 1811089,\n",
       " 'spatialBounds': {'north': 84.44182683484,\n",
       "  'east': 194.444152275841,\n",
       "  'south': -84.5179167308749,\n",
       "  'west': -180.009966964847},\n",
       " 'temporalCoverage': '[\"2013-03-18 00:00:00-05\",\"2021-06-17 00:00:00-05\"]',\n",
       " 'supportCloudCover': True,\n",
       " 'supportDeletionSearch': False}"
      ]
     },
     "execution_count": 9,
     "metadata": {},
     "output_type": "execute_result"
    }
   ],
   "source": [
    "datasetName = \"landsat_ot_c2_l2\"\n",
    "payload = {'datasetName': datasetName}\n",
    "dataset = sendRequest(serviceUrl + \"dataset\", payload, apiKey)\n",
    "dataset"
   ]
  },
  {
   "cell_type": "code",
   "execution_count": 10,
   "metadata": {},
   "outputs": [
    {
     "name": "stdout",
     "output_type": "stream",
     "text": [
      "Searching Scenes...\n",
      "Found 4 Scene(s)\n"
     ]
    }
   ],
   "source": [
    "# search and find scenes in landsat_ot_c2_l2 that I can download\n",
    "payload = {\n",
    "    'datasetName': datasetName,\n",
    "    'maxResults': 4,\n",
    "    'startingNumber': 1,\n",
    "    'sceneFilter': {\n",
    "        'spatialFilter': {\n",
    "            'filterType': 'mbr',\n",
    "            'lowerLeft': cville_bounds['lowerLeft'],\n",
    "            'upperRight': cville_bounds['upperRight']\n",
    "        },\n",
    "        'acquisitionFilter': {\n",
    "            'start': '2020-06-21',\n",
    "            'end': '2020-09-21'\n",
    "        },\n",
    "        'cloudCoverFilter': {\n",
    "            'max': 10,\n",
    "            'min': 0,\n",
    "            'includeUnknown': False\n",
    "        }\n",
    "    }\n",
    "}\n",
    "\n",
    "print(\"Searching Scenes...\")\n",
    "scenes = sendRequest(serviceUrl + \"scene-search\", payload, apiKey)\n",
    "print(\"Found {num_scenes} Scene(s)\".format(num_scenes = scenes['recordsReturned']))"
   ]
  },
  {
   "cell_type": "code",
   "execution_count": 11,
   "metadata": {},
   "outputs": [],
   "source": [
    "sceneIds = []\n",
    "for result in scenes['results']:\n",
    "    sceneIds.append(result['entityId'])\n",
    "    \n",
    "payload = {'datasetName': datasetName, 'entityIds': sceneIds}\n",
    "downloadOptions = sendRequest(serviceUrl + \"download-options\", payload, apiKey)\n",
    "\n",
    "# Aggregate a list of available products\n",
    "downloads = []\n",
    "for product in downloadOptions:\n",
    "    # make sure the product is available for this scene\n",
    "    if product['available'] == True:\n",
    "        downloads.append({'entityId': product['entityId'],\n",
    "                         'productId': product['id']})"
   ]
  },
  {
   "cell_type": "code",
   "execution_count": 12,
   "metadata": {},
   "outputs": [],
   "source": [
    "if downloads: \n",
    "    requestedDownloadsCount = len(downloads)\n",
    "    # set a label for the download request\n",
    "    label = 'cville-summer-2020-download'\n",
    "    payload = {'downloads': downloads, \n",
    "              'label': label}\n",
    "    requestResults = sendRequest(serviceUrl + \"download-request\", payload, apiKey)"
   ]
  },
  {
   "cell_type": "code",
   "execution_count": 13,
   "metadata": {},
   "outputs": [],
   "source": [
    "# use content-disposition to get filename\n",
    "def getFilename_fromCd(cd):\n",
    "    if not cd:\n",
    "        return None\n",
    "    fname = re.findall('filename=(.+)', cd)\n",
    "    if len(fname) == 0:\n",
    "        return None\n",
    "    \n",
    "    return re.sub('\\\"', '', fname[0]) # remove extra quotes\n",
    "\n",
    "def download_file(link):\n",
    "    res = requests.get(link)\n",
    "    filename = getFilename_fromCd(res.headers.get('content-disposition'))\n",
    "    open(filename, 'wb').write(res.content)\n",
    "    "
   ]
  },
  {
   "cell_type": "code",
   "execution_count": 15,
   "metadata": {},
   "outputs": [
    {
     "name": "stdout",
     "output_type": "stream",
     "text": [
      "DOWNLOADING: https://dds.cr.usgs.gov/download/eyJpZCI6NDgzNTE5NDgsImNvbnRhY3RJZCI6MjYwOTAwNjN9\n",
      "DOWNLOADING: https://dds.cr.usgs.gov/download/eyJpZCI6NDgzNTE5NDksImNvbnRhY3RJZCI6MjYwOTAwNjN9\n",
      "DOWNLOADING: https://dds.cr.usgs.gov/download/eyJpZCI6NDgzNTAxODEsImNvbnRhY3RJZCI6MjYwOTAwNjN9\n",
      "DOWNLOADING: https://dds.cr.usgs.gov/download/eyJpZCI6NDgzNTAxODIsImNvbnRhY3RJZCI6MjYwOTAwNjN9\n",
      "\n",
      "All files have been downloaded.\n",
      "\n"
     ]
    }
   ],
   "source": [
    "# after submitting, preparingDownloads has a valid link that can be used but data may \n",
    "# not be immediately available\n",
    "if requestResults['preparingDownloads'] != None and len(requestResults['preparingDownloads']) > 0:\n",
    "    payload = {'label': label}  \n",
    "    moreDownloadUrls = sendRequest(serviceUrl + \"download-retrieve\", payload, apiKey)\n",
    "    downloadIds = []\n",
    "    for download in moreDownloadUrls['available']:\n",
    "        downloadIds.append(download['downloadId'])\n",
    "        print(\"DOWNLOAD: \" + download['url'])\n",
    "    \n",
    "    for download in moreDownloadUrls['requested']:\n",
    "        downloadIds.append(download['downloadId'])\n",
    "        print(\"DOWNLOAD: \" + download['url'])\n",
    "        \n",
    "    # didn't get all requested downloads, call the download-retrieve endpoint again\n",
    "    while len(downloadIds) < requestedDownloadsCount:\n",
    "        preparingDownloads = requestedDownloadsCount - len(downloadIds)\n",
    "        print('\\n', preparingDownloads, \"download(s) are not available. Waiting for 30 seconds.\\n\")\n",
    "        time.sleep(30)\n",
    "        print(\"Trying to retrieve data\\n\")\n",
    "        moreDownloadUrls = sendRequest(serviceUrl + \"download-retrieve\", payload, apiKey)\n",
    "        for download in moreDownloadUrls['available']:\n",
    "            if download['downloadId'] not in downloadIds:\n",
    "                downloadIds.append(download['downloadId'])\n",
    "                print(\"DOWNLOAD: \" + download['url'])\n",
    "else:\n",
    "    # get all available downloads\n",
    "    for download in requestResults['availableDownloads']:\n",
    "        link = download['url']\n",
    "        print(\"DOWNLOADING: \" + link)\n",
    "        download_file(link)\n",
    "\n",
    "        # download_file(download['url'])\n",
    "    print(\"\\nAll files have been downloaded.\\n\")"
   ]
  },
  {
   "cell_type": "code",
   "execution_count": 16,
   "metadata": {},
   "outputs": [],
   "source": [
    "# References\n",
    "# [Downloading Files From Web Using Python](https://www.tutorialspoint.com/downloading-files-from-web-using-python)\n",
    "# [Jupyter Tips and Tricks](https://chrieke.medium.com/jupyter-tips-and-tricks-994fdddb2057)\n",
    "# [USGS/EROS Inventory Service Documentation (Machine-to-Machine) API](https://m2m.cr.usgs.gov/api/docs/json/#section-overview)\n"
   ]
  },
  {
   "cell_type": "code",
   "execution_count": null,
   "metadata": {},
   "outputs": [],
   "source": []
  }
 ],
 "metadata": {
  "kernelspec": {
   "display_name": "climate_equity",
   "language": "python",
   "name": "climate_equity"
  },
  "language_info": {
   "codemirror_mode": {
    "name": "ipython",
    "version": 3
   },
   "file_extension": ".py",
   "mimetype": "text/x-python",
   "name": "python",
   "nbconvert_exporter": "python",
   "pygments_lexer": "ipython3",
   "version": "3.8.5"
  }
 },
 "nbformat": 4,
 "nbformat_minor": 4
}
