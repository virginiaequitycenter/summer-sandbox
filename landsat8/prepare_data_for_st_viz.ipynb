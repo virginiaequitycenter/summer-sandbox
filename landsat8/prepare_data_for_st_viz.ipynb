{
 "cells": [
  {
   "cell_type": "code",
   "execution_count": 1,
   "metadata": {},
   "outputs": [
    {
     "data": {
      "text/plain": [
       "'/Users/chasedawson/dev/uva_equity_center/summer-sandbox/landsat8'"
      ]
     },
     "execution_count": 1,
     "metadata": {},
     "output_type": "execute_result"
    }
   ],
   "source": [
    "import geopandas as gpd\n",
    "import pandas as pd\n",
    "import os\n",
    "\n",
    "os.getcwd()"
   ]
  },
  {
   "cell_type": "code",
   "execution_count": 17,
   "metadata": {},
   "outputs": [],
   "source": [
    "# load in data\n",
    "# surface temp data\n",
    "temp = {}\n",
    "for key in ['counties', 'tracts', 'blkgps', 'blocks']:\n",
    "    temp[key] = pd.read_csv(\"../cville_region_collection/data/landsat8_cville_city_{sp}.csv\".format(sp = key), index_col = 0)\n",
    "    \n",
    "# spatial geometries\n",
    "geom = {}\n",
    "for key in ['counties', 'tracts', 'blkgps', 'blocks']:\n",
    "    geom[key] = gpd.read_file('../spatial_units/data/cville_{sp}.shp'.format(sp = key))"
   ]
  },
  {
   "cell_type": "code",
   "execution_count": 18,
   "metadata": {},
   "outputs": [],
   "source": [
    "# select variables of interest\n",
    "temp_voi = [\"file\", \"min\", \"max\", \"mean\", \"count\", \"median\", \"nodata\", \"prop_nodata\", \"spatial_unit\", \"GEOID\", \"Date Acquired\", \"Start Time\", \"Stop Time\", \"Day/Night Indicator\", \"Land Cloud Cover\", \"Sun Elevation L0RA\", \"Sun Azimuth L0RA\"]\n",
    "geom_voi = [\"GEOID\", \"geometry\"]\n",
    "\n",
    "for key in temp:\n",
    "    temp[key] = temp[key][temp_voi]\n",
    "    temp[key].GEOID = temp[key].GEOID.apply(lambda x: str(x))\n",
    "    \n",
    "for key in geom:\n",
    "    geom[key] = geom[key][geom_voi]\n",
    "    geom[key].GEOID = geom[key].GEOID.apply(lambda x: str(x))"
   ]
  },
  {
   "cell_type": "code",
   "execution_count": 19,
   "metadata": {},
   "outputs": [],
   "source": [
    "for key in geom:\n",
    "    geom[key] = geom[key].merge(temp[key], on=\"GEOID\")"
   ]
  },
  {
   "cell_type": "code",
   "execution_count": 22,
   "metadata": {},
   "outputs": [],
   "source": [
    "out = gpd.GeoDataFrame()\n",
    "for key in geom:\n",
    "    out = out.append(geom[key])"
   ]
  },
  {
   "cell_type": "code",
   "execution_count": 27,
   "metadata": {},
   "outputs": [],
   "source": [
    "out.to_file('cville_city_st_viz.geojson', driver='GeoJSON')"
   ]
  }
 ],
 "metadata": {
  "kernelspec": {
   "display_name": "earth-analytics-python",
   "language": "python",
   "name": "earth-analytics-python"
  },
  "language_info": {
   "codemirror_mode": {
    "name": "ipython",
    "version": 3
   },
   "file_extension": ".py",
   "mimetype": "text/x-python",
   "name": "python",
   "nbconvert_exporter": "python",
   "pygments_lexer": "ipython3",
   "version": "3.8.10"
  }
 },
 "nbformat": 4,
 "nbformat_minor": 4
}
