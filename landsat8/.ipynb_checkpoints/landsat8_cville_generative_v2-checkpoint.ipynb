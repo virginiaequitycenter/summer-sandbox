{
 "cells": [
  {
   "cell_type": "code",
   "execution_count": 117,
   "metadata": {},
   "outputs": [
    {
     "data": {
      "text/plain": [
       "'/Users/chasedawson/dev/uva_equity_center/summer-sandbox/landsat8'"
      ]
     },
     "execution_count": 117,
     "metadata": {},
     "output_type": "execute_result"
    }
   ],
   "source": [
    "# import libraries\n",
    "import os\n",
    "import sys\n",
    "import importlib\n",
    "import geopandas as gpd\n",
    "import matplotlib.pyplot as plt\n",
    "from dotenv import dotenv_values\n",
    "import rasterio as rio\n",
    "import rioxarray as rxr\n",
    "from shapely.geometry import mapping\n",
    "import earthpy as et\n",
    "import earthpy.plot as ep\n",
    "\n",
    "%matplotlib inline\n",
    "\n",
    "# load Landsat8_API_Accessor\n",
    "sys.path.append('/Users/chasedawson/dev/landsat8_api')\n",
    "\n",
    "import landsat8_api\n",
    "importlib.reload(landsat8_api)\n",
    "from landsat8_api import Landsat8_API_Accessor\n",
    "\n",
    "# remove module path from path\n",
    "sys.path.pop()\n",
    "    \n",
    "# print current working directory\n",
    "os.getcwd()"
   ]
  },
  {
   "cell_type": "code",
   "execution_count": 68,
   "metadata": {},
   "outputs": [
    {
     "data": {
      "image/png": "[encoded data removed]",
      "text/plain": [
       "<Figure size 432x288 with 1 Axes>"
      ]
     },
     "metadata": {
      "needs_background": "light"
     },
     "output_type": "display_data"
    }
   ],
   "source": [
    "# read in cville spatial data \n",
    "cville_sp = {}\n",
    "for sp in ['counties', 'tracts', 'blkgps', 'blocks']:\n",
    "    gdf = gpd.read_file('../spatial_units/data/cville_{sp}.shp'.format(sp = sp))\n",
    "    gdf = gdf[gdf.COUNTYFP == \"540\"]\n",
    "    cville_sp[sp] = gdf\n",
    "    \n",
    "# plot cville city boundary\n",
    "cville = cville_sp['counties'][cville_sp['counties'].COUNTYFP == \"540\"]\n",
    "cville.boundary.plot()\n",
    "plt.show()"
   ]
  },
  {
   "cell_type": "code",
   "execution_count": 7,
   "metadata": {},
   "outputs": [],
   "source": [
    "config = dotenv_values('.env')"
   ]
  },
  {
   "cell_type": "code",
   "execution_count": 94,
   "metadata": {},
   "outputs": [
    {
     "name": "stdout",
     "output_type": "stream",
     "text": [
      "Login Successful\n"
     ]
    }
   ],
   "source": [
    "accessor = Landsat8_API_Accessor(config['USGS_USERNAME'], config['USGS_PASSWORD'])"
   ]
  },
  {
   "cell_type": "code",
   "execution_count": 43,
   "metadata": {},
   "outputs": [],
   "source": [
    "SEARCH_START = \"2013-06-00\"\n",
    "SEARCH_END = \"2021-08-31\""
   ]
  },
  {
   "cell_type": "code",
   "execution_count": 120,
   "metadata": {},
   "outputs": [
    {
     "name": "stdout",
     "output_type": "stream",
     "text": [
      "Preparing 11 downloads.\n",
      "Downloading LC08_L2SP_016034_20160826_20200906_02_T1_ST_B10.TIF...\n",
      "Downloading LC08_L2SP_016034_20170930_20200903_02_T1_ST_B10.TIF...\n",
      "Downloading LC08_L2SP_016034_20190702_20200827_02_T1_ST_B10.TIF...\n",
      "Downloading LC08_L2SP_016034_20190920_20200826_02_T1_ST_B10.TIF...\n",
      "Downloading LC08_L2SP_016034_20170610_20201015_02_T1_ST_B10.TIF...\n",
      "Downloaded LC08_L2SP_016034_20170610_20201015_02_T1_ST_B10.TIF.\n",
      "Downloading LC08_L2SP_016034_20150707_20200909_02_T1_ST_B10.TIF...\n",
      "Downloaded LC08_L2SP_016034_20170930_20200903_02_T1_ST_B10.TIF.\n",
      "Downloading LC08_L2SP_016034_20140922_20200910_02_T1_ST_B10.TIF...\n",
      "Downloaded LC08_L2SP_016034_20160826_20200906_02_T1_ST_B10.TIF.\n",
      "Downloaded LC08_L2SP_016034_20190702_20200827_02_T1_ST_B10.TIF.\n",
      "Downloading LC08_L2SP_016034_20140704_20200911_02_T1_ST_B10.TIF...\n",
      "Downloading LC08_L2SP_016034_20140618_20200911_02_T1_ST_B10.TIF...\n",
      "Downloaded LC08_L2SP_016034_20190920_20200826_02_T1_ST_B10.TIF.\n",
      "Downloading LC08_L2SP_016033_20210723_20210729_02_T1_ST_B10.TIF...\n",
      "Downloaded LC08_L2SP_016033_20210723_20210729_02_T1_ST_B10.TIF.\n",
      "Downloading LC08_L2SP_016033_20190920_20200826_02_T1_ST_B10.TIF...\n",
      "Downloaded LC08_L2SP_016034_20150707_20200909_02_T1_ST_B10.TIF.\n",
      "Downloading LC08_L2SP_016033_20190702_20200827_02_T1_ST_B10.TIF...\n",
      "Downloaded LC08_L2SP_016034_20140922_20200910_02_T1_ST_B10.TIF.\n",
      "Downloading LC08_L2SP_016033_20180629_20200831_02_T1_ST_B10.TIF...\n",
      "Downloaded LC08_L2SP_016034_20140704_20200911_02_T1_ST_B10.TIF.\n",
      "Downloading LC08_L2SP_016033_20170813_20200903_02_T1_ST_B10.TIF...\n",
      "Downloaded LC08_L2SP_016034_20140618_20200911_02_T1_ST_B10.TIF.\n",
      "Downloading LC08_L2SP_016033_20140704_20200911_02_T1_ST_B10.TIF...\n",
      "Downloaded LC08_L2SP_016033_20190920_20200826_02_T1_ST_B10.TIF.\n",
      "Downloading LC08_L2SP_016033_20200922_20201005_02_T1_ST_B10.TIF...\n",
      "Downloaded LC08_L2SP_016033_20200922_20201005_02_T1_ST_B10.TIF.\n",
      "Downloading LC08_L2SP_016033_20210824_20210901_02_T1_ST_B10.TIF...\n",
      "Downloaded LC08_L2SP_016033_20210824_20210901_02_T1_ST_B10.TIF.\n",
      "Downloading LC08_L2SP_016034_20210824_20210901_02_T1_ST_B10.TIF...\n",
      "Downloaded LC08_L2SP_016034_20210824_20210901_02_T1_ST_B10.TIF.\n",
      "Downloading LC08_L2SP_016034_20210808_20210819_02_T1_ST_B10.TIF...\n",
      "Downloaded LC08_L2SP_016034_20210808_20210819_02_T1_ST_B10.TIF.\n",
      "Downloading LC08_L2SP_016034_20200720_20210330_02_T1_ST_B10.TIF...\n",
      "Downloaded LC08_L2SP_016034_20200720_20210330_02_T1_ST_B10.TIF.\n",
      "Downloading LC08_L2SP_016034_20200704_20200913_02_T1_ST_B10.TIF...\n",
      "Downloaded LC08_L2SP_016034_20200704_20200913_02_T1_ST_B10.TIF.\n",
      "Downloading LC08_L2SP_016034_20200906_20200918_02_T1_ST_B10.TIF...\n",
      "Downloaded LC08_L2SP_016034_20200906_20200918_02_T1_ST_B10.TIF.\n",
      "Downloading LC08_L2SP_016033_20210605_20210614_02_T1_ST_B10.TIF...\n",
      "Downloaded LC08_L2SP_016033_20210605_20210614_02_T1_ST_B10.TIF.\n",
      "Downloading LC08_L2SP_016033_20200906_20200918_02_T1_ST_B10.TIF...\n",
      "Downloaded LC08_L2SP_016033_20200906_20200918_02_T1_ST_B10.TIF.\n",
      "Downloading LC08_L2SP_016034_20200922_20201005_02_T1_ST_B10.TIF...\n",
      "Downloaded LC08_L2SP_016033_20190702_20200827_02_T1_ST_B10.TIF.\n",
      "Downloading LC08_L2SP_016034_20210605_20210614_02_T1_ST_B10.TIF...\n",
      "Downloaded LC08_L2SP_016034_20200922_20201005_02_T1_ST_B10.TIF.\n",
      "Downloaded LC08_L2SP_016034_20210605_20210614_02_T1_ST_B10.TIF.\n",
      "Downloaded LC08_L2SP_016033_20170813_20200903_02_T1_ST_B10.TIF.\n",
      "Downloaded LC08_L2SP_016033_20180629_20200831_02_T1_ST_B10.TIF.\n",
      "Downloaded LC08_L2SP_016033_20140704_20200911_02_T1_ST_B10.TIF.\n"
     ]
    },
    {
     "name": "stderr",
     "output_type": "stream",
     "text": [
      "/Users/chasedawson/dev/landsat8_api/landsat8_api.py:475: FutureWarning: Assigning CRS to a GeoDataFrame without a geometry column is now deprecated and will not be supported in the future.\n",
      "  \n"
     ]
    }
   ],
   "source": [
    "res = accessor.get_surface_temperature_data(cville, (SEARCH_START, SEARCH_END), max_results = 50)"
   ]
  },
  {
   "cell_type": "code",
   "execution_count": 121,
   "metadata": {},
   "outputs": [],
   "source": [
    "res.to_csv('metadata.csv')"
   ]
  },
  {
   "cell_type": "code",
   "execution_count": 101,
   "metadata": {},
   "outputs": [
    {
     "data": {
      "text/plain": [
       "'/Users/chasedawson/dev/uva_equity_center/summer-sandbox/landsat8'"
      ]
     },
     "execution_count": 101,
     "metadata": {},
     "output_type": "execute_result"
    }
   ],
   "source": [
    "os.getcwd()"
   ]
  },
  {
   "cell_type": "code",
   "execution_count": 122,
   "metadata": {},
   "outputs": [],
   "source": [
    "relative_path_to_data_folder = \"./st_b10_data\"\n",
    "relative_path_to_metadata = \"./metadata.csv\""
   ]
  },
  {
   "cell_type": "code",
   "execution_count": 123,
   "metadata": {},
   "outputs": [],
   "source": [
    "import glob\n",
    "\n",
    "tif_files = glob.glob(relative_path_to_data_folder + \"/*.TIF\")"
   ]
  },
  {
   "cell_type": "code",
   "execution_count": 125,
   "metadata": {},
   "outputs": [],
   "source": [
    "def clip_rasters(files, boundary):\n",
    "    \"\"\"\n",
    "    Clip set of rasters given shapefiles. Saves these files in\n",
    "    'landsat8_c2_l2_data/basename/clipped'. With the geographic region and\n",
    "    spatial resolution encoded in the name.\n",
    "    \n",
    "    Parameters\n",
    "    ----------\n",
    "    files : list, required\n",
    "        List of raster file base names to be clipped.\n",
    "    \n",
    "    shp_data : dict, required\n",
    "        Geometry data for given region. A dictionary containing geometries for different spatial resolutions.\n",
    "        \n",
    "    basename : str, required\n",
    "        Name of geographic region. Either 'cville' or 'easternShore'.\n",
    "    \"\"\"\n",
    "    for path in files:\n",
    "        with rio.open(path) as src:\n",
    "            boundary = boundary.to_crs(src.crs)\n",
    "        raster_data = rxr.open_rasterio(path, masked=True).squeeze()\n",
    "        raster_clipped = raster_data.rio.clip(boundary.geometry.apply(mapping), boundary.crs)\n",
    "        # export clipped raster\n",
    "        raster_clipped.rio.to_raster(path)"
   ]
  },
  {
   "cell_type": "code",
   "execution_count": 126,
   "metadata": {},
   "outputs": [],
   "source": [
    "clip_rasters(tif_files, cville)"
   ]
  },
  {
   "cell_type": "code",
   "execution_count": 129,
   "metadata": {},
   "outputs": [],
   "source": [
    "from rasterstats import zonal_stats\n",
    "import pandas as pd\n",
    "\n",
    "def my_masked_count(x):\n",
    "    return np.ma.count_masked(x)\n",
    "\n",
    "# read in clipped files\n",
    "# stats notes\n",
    "# count is the non_masked count\n",
    "# masked values can be nodata or otherwise masked\n",
    "def compute_zonal_stats(files, shp_data):\n",
    "    stats = pd.DataFrame()\n",
    "    for path in files:\n",
    "        with rio.open(path) as src:\n",
    "            affine = src.transform\n",
    "            nodata = src.profile['nodata']\n",
    "            raster_data = src.read(1)\n",
    "            for key in shp_data:\n",
    "                gdf = shp_data[key]\n",
    "                gdf = gdf.to_crs(src.crs)\n",
    "                for i in range(len(gdf)):\n",
    "                    geoId = gdf.iloc[i].GEOID\n",
    "                    geom_data = gdf[gdf.GEOID == geoId]\n",
    "                    geom_stats = pd.DataFrame(zonal_stats(geom_data, raster_data, affine=affine, stats = ['min','max','median','mean','nodata','count'], add_stats={'masked_count': my_masked_count}, nodata=nodata))\n",
    "                    geom_stats['spatial_unit'] = key\n",
    "                    geom_stats['GEOID'] = geoId\n",
    "                    geom_stats['basename'] = basename\n",
    "                    geom_stats['full_path'] = path\n",
    "                    stats = pd.concat([stats, geom_stats])\n",
    "    return stats"
   ]
  },
  {
   "cell_type": "code",
   "execution_count": 131,
   "metadata": {},
   "outputs": [],
   "source": [
    "cville_shp = {k: cville_sp[k][cville_sp[k].COUNTYFP == \"540\"] for k in cville_sp}"
   ]
  },
  {
   "cell_type": "code",
   "execution_count": 133,
   "metadata": {},
   "outputs": [
    {
     "ename": "NameError",
     "evalue": "name 'file' is not defined",
     "output_type": "error",
     "traceback": [
      "\u001b[0;31m---------------------------------------------------------------------------\u001b[0m",
      "\u001b[0;31mNameError\u001b[0m                                 Traceback (most recent call last)",
      "\u001b[0;32m<ipython-input-133-85d35c73d8d3>\u001b[0m in \u001b[0;36m<module>\u001b[0;34m\u001b[0m\n\u001b[0;32m----> 1\u001b[0;31m \u001b[0mzstats\u001b[0m \u001b[0;34m=\u001b[0m \u001b[0mcompute_zonal_stats\u001b[0m\u001b[0;34m(\u001b[0m\u001b[0mtif_files\u001b[0m\u001b[0;34m,\u001b[0m \u001b[0mcville_shp\u001b[0m\u001b[0;34m)\u001b[0m\u001b[0;34m\u001b[0m\u001b[0;34m\u001b[0m\u001b[0m\n\u001b[0m",
      "\u001b[0;32m<ipython-input-129-d67f65b84c68>\u001b[0m in \u001b[0;36mcompute_zonal_stats\u001b[0;34m(files, shp_data)\u001b[0m\n\u001b[1;32m     25\u001b[0m                     \u001b[0mgeom_stats\u001b[0m\u001b[0;34m[\u001b[0m\u001b[0;34m'spatial_unit'\u001b[0m\u001b[0;34m]\u001b[0m \u001b[0;34m=\u001b[0m \u001b[0mkey\u001b[0m\u001b[0;34m\u001b[0m\u001b[0;34m\u001b[0m\u001b[0m\n\u001b[1;32m     26\u001b[0m                     \u001b[0mgeom_stats\u001b[0m\u001b[0;34m[\u001b[0m\u001b[0;34m'GEOID'\u001b[0m\u001b[0;34m]\u001b[0m \u001b[0;34m=\u001b[0m \u001b[0mgeoId\u001b[0m\u001b[0;34m\u001b[0m\u001b[0;34m\u001b[0m\u001b[0m\n\u001b[0;32m---> 27\u001b[0;31m                     \u001b[0mgeom_stats\u001b[0m\u001b[0;34m[\u001b[0m\u001b[0;34m'file'\u001b[0m\u001b[0;34m]\u001b[0m \u001b[0;34m=\u001b[0m \u001b[0mfile\u001b[0m\u001b[0;34m\u001b[0m\u001b[0;34m\u001b[0m\u001b[0m\n\u001b[0m\u001b[1;32m     28\u001b[0m                     \u001b[0mgeom_stats\u001b[0m\u001b[0;34m[\u001b[0m\u001b[0;34m'basename'\u001b[0m\u001b[0;34m]\u001b[0m \u001b[0;34m=\u001b[0m \u001b[0mbasename\u001b[0m\u001b[0;34m\u001b[0m\u001b[0;34m\u001b[0m\u001b[0m\n\u001b[1;32m     29\u001b[0m                     \u001b[0mgeom_stats\u001b[0m\u001b[0;34m[\u001b[0m\u001b[0;34m'full_path'\u001b[0m\u001b[0;34m]\u001b[0m \u001b[0;34m=\u001b[0m \u001b[0mpath\u001b[0m\u001b[0;34m\u001b[0m\u001b[0;34m\u001b[0m\u001b[0m\n",
      "\u001b[0;31mNameError\u001b[0m: name 'file' is not defined"
     ]
    }
   ],
   "source": [
    "zstats = compute_zonal_stats(tif_files, cville_shp)"
   ]
  },
  {
   "cell_type": "code",
   "execution_count": null,
   "metadata": {},
   "outputs": [],
   "source": []
  }
 ],
 "metadata": {
  "kernelspec": {
   "display_name": "earth-analytics-python",
   "language": "python",
   "name": "earth-analytics-python"
  },
  "language_info": {
   "codemirror_mode": {
    "name": "ipython",
    "version": 3
   },
   "file_extension": ".py",
   "mimetype": "text/x-python",
   "name": "python",
   "nbconvert_exporter": "python",
   "pygments_lexer": "ipython3",
   "version": "3.8.10"
  }
 },
 "nbformat": 4,
 "nbformat_minor": 4
}
