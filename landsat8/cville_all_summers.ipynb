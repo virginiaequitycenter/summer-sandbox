{
 "cells": [
  {
   "cell_type": "code",
   "execution_count": 102,
   "metadata": {},
   "outputs": [
    {
     "data": {
      "text/plain": [
       "'/Users/chasedawson/dev/uva_equity_center/summer-sandbox/landsat8'"
      ]
     },
     "execution_count": 102,
     "metadata": {},
     "output_type": "execute_result"
    }
   ],
   "source": [
    "# load libaries\n",
    "import sys\n",
    "import os\n",
    "from dotenv import dotenv_values\n",
    "import geopandas as gpd\n",
    "import pandas as pd\n",
    "import numpy as np\n",
    "import matplotlib.pyplot as plt\n",
    "import datetime\n",
    "import pytz\n",
    "import rasterio as rio\n",
    "import rioxarray as rxr\n",
    "import xarray as xr\n",
    "from shapely.geometry import mapping\n",
    "\n",
    "%matplotlib inline\n",
    "\n",
    "# append module path to path\n",
    "sys.path.append('/Users/chasedawson/dev/landsat8_api')\n",
    "\n",
    "import landsat8_api\n",
    "import importlib; importlib.reload(landsat8_api)\n",
    "from landsat8_api import Landsat8_API_Accessor\n",
    "\n",
    "# remove module path from path\n",
    "sys.path.pop()\n",
    "\n",
    "# print cwd\n",
    "os.getcwd()"
   ]
  },
  {
   "cell_type": "code",
   "execution_count": 103,
   "metadata": {},
   "outputs": [],
   "source": [
    "# read in cville spatial data \n",
    "cville_sp = {}\n",
    "for sp in ['counties', 'tracts', 'blkgps', 'blocks']:\n",
    "    gdf = gpd.read_file('../spatial_units/data/cville_{sp}.shp'.format(sp = sp))\n",
    "    gdf = gdf[gdf.COUNTYFP == \"540\"]\n",
    "    cville_sp[sp] = gdf"
   ]
  },
  {
   "cell_type": "code",
   "execution_count": 104,
   "metadata": {},
   "outputs": [
    {
     "data": {
      "image/png": "[encoded data removed]",
      "text/plain": [
       "<Figure size 432x288 with 1 Axes>"
      ]
     },
     "metadata": {
      "needs_background": "light"
     },
     "output_type": "display_data"
    }
   ],
   "source": [
    "cville = gpd.read_file('../spatial_units/data/cville_counties.shp')\n",
    "cville = cville[cville.COUNTYFP == \"540\"]\n",
    "cville.boundary.plot()\n",
    "plt.show()"
   ]
  },
  {
   "cell_type": "code",
   "execution_count": 105,
   "metadata": {},
   "outputs": [],
   "source": [
    "# cville.geometry.convex_hull.to_file('cville_city_hull.shp')"
   ]
  },
  {
   "cell_type": "code",
   "execution_count": 106,
   "metadata": {},
   "outputs": [
    {
     "name": "stdout",
     "output_type": "stream",
     "text": [
      "Login Successful\n",
      "\n",
      "\n"
     ]
    }
   ],
   "source": [
    "config = dotenv_values('.env')\n",
    "accessor = Landsat8_API_Accessor(config['USGS_USERNAME'], config['USGS_PASSWORD'])"
   ]
  },
  {
   "cell_type": "code",
   "execution_count": 96,
   "metadata": {},
   "outputs": [],
   "source": [
    "cville_bounds = accessor.get_bounds(cville)"
   ]
  },
  {
   "cell_type": "code",
   "execution_count": 97,
   "metadata": {},
   "outputs": [],
   "source": [
    "SEARCH_START = \"2013-06-00\"\n",
    "SEARCH_END = \"2021-08-06\""
   ]
  },
  {
   "cell_type": "code",
   "execution_count": 107,
   "metadata": {},
   "outputs": [
    {
     "name": "stdout",
     "output_type": "stream",
     "text": [
      "Searching Scenes...\n",
      "Found 23 Scene(s).\n"
     ]
    },
    {
     "name": "stderr",
     "output_type": "stream",
     "text": [
      "/Users/chasedawson/dev/landsat8_api/landsat8_api.py:301: FutureWarning: Assigning CRS to a GeoDataFrame without a geometry column is now deprecated and will not be supported in the future.\n",
      "  gdf = gpd.GeoDataFrame(scene_metadata, crs='EPSG:4326')\n"
     ]
    }
   ],
   "source": [
    "cville_scenes = accessor.search_scenes(cville_bounds, SEARCH_START, SEARCH_END)\n",
    "cville_scene_metadata = accessor.get_scene_metadata(cville_scenes)"
   ]
  },
  {
   "cell_type": "code",
   "execution_count": 108,
   "metadata": {},
   "outputs": [
    {
     "data": {
      "text/plain": [
       "'2021:204:15:52:21.1375120'"
      ]
     },
     "execution_count": 108,
     "metadata": {},
     "output_type": "execute_result"
    }
   ],
   "source": [
    "cville_scene_metadata.iloc[0]['Start Time']"
   ]
  },
  {
   "cell_type": "code",
   "execution_count": 53,
   "metadata": {},
   "outputs": [],
   "source": [
    "os.chdir('/Users/chasedawson/dev/uva_equity_center/summer-sandbox/landsat8')"
   ]
  },
  {
   "cell_type": "code",
   "execution_count": 56,
   "metadata": {},
   "outputs": [],
   "source": [
    "base_path = '../../climate_equity/bulk_orders/Bulk Order cville summer all/Landsat 8 OLI_TIRS C2 L2/'"
   ]
  },
  {
   "cell_type": "code",
   "execution_count": 99,
   "metadata": {},
   "outputs": [],
   "source": [
    "folders = [\n",
    "    'LC08_L2SP_016033_20170813_20200903_02_T1',\n",
    "    'LC08_L2SP_016033_20180629_20200831_02_T1',\n",
    "    'LC08_L2SP_016034_20140618_20200911_02_T1',\n",
    "    'LC08_L2SP_016034_20140704_20200911_02_T1',\n",
    "    'LC08_L2SP_016034_20140922_20200910_02_T1',\n",
    "    'LC08_L2SP_016034_20150707_20200909_02_T1',\n",
    "    'LC08_L2SP_016034_20160826_20200906_02_T1',\n",
    "    'LC08_L2SP_016034_20170610_20201015_02_T1',\n",
    "    'LC08_L2SP_016034_20170930_20200903_02_T1',\n",
    "    'LC08_L2SP_016034_20190702_20200827_02_T1',\n",
    "    'LC08_L2SP_016034_20190920_20200826_02_T1',\n",
    "    'LC08_L2SP_016034_20200720_20210330_02_T1',\n",
    "    'LC08_L2SP_016034_20200906_20200918_02_T1',\n",
    "    'LC08_L2SP_016033_20210723_20210729_02_T1',\n",
    "    'LC08_L2SP_016034_20200704_20200913_02_T1',\n",
    "    'LC08_L2SP_016034_20210605_20210614_02_T1',\n",
    "    'LC08_L2SP_016034_20200922_20201005_02_T1'\n",
    "]"
   ]
  },
  {
   "cell_type": "code",
   "execution_count": 100,
   "metadata": {},
   "outputs": [],
   "source": [
    "# open rasters and clip to cville city\n",
    "for folder in folders:\n",
    "    path = os.path.join(base_path, folder, folder + \"_ST_B10.TIF\")\n",
    "    full_boundary = None\n",
    "    with rio.open(path) as src:\n",
    "        full_boundary = cville.to_crs(src.crs)\n",
    "    raster_data = rxr.open_rasterio(path, masked=True).squeeze()\n",
    "    raster_clipped = raster_data.rio.clip(full_boundary.geometry.apply(mapping), full_boundary.crs)\n",
    "    \n",
    "    # save clipped file\n",
    "    new_filename = folder + \"_ST_B10_clipped.TIF\"\n",
    "    raster_clipped.rio.to_raster(os.path.join(base_path, folder, new_filename))"
   ]
  },
  {
   "cell_type": "code",
   "execution_count": 65,
   "metadata": {},
   "outputs": [],
   "source": [
    "def my_masked_count(x):\n",
    "    return np.ma.count_masked(x)"
   ]
  },
  {
   "cell_type": "code",
   "execution_count": 59,
   "metadata": {},
   "outputs": [],
   "source": [
    "# zonal stats\n",
    "from rasterstats import zonal_stats"
   ]
  },
  {
   "cell_type": "code",
   "execution_count": 101,
   "metadata": {},
   "outputs": [
    {
     "name": "stderr",
     "output_type": "stream",
     "text": [
      "100%|██████████| 1/1 [00:00<00:00, 20.27it/s]\n",
      "100%|██████████| 12/12 [00:00<00:00, 129.52it/s]\n",
      "100%|██████████| 37/37 [00:00<00:00, 137.18it/s]\n",
      "  1%|▏         | 12/803 [00:00<00:06, 114.37it/s]/Users/chasedawson/opt/anaconda3/envs/earth-analytics-python/lib/python3.8/site-packages/rasterstats/main.py:260: UserWarning: Warning: converting a masked element to nan.\n",
      "  feature_stats['nodata'] = float((featmasked == fsrc.nodata).sum())\n",
      "100%|██████████| 803/803 [00:06<00:00, 129.83it/s]\n",
      "100%|██████████| 1/1 [00:00<00:00,  9.57it/s]\n",
      "100%|██████████| 12/12 [00:00<00:00, 116.89it/s]\n",
      "100%|██████████| 37/37 [00:00<00:00, 120.49it/s]\n",
      "100%|██████████| 803/803 [00:06<00:00, 121.73it/s]\n",
      "100%|██████████| 1/1 [00:00<00:00, 55.45it/s]\n",
      "100%|██████████| 12/12 [00:00<00:00, 111.90it/s]\n",
      "100%|██████████| 37/37 [00:00<00:00, 117.88it/s]\n",
      "100%|██████████| 803/803 [00:06<00:00, 115.82it/s]\n",
      "100%|██████████| 1/1 [00:00<00:00, 64.13it/s]\n",
      "100%|██████████| 12/12 [00:00<00:00, 114.14it/s]\n",
      "100%|██████████| 37/37 [00:00<00:00, 117.41it/s]\n",
      "100%|██████████| 803/803 [00:06<00:00, 115.14it/s]\n",
      "100%|██████████| 1/1 [00:00<00:00, 66.25it/s]\n",
      "100%|██████████| 12/12 [00:00<00:00, 102.30it/s]\n",
      "100%|██████████| 37/37 [00:00<00:00, 124.45it/s]\n",
      "100%|██████████| 803/803 [00:06<00:00, 125.06it/s]\n",
      "100%|██████████| 1/1 [00:00<00:00, 62.07it/s]\n",
      "100%|██████████| 12/12 [00:00<00:00, 113.04it/s]\n",
      "100%|██████████| 37/37 [00:00<00:00, 122.31it/s]\n",
      "100%|██████████| 803/803 [00:06<00:00, 119.52it/s]\n",
      "100%|██████████| 1/1 [00:00<00:00, 68.38it/s]\n",
      "100%|██████████| 12/12 [00:00<00:00, 111.07it/s]\n",
      "100%|██████████| 37/37 [00:00<00:00, 116.46it/s]\n",
      "100%|██████████| 803/803 [00:06<00:00, 120.50it/s]\n",
      "100%|██████████| 1/1 [00:00<00:00, 62.50it/s]\n",
      "100%|██████████| 12/12 [00:00<00:00, 111.48it/s]\n",
      "100%|██████████| 37/37 [00:00<00:00, 119.65it/s]\n",
      "100%|██████████| 803/803 [00:07<00:00, 113.06it/s]\n",
      "100%|██████████| 1/1 [00:00<00:00, 58.80it/s]\n",
      "100%|██████████| 12/12 [00:00<00:00, 113.82it/s]\n",
      "100%|██████████| 37/37 [00:00<00:00, 118.65it/s]\n",
      "100%|██████████| 803/803 [00:06<00:00, 117.93it/s]\n",
      "100%|██████████| 1/1 [00:00<00:00, 60.65it/s]\n",
      "100%|██████████| 12/12 [00:00<00:00, 102.09it/s]\n",
      "100%|██████████| 37/37 [00:00<00:00, 111.68it/s]\n",
      "100%|██████████| 803/803 [00:06<00:00, 117.94it/s]\n",
      "100%|██████████| 1/1 [00:00<00:00, 62.81it/s]\n",
      "100%|██████████| 12/12 [00:00<00:00, 105.91it/s]\n",
      "100%|██████████| 37/37 [00:00<00:00, 113.44it/s]\n",
      "100%|██████████| 803/803 [00:06<00:00, 117.32it/s]\n",
      "100%|██████████| 1/1 [00:00<00:00, 56.26it/s]\n",
      "100%|██████████| 12/12 [00:00<00:00, 105.63it/s]\n",
      "100%|██████████| 37/37 [00:00<00:00, 111.77it/s]\n",
      "100%|██████████| 803/803 [00:07<00:00, 110.58it/s]\n",
      "100%|██████████| 1/1 [00:00<00:00, 65.67it/s]\n",
      "100%|██████████| 12/12 [00:00<00:00, 106.12it/s]\n",
      "100%|██████████| 37/37 [00:00<00:00, 107.00it/s]\n",
      "100%|██████████| 803/803 [00:07<00:00, 105.61it/s]\n",
      "100%|██████████| 1/1 [00:00<00:00, 53.74it/s]\n",
      "100%|██████████| 12/12 [00:00<00:00, 101.31it/s]\n",
      "100%|██████████| 37/37 [00:00<00:00, 107.96it/s]\n",
      "100%|██████████| 803/803 [00:07<00:00, 112.14it/s]\n",
      "100%|██████████| 1/1 [00:00<00:00, 56.39it/s]\n",
      "100%|██████████| 12/12 [00:00<00:00, 96.09it/s]\n",
      "100%|██████████| 37/37 [00:00<00:00, 108.94it/s]\n",
      "100%|██████████| 803/803 [00:07<00:00, 109.54it/s]\n",
      "100%|██████████| 1/1 [00:00<00:00, 58.36it/s]\n",
      "100%|██████████| 12/12 [00:00<00:00, 94.61it/s]\n",
      "100%|██████████| 37/37 [00:00<00:00, 100.86it/s]\n",
      "100%|██████████| 803/803 [00:07<00:00, 108.68it/s]\n",
      "100%|██████████| 1/1 [00:00<00:00, 59.96it/s]\n",
      "100%|██████████| 12/12 [00:00<00:00, 100.48it/s]\n",
      "100%|██████████| 37/37 [00:00<00:00, 105.31it/s]\n",
      "100%|██████████| 803/803 [00:07<00:00, 101.00it/s]\n"
     ]
    },
    {
     "data": {
      "text/html": [
       "<div>\n",
       "<style scoped>\n",
       "    .dataframe tbody tr th:only-of-type {\n",
       "        vertical-align: middle;\n",
       "    }\n",
       "\n",
       "    .dataframe tbody tr th {\n",
       "        vertical-align: top;\n",
       "    }\n",
       "\n",
       "    .dataframe thead th {\n",
       "        text-align: right;\n",
       "    }\n",
       "</style>\n",
       "<table border=\"1\" class=\"dataframe\">\n",
       "  <thead>\n",
       "    <tr style=\"text-align: right;\">\n",
       "      <th></th>\n",
       "      <th>min</th>\n",
       "      <th>max</th>\n",
       "      <th>mean</th>\n",
       "      <th>count</th>\n",
       "      <th>median</th>\n",
       "      <th>nodata</th>\n",
       "      <th>masked_count</th>\n",
       "      <th>spatial_unit</th>\n",
       "      <th>GEOID</th>\n",
       "      <th>file</th>\n",
       "    </tr>\n",
       "  </thead>\n",
       "  <tbody>\n",
       "    <tr>\n",
       "      <th>0</th>\n",
       "      <td>43464.0</td>\n",
       "      <td>52889.0</td>\n",
       "      <td>46308.898575</td>\n",
       "      <td>29263</td>\n",
       "      <td>46086.0</td>\n",
       "      <td>294.0</td>\n",
       "      <td>22262</td>\n",
       "      <td>counties</td>\n",
       "      <td>51540</td>\n",
       "      <td>LC08_L2SP_016033_20170813_20200903_02_T1</td>\n",
       "    </tr>\n",
       "    <tr>\n",
       "      <th>0</th>\n",
       "      <td>44810.0</td>\n",
       "      <td>49303.0</td>\n",
       "      <td>46799.353038</td>\n",
       "      <td>2419</td>\n",
       "      <td>46873.0</td>\n",
       "      <td>0.0</td>\n",
       "      <td>3170</td>\n",
       "      <td>tracts</td>\n",
       "      <td>51540001000</td>\n",
       "      <td>LC08_L2SP_016033_20170813_20200903_02_T1</td>\n",
       "    </tr>\n",
       "    <tr>\n",
       "      <th>0</th>\n",
       "      <td>45548.0</td>\n",
       "      <td>49162.0</td>\n",
       "      <td>47150.776453</td>\n",
       "      <td>1342</td>\n",
       "      <td>47080.5</td>\n",
       "      <td>0.0</td>\n",
       "      <td>1258</td>\n",
       "      <td>tracts</td>\n",
       "      <td>51540000201</td>\n",
       "      <td>LC08_L2SP_016033_20170813_20200903_02_T1</td>\n",
       "    </tr>\n",
       "    <tr>\n",
       "      <th>0</th>\n",
       "      <td>43711.0</td>\n",
       "      <td>47649.0</td>\n",
       "      <td>45023.799235</td>\n",
       "      <td>3138</td>\n",
       "      <td>44947.0</td>\n",
       "      <td>282.0</td>\n",
       "      <td>2462</td>\n",
       "      <td>tracts</td>\n",
       "      <td>51540000502</td>\n",
       "      <td>LC08_L2SP_016033_20170813_20200903_02_T1</td>\n",
       "    </tr>\n",
       "    <tr>\n",
       "      <th>0</th>\n",
       "      <td>46282.0</td>\n",
       "      <td>48971.0</td>\n",
       "      <td>47773.836127</td>\n",
       "      <td>1074</td>\n",
       "      <td>47724.0</td>\n",
       "      <td>0.0</td>\n",
       "      <td>915</td>\n",
       "      <td>tracts</td>\n",
       "      <td>51540000202</td>\n",
       "      <td>LC08_L2SP_016033_20170813_20200903_02_T1</td>\n",
       "    </tr>\n",
       "  </tbody>\n",
       "</table>\n",
       "</div>"
      ],
      "text/plain": [
       "       min      max          mean  count   median  nodata  masked_count  \\\n",
       "0  43464.0  52889.0  46308.898575  29263  46086.0   294.0         22262   \n",
       "0  44810.0  49303.0  46799.353038   2419  46873.0     0.0          3170   \n",
       "0  45548.0  49162.0  47150.776453   1342  47080.5     0.0          1258   \n",
       "0  43711.0  47649.0  45023.799235   3138  44947.0   282.0          2462   \n",
       "0  46282.0  48971.0  47773.836127   1074  47724.0     0.0           915   \n",
       "\n",
       "  spatial_unit        GEOID                                      file  \n",
       "0     counties        51540  LC08_L2SP_016033_20170813_20200903_02_T1  \n",
       "0       tracts  51540001000  LC08_L2SP_016033_20170813_20200903_02_T1  \n",
       "0       tracts  51540000201  LC08_L2SP_016033_20170813_20200903_02_T1  \n",
       "0       tracts  51540000502  LC08_L2SP_016033_20170813_20200903_02_T1  \n",
       "0       tracts  51540000202  LC08_L2SP_016033_20170813_20200903_02_T1  "
      ]
     },
     "execution_count": 101,
     "metadata": {},
     "output_type": "execute_result"
    }
   ],
   "source": [
    "from tqdm import tqdm\n",
    "\n",
    "stats = pd.DataFrame()\n",
    "for folder in folders:\n",
    "    path = os.path.join(base_path, folder, folder + \"_ST_B10_clipped.TIF\")\n",
    "    with rio.open(path) as src:\n",
    "        affine = src.transform\n",
    "        nodata = src.profile['nodata']\n",
    "        raster_data = src.read(1)\n",
    "        for key in cville_sp:\n",
    "            gdf = cville_sp[key]\n",
    "            gdf = gdf.to_crs(src.crs)\n",
    "            \n",
    "            for i in tqdm(range(len(gdf))):\n",
    "                geoId = gdf.iloc[i].GEOID\n",
    "                geom_data = gdf[gdf.GEOID == geoId]\n",
    "                geom_stats = pd.DataFrame(zonal_stats(geom_data, raster_data, affine=affine, stats = ['min', 'max', 'median', 'mean', 'nodata', 'count'], add_stats = {'masked_count': my_masked_count}, nodata=nodata))\n",
    "                geom_stats['spatial_unit'] = key\n",
    "                geom_stats['GEOID'] = geoId\n",
    "                geom_stats['file'] = folder\n",
    "                stats = pd.concat([stats, geom_stats])\n",
    "\n",
    "stats.head()"
   ]
  },
  {
   "cell_type": "code",
   "execution_count": 109,
   "metadata": {},
   "outputs": [],
   "source": [
    "def prop_nodata(nodata, count):\n",
    "    if nodata == 0 and count == 0:\n",
    "        return 0\n",
    "    else:\n",
    "        return (nodata / (nodata + count))\n",
    "    \n",
    "def rescale(stats):\n",
    "    MULTIPLICATIVE_SCALE_FACTOR = 0.00341802\n",
    "    ADDITIVE_SCALE_FACTOR = 149\n",
    "    cols_to_rescale = [\"min\", \"max\", \"mean\", \"median\"]\n",
    "    for col in cols_to_rescale:\n",
    "        stats[col] = stats[col].apply(lambda x: x * MULTIPLICATIVE_SCALE_FACTOR + ADDITIVE_SCALE_FACTOR if type(x) is float else x)\n",
    "        stats[col] = stats[col].apply(lambda x: to_fahrenheit(x) if type(x) is float else x)\n",
    "    return stats\n",
    "\n",
    "def to_fahrenheit(k):\n",
    "    return (k - 273.15) * (9/5) + 32"
   ]
  },
  {
   "cell_type": "code",
   "execution_count": 110,
   "metadata": {},
   "outputs": [],
   "source": [
    "stats['prop_nodata'] = stats.apply(lambda x: prop_nodata(x['nodata'], x['count']), axis=1)"
   ]
  },
  {
   "cell_type": "code",
   "execution_count": 111,
   "metadata": {},
   "outputs": [
    {
     "data": {
      "text/html": [
       "<div>\n",
       "<style scoped>\n",
       "    .dataframe tbody tr th:only-of-type {\n",
       "        vertical-align: middle;\n",
       "    }\n",
       "\n",
       "    .dataframe tbody tr th {\n",
       "        vertical-align: top;\n",
       "    }\n",
       "\n",
       "    .dataframe thead th {\n",
       "        text-align: right;\n",
       "    }\n",
       "</style>\n",
       "<table border=\"1\" class=\"dataframe\">\n",
       "  <thead>\n",
       "    <tr style=\"text-align: right;\">\n",
       "      <th></th>\n",
       "      <th>min</th>\n",
       "      <th>max</th>\n",
       "      <th>mean</th>\n",
       "      <th>count</th>\n",
       "      <th>median</th>\n",
       "      <th>nodata</th>\n",
       "      <th>masked_count</th>\n",
       "      <th>spatial_unit</th>\n",
       "      <th>GEOID</th>\n",
       "      <th>file</th>\n",
       "      <th>prop_nodata</th>\n",
       "    </tr>\n",
       "  </thead>\n",
       "  <tbody>\n",
       "    <tr>\n",
       "      <th>0</th>\n",
       "      <td>75.939478</td>\n",
       "      <td>133.926188</td>\n",
       "      <td>93.442535</td>\n",
       "      <td>29263</td>\n",
       "      <td>92.071165</td>\n",
       "      <td>294.0</td>\n",
       "      <td>22262</td>\n",
       "      <td>counties</td>\n",
       "      <td>51540</td>\n",
       "      <td>LC08_L2SP_016033_20170813_20200903_02_T1</td>\n",
       "      <td>0.009947</td>\n",
       "    </tr>\n",
       "    <tr>\n",
       "      <th>0</th>\n",
       "      <td>84.220657</td>\n",
       "      <td>111.863552</td>\n",
       "      <td>96.460024</td>\n",
       "      <td>2419</td>\n",
       "      <td>96.913133</td>\n",
       "      <td>0.0</td>\n",
       "      <td>3170</td>\n",
       "      <td>tracts</td>\n",
       "      <td>51540001000</td>\n",
       "      <td>LC08_L2SP_016033_20170813_20200903_02_T1</td>\n",
       "      <td>0.000000</td>\n",
       "    </tr>\n",
       "    <tr>\n",
       "      <th>0</th>\n",
       "      <td>88.761155</td>\n",
       "      <td>110.996059</td>\n",
       "      <td>98.622134</td>\n",
       "      <td>1342</td>\n",
       "      <td>98.189763</td>\n",
       "      <td>0.0</td>\n",
       "      <td>1258</td>\n",
       "      <td>tracts</td>\n",
       "      <td>51540000201</td>\n",
       "      <td>LC08_L2SP_016033_20170813_20200903_02_T1</td>\n",
       "      <td>0.000000</td>\n",
       "    </tr>\n",
       "    <tr>\n",
       "      <th>0</th>\n",
       "      <td>77.459130</td>\n",
       "      <td>101.687423</td>\n",
       "      <td>85.536043</td>\n",
       "      <td>3138</td>\n",
       "      <td>85.063541</td>\n",
       "      <td>282.0</td>\n",
       "      <td>2462</td>\n",
       "      <td>tracts</td>\n",
       "      <td>51540000502</td>\n",
       "      <td>LC08_L2SP_016033_20170813_20200903_02_T1</td>\n",
       "      <td>0.082456</td>\n",
       "    </tr>\n",
       "    <tr>\n",
       "      <th>0</th>\n",
       "      <td>93.277043</td>\n",
       "      <td>109.820943</td>\n",
       "      <td>102.455469</td>\n",
       "      <td>1074</td>\n",
       "      <td>102.148856</td>\n",
       "      <td>0.0</td>\n",
       "      <td>915</td>\n",
       "      <td>tracts</td>\n",
       "      <td>51540000202</td>\n",
       "      <td>LC08_L2SP_016033_20170813_20200903_02_T1</td>\n",
       "      <td>0.000000</td>\n",
       "    </tr>\n",
       "  </tbody>\n",
       "</table>\n",
       "</div>"
      ],
      "text/plain": [
       "         min         max        mean  count      median  nodata  masked_count  \\\n",
       "0  75.939478  133.926188   93.442535  29263   92.071165   294.0         22262   \n",
       "0  84.220657  111.863552   96.460024   2419   96.913133     0.0          3170   \n",
       "0  88.761155  110.996059   98.622134   1342   98.189763     0.0          1258   \n",
       "0  77.459130  101.687423   85.536043   3138   85.063541   282.0          2462   \n",
       "0  93.277043  109.820943  102.455469   1074  102.148856     0.0           915   \n",
       "\n",
       "  spatial_unit        GEOID                                      file  \\\n",
       "0     counties        51540  LC08_L2SP_016033_20170813_20200903_02_T1   \n",
       "0       tracts  51540001000  LC08_L2SP_016033_20170813_20200903_02_T1   \n",
       "0       tracts  51540000201  LC08_L2SP_016033_20170813_20200903_02_T1   \n",
       "0       tracts  51540000502  LC08_L2SP_016033_20170813_20200903_02_T1   \n",
       "0       tracts  51540000202  LC08_L2SP_016033_20170813_20200903_02_T1   \n",
       "\n",
       "   prop_nodata  \n",
       "0     0.009947  \n",
       "0     0.000000  \n",
       "0     0.000000  \n",
       "0     0.082456  \n",
       "0     0.000000  "
      ]
     },
     "execution_count": 111,
     "metadata": {},
     "output_type": "execute_result"
    }
   ],
   "source": [
    "stats = rescale(stats)\n",
    "stats.head()"
   ]
  },
  {
   "cell_type": "code",
   "execution_count": 112,
   "metadata": {},
   "outputs": [
    {
     "data": {
      "text/plain": [
       "(14501, 11)"
      ]
     },
     "execution_count": 112,
     "metadata": {},
     "output_type": "execute_result"
    }
   ],
   "source": [
    "stats.shape"
   ]
  },
  {
   "cell_type": "code",
   "execution_count": 113,
   "metadata": {},
   "outputs": [
    {
     "data": {
      "text/html": [
       "<div>\n",
       "<style scoped>\n",
       "    .dataframe tbody tr th:only-of-type {\n",
       "        vertical-align: middle;\n",
       "    }\n",
       "\n",
       "    .dataframe tbody tr th {\n",
       "        vertical-align: top;\n",
       "    }\n",
       "\n",
       "    .dataframe thead th {\n",
       "        text-align: right;\n",
       "    }\n",
       "</style>\n",
       "<table border=\"1\" class=\"dataframe\">\n",
       "  <thead>\n",
       "    <tr style=\"text-align: right;\">\n",
       "      <th></th>\n",
       "      <th>entityId</th>\n",
       "      <th>displayId</th>\n",
       "      <th>Date Acquired</th>\n",
       "      <th>Start Time</th>\n",
       "      <th>Stop Time</th>\n",
       "      <th>Day/Night Indicator</th>\n",
       "      <th>Land Cloud Cover</th>\n",
       "      <th>Sun Elevation L0RA</th>\n",
       "      <th>Sun Azimuth L0RA</th>\n",
       "    </tr>\n",
       "  </thead>\n",
       "  <tbody>\n",
       "    <tr>\n",
       "      <th>0</th>\n",
       "      <td>LC80160332021204LGN00</td>\n",
       "      <td>LC08_L2SP_016033_20210723_20210729_02_T1</td>\n",
       "      <td>2021/07/23</td>\n",
       "      <td>2021:204:15:52:21.1375120</td>\n",
       "      <td>2021:204:15:52:52.9075110</td>\n",
       "      <td>DAY</td>\n",
       "      <td>6.72</td>\n",
       "      <td>63.25349061</td>\n",
       "      <td>128.90422405</td>\n",
       "    </tr>\n",
       "    <tr>\n",
       "      <th>1</th>\n",
       "      <td>LC80160332021156LGN00</td>\n",
       "      <td>LC08_L2SP_016033_20210605_20210614_02_T1</td>\n",
       "      <td>2021/06/05</td>\n",
       "      <td>2021:156:15:52:08.6020220</td>\n",
       "      <td>2021:156:15:52:40.3720210</td>\n",
       "      <td>DAY</td>\n",
       "      <td>1.33</td>\n",
       "      <td>66.44237465</td>\n",
       "      <td>127.92177701</td>\n",
       "    </tr>\n",
       "    <tr>\n",
       "      <th>2</th>\n",
       "      <td>LC80160342021156LGN00</td>\n",
       "      <td>LC08_L2SP_016034_20210605_20210614_02_T1</td>\n",
       "      <td>2021/06/05</td>\n",
       "      <td>2021:156:15:52:32.4888260</td>\n",
       "      <td>2021:156:15:53:04.2588250</td>\n",
       "      <td>DAY</td>\n",
       "      <td>3.28</td>\n",
       "      <td>67.07684345</td>\n",
       "      <td>124.66790582</td>\n",
       "    </tr>\n",
       "    <tr>\n",
       "      <th>3</th>\n",
       "      <td>LC80160332020266LGN00</td>\n",
       "      <td>LC08_L2SP_016033_20200922_20201005_02_T1</td>\n",
       "      <td>2020/09/22</td>\n",
       "      <td>2020:266:15:52:38.8566720</td>\n",
       "      <td>2020:266:15:53:10.6266710</td>\n",
       "      <td>DAY</td>\n",
       "      <td>0.01</td>\n",
       "      <td>47.59191509</td>\n",
       "      <td>152.23668360</td>\n",
       "    </tr>\n",
       "    <tr>\n",
       "      <th>4</th>\n",
       "      <td>LC80160342020266LGN00</td>\n",
       "      <td>LC08_L2SP_016034_20200922_20201005_02_T1</td>\n",
       "      <td>2020/09/22</td>\n",
       "      <td>2020:266:15:53:02.7434750</td>\n",
       "      <td>2020:266:15:53:34.5134740</td>\n",
       "      <td>DAY</td>\n",
       "      <td>0.01</td>\n",
       "      <td>48.72493996</td>\n",
       "      <td>151.01265192</td>\n",
       "    </tr>\n",
       "  </tbody>\n",
       "</table>\n",
       "</div>"
      ],
      "text/plain": [
       "                entityId                                 displayId  \\\n",
       "0  LC80160332021204LGN00  LC08_L2SP_016033_20210723_20210729_02_T1   \n",
       "1  LC80160332021156LGN00  LC08_L2SP_016033_20210605_20210614_02_T1   \n",
       "2  LC80160342021156LGN00  LC08_L2SP_016034_20210605_20210614_02_T1   \n",
       "3  LC80160332020266LGN00  LC08_L2SP_016033_20200922_20201005_02_T1   \n",
       "4  LC80160342020266LGN00  LC08_L2SP_016034_20200922_20201005_02_T1   \n",
       "\n",
       "  Date Acquired                 Start Time                  Stop Time  \\\n",
       "0    2021/07/23  2021:204:15:52:21.1375120  2021:204:15:52:52.9075110   \n",
       "1    2021/06/05  2021:156:15:52:08.6020220  2021:156:15:52:40.3720210   \n",
       "2    2021/06/05  2021:156:15:52:32.4888260  2021:156:15:53:04.2588250   \n",
       "3    2020/09/22  2020:266:15:52:38.8566720  2020:266:15:53:10.6266710   \n",
       "4    2020/09/22  2020:266:15:53:02.7434750  2020:266:15:53:34.5134740   \n",
       "\n",
       "  Day/Night Indicator Land Cloud Cover Sun Elevation L0RA Sun Azimuth L0RA  \n",
       "0                 DAY             6.72        63.25349061     128.90422405  \n",
       "1                 DAY             1.33        66.44237465     127.92177701  \n",
       "2                 DAY             3.28        67.07684345     124.66790582  \n",
       "3                 DAY             0.01        47.59191509     152.23668360  \n",
       "4                 DAY             0.01        48.72493996     151.01265192  "
      ]
     },
     "execution_count": 113,
     "metadata": {},
     "output_type": "execute_result"
    }
   ],
   "source": [
    "to_merge = cville_scene_metadata[['entityId', 'displayId', 'Date Acquired', 'Start Time', 'Stop Time', 'Day/Night Indicator', 'Land Cloud Cover', 'Sun Elevation L0RA', 'Sun Azimuth L0RA']]\n",
    "# to_merge = to_merge.set_index('displayId')\n",
    "to_merge.head()"
   ]
  },
  {
   "cell_type": "code",
   "execution_count": 114,
   "metadata": {},
   "outputs": [],
   "source": [
    "stats_m = pd.merge(stats, to_merge, left_on = 'file', right_on = 'displayId', how='left')"
   ]
  },
  {
   "cell_type": "code",
   "execution_count": 115,
   "metadata": {},
   "outputs": [
    {
     "data": {
      "text/plain": [
       "(14501, 20)"
      ]
     },
     "execution_count": 115,
     "metadata": {},
     "output_type": "execute_result"
    }
   ],
   "source": [
    "stats_m.shape"
   ]
  },
  {
   "cell_type": "code",
   "execution_count": 116,
   "metadata": {},
   "outputs": [],
   "source": [
    "stats_m.to_csv(\"cville_summer_all_stats.csv\")"
   ]
  },
  {
   "cell_type": "code",
   "execution_count": null,
   "metadata": {},
   "outputs": [],
   "source": []
  }
 ],
 "metadata": {
  "kernelspec": {
   "display_name": "earth-analytics-python",
   "language": "python",
   "name": "earth-analytics-python"
  },
  "language_info": {
   "codemirror_mode": {
    "name": "ipython",
    "version": 3
   },
   "file_extension": ".py",
   "mimetype": "text/x-python",
   "name": "python",
   "nbconvert_exporter": "python",
   "pygments_lexer": "ipython3",
   "version": "3.8.10"
  }
 },
 "nbformat": 4,
 "nbformat_minor": 5
}
