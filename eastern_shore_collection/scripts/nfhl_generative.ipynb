{
 "cells": [
  {
   "cell_type": "code",
   "execution_count": 1,
   "id": "536dee7b",
   "metadata": {},
   "outputs": [],
   "source": [
    "import numpy as np\n",
    "import pandas as pd\n",
    "import matplotlib.pyplot as plt\n",
    "import os\n",
    "import geopandas as gpd\n",
    "from tqdm import tqdm\n",
    "\n",
    "%matplotlib inline"
   ]
  },
  {
   "cell_type": "code",
   "execution_count": 3,
   "id": "8d8af940",
   "metadata": {},
   "outputs": [
    {
     "data": {
      "text/plain": [
       "'/Users/micheleclaibourn/Box Sync/mpc/dataForDemocracy/summer-sandbox/eastern_shore_collection'"
      ]
     },
     "execution_count": 3,
     "metadata": {},
     "output_type": "execute_result"
    }
   ],
   "source": [
    "os.chdir('/Users/micheleclaibourn/Box Sync/mpc/dataForDemocracy/summer-sandbox/eastern_shore_collection')\n",
    "%pwd"
   ]
  },
  {
   "cell_type": "code",
   "execution_count": 7,
   "id": "edaa1c09",
   "metadata": {},
   "outputs": [],
   "source": [
    "# read in cville spatial data\n",
    "eastshore_sp = {}\n",
    "spatial_units = ['counties', 'tracts', 'blkgps', 'blocks']\n",
    "path_to_data = '/data/shape/'\n",
    "for su in spatial_units:\n",
    "    eastshore_sp[su] = gpd.read_file(os.getcwd() + path_to_data + 'eastshore_{su}.shp'.format(su = su))\n",
    "\n",
    "# create GEOID in blocks (is GEOID10)    \n",
    "eastshore_sp['blocks']['BLKGRPCE'] = eastshore_sp['blocks'].GEOID10.apply(lambda x: str(x)[11])\n",
    "eastshore_sp['blocks']['GEOID'] = eastshore_sp['blocks'].GEOID10"
   ]
  },
  {
   "cell_type": "code",
   "execution_count": 8,
   "id": "6454197b",
   "metadata": {},
   "outputs": [],
   "source": [
    "# downloaded files manually ----\n",
    "# from: https://msc.fema.gov/portal/advanceSearch#searchresultsanchor\n",
    "# add to dataraw folder\n",
    "\n",
    "accomack_data_path = \"./dataraw/nfhl/accomack/51001C_20211026\"\n",
    "northampton_data_path = \"./dataraw/nfhl/northampton/51131C_20211026\"\n",
    "\n",
    "eastshore_data_paths = [\n",
    "    accomack_data_path,\n",
    "    northampton_data_path\n",
    "]"
   ]
  },
  {
   "cell_type": "code",
   "execution_count": 9,
   "id": "c2f36562",
   "metadata": {},
   "outputs": [
    {
     "data": {
      "text/html": [
       "<div>\n",
       "<style scoped>\n",
       "    .dataframe tbody tr th:only-of-type {\n",
       "        vertical-align: middle;\n",
       "    }\n",
       "\n",
       "    .dataframe tbody tr th {\n",
       "        vertical-align: top;\n",
       "    }\n",
       "\n",
       "    .dataframe thead th {\n",
       "        text-align: right;\n",
       "    }\n",
       "</style>\n",
       "<table border=\"1\" class=\"dataframe\">\n",
       "  <thead>\n",
       "    <tr style=\"text-align: right;\">\n",
       "      <th></th>\n",
       "      <th>DFIRM_ID</th>\n",
       "      <th>VERSION_ID</th>\n",
       "      <th>FLD_AR_ID</th>\n",
       "      <th>STUDY_TYP</th>\n",
       "      <th>FLD_ZONE</th>\n",
       "      <th>ZONE_SUBTY</th>\n",
       "      <th>SFHA_TF</th>\n",
       "      <th>STATIC_BFE</th>\n",
       "      <th>V_DATUM</th>\n",
       "      <th>DEPTH</th>\n",
       "      <th>LEN_UNIT</th>\n",
       "      <th>VELOCITY</th>\n",
       "      <th>VEL_UNIT</th>\n",
       "      <th>AR_REVERT</th>\n",
       "      <th>AR_SUBTRV</th>\n",
       "      <th>BFE_REVERT</th>\n",
       "      <th>DEP_REVERT</th>\n",
       "      <th>DUAL_ZONE</th>\n",
       "      <th>SOURCE_CIT</th>\n",
       "      <th>geometry</th>\n",
       "    </tr>\n",
       "  </thead>\n",
       "  <tbody>\n",
       "    <tr>\n",
       "      <th>0</th>\n",
       "      <td>51001C</td>\n",
       "      <td>1.1.1.0</td>\n",
       "      <td>51001C_81</td>\n",
       "      <td>NP</td>\n",
       "      <td>AE</td>\n",
       "      <td>None</td>\n",
       "      <td>T</td>\n",
       "      <td>8.0</td>\n",
       "      <td>NAVD88</td>\n",
       "      <td>-9999.0</td>\n",
       "      <td>Feet</td>\n",
       "      <td>-9999.0</td>\n",
       "      <td>None</td>\n",
       "      <td>None</td>\n",
       "      <td>None</td>\n",
       "      <td>-9999.0</td>\n",
       "      <td>-9999.0</td>\n",
       "      <td>None</td>\n",
       "      <td>51001C_STUDY2</td>\n",
       "      <td>POLYGON ((-75.33893 37.88938, -75.33921 37.889...</td>\n",
       "    </tr>\n",
       "    <tr>\n",
       "      <th>1</th>\n",
       "      <td>51001C</td>\n",
       "      <td>1.1.1.0</td>\n",
       "      <td>51001C_82</td>\n",
       "      <td>NP</td>\n",
       "      <td>AE</td>\n",
       "      <td>None</td>\n",
       "      <td>T</td>\n",
       "      <td>8.0</td>\n",
       "      <td>NAVD88</td>\n",
       "      <td>-9999.0</td>\n",
       "      <td>Feet</td>\n",
       "      <td>-9999.0</td>\n",
       "      <td>None</td>\n",
       "      <td>None</td>\n",
       "      <td>None</td>\n",
       "      <td>-9999.0</td>\n",
       "      <td>-9999.0</td>\n",
       "      <td>None</td>\n",
       "      <td>51001C_STUDY2</td>\n",
       "      <td>POLYGON ((-75.31579 37.98302, -75.31628 37.982...</td>\n",
       "    </tr>\n",
       "    <tr>\n",
       "      <th>2</th>\n",
       "      <td>51001C</td>\n",
       "      <td>1.1.1.0</td>\n",
       "      <td>51001C_83</td>\n",
       "      <td>NP</td>\n",
       "      <td>OPEN WATER</td>\n",
       "      <td>None</td>\n",
       "      <td>F</td>\n",
       "      <td>-9999.0</td>\n",
       "      <td>None</td>\n",
       "      <td>-9999.0</td>\n",
       "      <td>None</td>\n",
       "      <td>-9999.0</td>\n",
       "      <td>None</td>\n",
       "      <td>None</td>\n",
       "      <td>None</td>\n",
       "      <td>-9999.0</td>\n",
       "      <td>-9999.0</td>\n",
       "      <td>None</td>\n",
       "      <td>51001C_STUDY2</td>\n",
       "      <td>POLYGON ((-75.30632 38.00647, -75.30685 38.006...</td>\n",
       "    </tr>\n",
       "    <tr>\n",
       "      <th>3</th>\n",
       "      <td>51001C</td>\n",
       "      <td>1.1.1.0</td>\n",
       "      <td>51001C_84</td>\n",
       "      <td>NP</td>\n",
       "      <td>AE</td>\n",
       "      <td>None</td>\n",
       "      <td>T</td>\n",
       "      <td>5.0</td>\n",
       "      <td>NAVD88</td>\n",
       "      <td>-9999.0</td>\n",
       "      <td>Feet</td>\n",
       "      <td>-9999.0</td>\n",
       "      <td>None</td>\n",
       "      <td>None</td>\n",
       "      <td>None</td>\n",
       "      <td>-9999.0</td>\n",
       "      <td>-9999.0</td>\n",
       "      <td>None</td>\n",
       "      <td>51001C_STUDY2</td>\n",
       "      <td>POLYGON ((-75.38663 38.01437, -75.38526 38.014...</td>\n",
       "    </tr>\n",
       "    <tr>\n",
       "      <th>4</th>\n",
       "      <td>51001C</td>\n",
       "      <td>1.1.1.0</td>\n",
       "      <td>51001C_85</td>\n",
       "      <td>NP</td>\n",
       "      <td>AE</td>\n",
       "      <td>None</td>\n",
       "      <td>T</td>\n",
       "      <td>4.0</td>\n",
       "      <td>NAVD88</td>\n",
       "      <td>-9999.0</td>\n",
       "      <td>Feet</td>\n",
       "      <td>-9999.0</td>\n",
       "      <td>None</td>\n",
       "      <td>None</td>\n",
       "      <td>None</td>\n",
       "      <td>-9999.0</td>\n",
       "      <td>-9999.0</td>\n",
       "      <td>None</td>\n",
       "      <td>51001C_STUDY2</td>\n",
       "      <td>POLYGON ((-75.38742 38.01430, -75.38663 38.014...</td>\n",
       "    </tr>\n",
       "  </tbody>\n",
       "</table>\n",
       "</div>"
      ],
      "text/plain": [
       "  DFIRM_ID VERSION_ID  FLD_AR_ID STUDY_TYP    FLD_ZONE ZONE_SUBTY SFHA_TF  \\\n",
       "0   51001C    1.1.1.0  51001C_81        NP          AE       None       T   \n",
       "1   51001C    1.1.1.0  51001C_82        NP          AE       None       T   \n",
       "2   51001C    1.1.1.0  51001C_83        NP  OPEN WATER       None       F   \n",
       "3   51001C    1.1.1.0  51001C_84        NP          AE       None       T   \n",
       "4   51001C    1.1.1.0  51001C_85        NP          AE       None       T   \n",
       "\n",
       "   STATIC_BFE V_DATUM   DEPTH LEN_UNIT  VELOCITY VEL_UNIT AR_REVERT AR_SUBTRV  \\\n",
       "0         8.0  NAVD88 -9999.0     Feet   -9999.0     None      None      None   \n",
       "1         8.0  NAVD88 -9999.0     Feet   -9999.0     None      None      None   \n",
       "2     -9999.0    None -9999.0     None   -9999.0     None      None      None   \n",
       "3         5.0  NAVD88 -9999.0     Feet   -9999.0     None      None      None   \n",
       "4         4.0  NAVD88 -9999.0     Feet   -9999.0     None      None      None   \n",
       "\n",
       "   BFE_REVERT  DEP_REVERT DUAL_ZONE     SOURCE_CIT  \\\n",
       "0     -9999.0     -9999.0      None  51001C_STUDY2   \n",
       "1     -9999.0     -9999.0      None  51001C_STUDY2   \n",
       "2     -9999.0     -9999.0      None  51001C_STUDY2   \n",
       "3     -9999.0     -9999.0      None  51001C_STUDY2   \n",
       "4     -9999.0     -9999.0      None  51001C_STUDY2   \n",
       "\n",
       "                                            geometry  \n",
       "0  POLYGON ((-75.33893 37.88938, -75.33921 37.889...  \n",
       "1  POLYGON ((-75.31579 37.98302, -75.31628 37.982...  \n",
       "2  POLYGON ((-75.30632 38.00647, -75.30685 38.006...  \n",
       "3  POLYGON ((-75.38663 38.01437, -75.38526 38.014...  \n",
       "4  POLYGON ((-75.38742 38.01430, -75.38663 38.014...  "
      ]
     },
     "execution_count": 9,
     "metadata": {},
     "output_type": "execute_result"
    }
   ],
   "source": [
    "def read_paths(paths):\n",
    "    return pd.concat([gpd.read_file(path) for path in paths])\n",
    "\n",
    "paths = [os.path.join(data_path, \"S_FLD_HAZ_AR.shp\") for data_path in eastshore_data_paths]\n",
    "eastshore_fhl = read_paths(paths)\n",
    "eastshore_fhl.head()\n"
   ]
  },
  {
   "cell_type": "code",
   "execution_count": 10,
   "id": "5e87a60b",
   "metadata": {},
   "outputs": [
    {
     "data": {
      "text/html": [
       "<div>\n",
       "<style scoped>\n",
       "    .dataframe tbody tr th:only-of-type {\n",
       "        vertical-align: middle;\n",
       "    }\n",
       "\n",
       "    .dataframe tbody tr th {\n",
       "        vertical-align: top;\n",
       "    }\n",
       "\n",
       "    .dataframe thead th {\n",
       "        text-align: right;\n",
       "    }\n",
       "</style>\n",
       "<table border=\"1\" class=\"dataframe\">\n",
       "  <thead>\n",
       "    <tr style=\"text-align: right;\">\n",
       "      <th></th>\n",
       "      <th>DFIRM_ID</th>\n",
       "      <th>VERSION_ID</th>\n",
       "      <th>FLD_AR_ID</th>\n",
       "      <th>STUDY_TYP</th>\n",
       "      <th>FLD_ZONE</th>\n",
       "      <th>ZONE_SUBTY</th>\n",
       "      <th>SFHA_TF</th>\n",
       "      <th>STATIC_BFE</th>\n",
       "      <th>V_DATUM</th>\n",
       "      <th>DEPTH</th>\n",
       "      <th>...</th>\n",
       "      <th>VELOCITY</th>\n",
       "      <th>VEL_UNIT</th>\n",
       "      <th>AR_REVERT</th>\n",
       "      <th>AR_SUBTRV</th>\n",
       "      <th>BFE_REVERT</th>\n",
       "      <th>DEP_REVERT</th>\n",
       "      <th>DUAL_ZONE</th>\n",
       "      <th>SOURCE_CIT</th>\n",
       "      <th>geometry</th>\n",
       "      <th>floodzones</th>\n",
       "    </tr>\n",
       "  </thead>\n",
       "  <tbody>\n",
       "    <tr>\n",
       "      <th>0</th>\n",
       "      <td>51001C</td>\n",
       "      <td>1.1.1.0</td>\n",
       "      <td>51001C_81</td>\n",
       "      <td>NP</td>\n",
       "      <td>AE</td>\n",
       "      <td>None</td>\n",
       "      <td>T</td>\n",
       "      <td>8.0</td>\n",
       "      <td>NAVD88</td>\n",
       "      <td>-9999.0</td>\n",
       "      <td>...</td>\n",
       "      <td>-9999.0</td>\n",
       "      <td>None</td>\n",
       "      <td>None</td>\n",
       "      <td>None</td>\n",
       "      <td>-9999.0</td>\n",
       "      <td>-9999.0</td>\n",
       "      <td>None</td>\n",
       "      <td>51001C_STUDY2</td>\n",
       "      <td>POLYGON ((-75.33893 37.88938, -75.33921 37.889...</td>\n",
       "      <td>1per</td>\n",
       "    </tr>\n",
       "    <tr>\n",
       "      <th>1</th>\n",
       "      <td>51001C</td>\n",
       "      <td>1.1.1.0</td>\n",
       "      <td>51001C_82</td>\n",
       "      <td>NP</td>\n",
       "      <td>AE</td>\n",
       "      <td>None</td>\n",
       "      <td>T</td>\n",
       "      <td>8.0</td>\n",
       "      <td>NAVD88</td>\n",
       "      <td>-9999.0</td>\n",
       "      <td>...</td>\n",
       "      <td>-9999.0</td>\n",
       "      <td>None</td>\n",
       "      <td>None</td>\n",
       "      <td>None</td>\n",
       "      <td>-9999.0</td>\n",
       "      <td>-9999.0</td>\n",
       "      <td>None</td>\n",
       "      <td>51001C_STUDY2</td>\n",
       "      <td>POLYGON ((-75.31579 37.98302, -75.31628 37.982...</td>\n",
       "      <td>1per</td>\n",
       "    </tr>\n",
       "    <tr>\n",
       "      <th>2</th>\n",
       "      <td>51001C</td>\n",
       "      <td>1.1.1.0</td>\n",
       "      <td>51001C_83</td>\n",
       "      <td>NP</td>\n",
       "      <td>OPEN WATER</td>\n",
       "      <td>None</td>\n",
       "      <td>F</td>\n",
       "      <td>-9999.0</td>\n",
       "      <td>None</td>\n",
       "      <td>-9999.0</td>\n",
       "      <td>...</td>\n",
       "      <td>-9999.0</td>\n",
       "      <td>None</td>\n",
       "      <td>None</td>\n",
       "      <td>None</td>\n",
       "      <td>-9999.0</td>\n",
       "      <td>-9999.0</td>\n",
       "      <td>None</td>\n",
       "      <td>51001C_STUDY2</td>\n",
       "      <td>POLYGON ((-75.30632 38.00647, -75.30685 38.006...</td>\n",
       "      <td>0</td>\n",
       "    </tr>\n",
       "    <tr>\n",
       "      <th>3</th>\n",
       "      <td>51001C</td>\n",
       "      <td>1.1.1.0</td>\n",
       "      <td>51001C_84</td>\n",
       "      <td>NP</td>\n",
       "      <td>AE</td>\n",
       "      <td>None</td>\n",
       "      <td>T</td>\n",
       "      <td>5.0</td>\n",
       "      <td>NAVD88</td>\n",
       "      <td>-9999.0</td>\n",
       "      <td>...</td>\n",
       "      <td>-9999.0</td>\n",
       "      <td>None</td>\n",
       "      <td>None</td>\n",
       "      <td>None</td>\n",
       "      <td>-9999.0</td>\n",
       "      <td>-9999.0</td>\n",
       "      <td>None</td>\n",
       "      <td>51001C_STUDY2</td>\n",
       "      <td>POLYGON ((-75.38663 38.01437, -75.38526 38.014...</td>\n",
       "      <td>1per</td>\n",
       "    </tr>\n",
       "    <tr>\n",
       "      <th>4</th>\n",
       "      <td>51001C</td>\n",
       "      <td>1.1.1.0</td>\n",
       "      <td>51001C_85</td>\n",
       "      <td>NP</td>\n",
       "      <td>AE</td>\n",
       "      <td>None</td>\n",
       "      <td>T</td>\n",
       "      <td>4.0</td>\n",
       "      <td>NAVD88</td>\n",
       "      <td>-9999.0</td>\n",
       "      <td>...</td>\n",
       "      <td>-9999.0</td>\n",
       "      <td>None</td>\n",
       "      <td>None</td>\n",
       "      <td>None</td>\n",
       "      <td>-9999.0</td>\n",
       "      <td>-9999.0</td>\n",
       "      <td>None</td>\n",
       "      <td>51001C_STUDY2</td>\n",
       "      <td>POLYGON ((-75.38742 38.01430, -75.38663 38.014...</td>\n",
       "      <td>1per</td>\n",
       "    </tr>\n",
       "  </tbody>\n",
       "</table>\n",
       "<p>5 rows × 21 columns</p>\n",
       "</div>"
      ],
      "text/plain": [
       "  DFIRM_ID VERSION_ID  FLD_AR_ID STUDY_TYP    FLD_ZONE ZONE_SUBTY SFHA_TF  \\\n",
       "0   51001C    1.1.1.0  51001C_81        NP          AE       None       T   \n",
       "1   51001C    1.1.1.0  51001C_82        NP          AE       None       T   \n",
       "2   51001C    1.1.1.0  51001C_83        NP  OPEN WATER       None       F   \n",
       "3   51001C    1.1.1.0  51001C_84        NP          AE       None       T   \n",
       "4   51001C    1.1.1.0  51001C_85        NP          AE       None       T   \n",
       "\n",
       "   STATIC_BFE V_DATUM   DEPTH  ... VELOCITY  VEL_UNIT AR_REVERT AR_SUBTRV  \\\n",
       "0         8.0  NAVD88 -9999.0  ...  -9999.0      None      None      None   \n",
       "1         8.0  NAVD88 -9999.0  ...  -9999.0      None      None      None   \n",
       "2     -9999.0    None -9999.0  ...  -9999.0      None      None      None   \n",
       "3         5.0  NAVD88 -9999.0  ...  -9999.0      None      None      None   \n",
       "4         4.0  NAVD88 -9999.0  ...  -9999.0      None      None      None   \n",
       "\n",
       "  BFE_REVERT  DEP_REVERT  DUAL_ZONE     SOURCE_CIT  \\\n",
       "0    -9999.0     -9999.0       None  51001C_STUDY2   \n",
       "1    -9999.0     -9999.0       None  51001C_STUDY2   \n",
       "2    -9999.0     -9999.0       None  51001C_STUDY2   \n",
       "3    -9999.0     -9999.0       None  51001C_STUDY2   \n",
       "4    -9999.0     -9999.0       None  51001C_STUDY2   \n",
       "\n",
       "                                            geometry floodzones  \n",
       "0  POLYGON ((-75.33893 37.88938, -75.33921 37.889...       1per  \n",
       "1  POLYGON ((-75.31579 37.98302, -75.31628 37.982...       1per  \n",
       "2  POLYGON ((-75.30632 38.00647, -75.30685 38.006...          0  \n",
       "3  POLYGON ((-75.38663 38.01437, -75.38526 38.014...       1per  \n",
       "4  POLYGON ((-75.38742 38.01430, -75.38663 38.014...       1per  \n",
       "\n",
       "[5 rows x 21 columns]"
      ]
     },
     "execution_count": 10,
     "metadata": {},
     "output_type": "execute_result"
    }
   ],
   "source": [
    "# Create new floodzone: FLD_ZONE = A or AE is 1per, ZONE_SUBTY = 0.2 PCT ANNUAL CHANCE FLOOD HAZARD or AREA WITH REDUCED FLOOD RISK DUE TO LEVEE is 2per\n",
    "flood_def = [\n",
    "    (eastshore_fhl['FLD_ZONE'] == 'A') | (eastshore_fhl['FLD_ZONE'] == 'AE'),\n",
    "    (eastshore_fhl['ZONE_SUBTY'] == '0.2 PCT ANNUAL CHANCE FLOOD HAZARD') | (eastshore_fhl['ZONE_SUBTY'] == 'AREA WITH REDUCED FLOOD RISK DUE TO LEVEE')\n",
    "]\n",
    "values = ['1per', '2per']\n",
    "eastshore_fhl['floodzones'] = np.select(flood_def, values)\n",
    "eastshore_fhl.head()"
   ]
  },
  {
   "cell_type": "code",
   "execution_count": 11,
   "id": "8f267128",
   "metadata": {},
   "outputs": [],
   "source": [
    "def get_area(a):\n",
    "    # get area of shp in km^2\n",
    "    return round(a.geometry.to_crs(\"EPSG:3395\").map(lambda p: p.area / 10**6).iloc[0], 6)\n",
    "\n",
    "def get_intersection_area(a, b):\n",
    "    \"\"\"\n",
    "    Computes the intersection of a and b and returns the intersection area and size of the intersected area\n",
    "    as a percentage of the total area of a.\n",
    "    \n",
    "    Parameters\n",
    "    ----------\n",
    "    a : geopandas GeoDataFrame, required\n",
    "    b : geopandas GeoDataFrame, required\n",
    "    \"\"\"\n",
    "    intersection = gpd.overlay(a, b, how='intersection')\n",
    "    if len(intersection) == 0:\n",
    "        return {'area': 0, 'percent': 0}\n",
    "    \n",
    "    # get area of intersection in km^2\n",
    "    intersect_area = get_area(intersection)\n",
    "    \n",
    "    # get area of original shp in km^2\n",
    "    shp_area = get_area(a)\n",
    "    \n",
    "    # compute percentage of intersection of shp\n",
    "    percentage = (intersect_area / shp_area) * 100\n",
    "    \n",
    "    return {'area': intersect_area, 'percent': percentage}\n"
   ]
  },
  {
   "cell_type": "code",
   "execution_count": 12,
   "id": "d9991887",
   "metadata": {},
   "outputs": [],
   "source": [
    "def get_perc_fld_zone_in_region(fhl, sp, logging = False):\n",
    "    \"\"\"\n",
    "    Given National Flood Hazard Layer data (fhl) and spatial boundaries (sp) for counties, tracts, block groups, and blocks,\n",
    "    this method computes the intersected area between the flood zone and specific geographic area to get an estimate of how much\n",
    "    of that region is in what flood zone. \n",
    "    \n",
    "    Parameters\n",
    "    ----------\n",
    "    fhl : GeoPandas GeoDataFrame, required\n",
    "        National Flood Hazard Layer data.\n",
    "        \n",
    "    sp : dict, required\n",
    "        Python dictionary containing spatial boundaries for counties, tracts, block groups, and blocks.\n",
    "        Each spatial unit is a key for a GeoPandas GeoDataFrame with the spatial data.\n",
    "        \n",
    "    logging : bool, optional (default is False)\n",
    "        Whether or not print statements should be executed for more information during runtime.\n",
    "        \n",
    "    Output\n",
    "    ------\n",
    "    GeoPandas GeoDataFrame\n",
    "        Each row represents one flood zone type for a geographic region containing the information for how much of \n",
    "        that specific region was intersected by that flood zone type.\n",
    "        \n",
    "    \"\"\"\n",
    "    fld_zones = fhl.floodzones.value_counts().index.tolist()\n",
    "    area_df = pd.DataFrame()\n",
    "    for zone in fld_zones:\n",
    "        if logging:\n",
    "            print('Starting Zone: {zone}'.format(zone=zone))\n",
    "        zone_df = fhl[fhl.floodzones == zone].dissolve()\n",
    "        for su in ['counties', 'tracts', 'blkgps', 'blocks']:\n",
    "            if logging:\n",
    "                print('Starting Spatial Unit: {su}'.format(su = su))\n",
    "                \n",
    "            area_data = {\n",
    "                'GEOID': [],\n",
    "                'zone': [],\n",
    "                'spatial_unit': [],\n",
    "                'area': [],\n",
    "                'perc': []\n",
    "            }\n",
    "            \n",
    "            region = sp[su]\n",
    "            \n",
    "            if su == 'tracts':\n",
    "                # get counties that were intersected by this flood zone\n",
    "                intersected_areas = area_df[(area_df.zone == zone) & (area_df.spatial_unit == \"counties\") & (area_df.area > 0)]\n",
    "                intersected_counties = sp['counties'][sp['counties'].GEOID.isin(intersected_areas.GEOID.values)]\n",
    "                # filter region to only tracts within counties that have been intersected, reduces exploration\n",
    "                region = region[region.COUNTYFP.isin(intersected_counties.COUNTYFP.values)]\n",
    "            \n",
    "            elif su == 'blkgps':\n",
    "                # get tracts that were intersected by this flood zone\n",
    "                intersected_areas = area_df[(area_df.zone == zone) & (area_df.spatial_unit == \"tracts\") & (area_df.area > 0)]\n",
    "                intersected_tracts = sp['tracts'][sp['tracts'].GEOID.isin(intersected_areas.GEOID.values)]\n",
    "                # filter region to only blkgps within tracts that have been intersected, reduces exploration\n",
    "                region = region[region.TRACTCE.isin(intersected_tracts.TRACTCE.values)]\n",
    "                \n",
    "            elif su == 'blocks':\n",
    "                # get tracts that were intersected by this flood zone\n",
    "                intersected_areas = area_df[(area_df.zone == zone) & (area_df.spatial_unit == \"blkgps\") & (area_df.area > 0)]\n",
    "                intersected_blkgps = sp['blkgps'][sp['blkgps'].GEOID.isin(intersected_areas.GEOID.values)]\n",
    "                # filter region to only blocks that have been intersected, reduces exploration\n",
    "                region = region[region.BLKGRPCE.isin(intersected_blkgps.BLKGRPCE.values)]\n",
    "                \n",
    "            for i in tqdm(range(len(region))):\n",
    "                shp = region.iloc[[i]]\n",
    "                stats = get_intersection_area(shp, zone_df)\n",
    "                \n",
    "                # append data to area data\n",
    "                area_data['GEOID'].append(shp.GEOID.iloc[0])\n",
    "                area_data['zone'].append(zone)\n",
    "                area_data['spatial_unit'].append(su)\n",
    "                area_data['area'].append(stats['area'])\n",
    "                area_data['perc'].append(stats['percent'])\n",
    "                \n",
    "            area_df = pd.concat([area_df, pd.DataFrame(area_data)])\n",
    "            \n",
    "    return area_df"
   ]
  },
  {
   "cell_type": "code",
   "execution_count": 13,
   "id": "88f9f7b5",
   "metadata": {},
   "outputs": [
    {
     "name": "stdout",
     "output_type": "stream",
     "text": [
      "Starting Zone: 2per\n",
      "Starting Spatial Unit: counties\n"
     ]
    },
    {
     "name": "stderr",
     "output_type": "stream",
     "text": [
      "100%|██████████| 2/2 [00:05<00:00,  2.97s/it]\n"
     ]
    },
    {
     "name": "stdout",
     "output_type": "stream",
     "text": [
      "Starting Spatial Unit: tracts\n"
     ]
    },
    {
     "name": "stderr",
     "output_type": "stream",
     "text": [
      "100%|██████████| 16/16 [00:09<00:00,  1.62it/s]\n"
     ]
    },
    {
     "name": "stdout",
     "output_type": "stream",
     "text": [
      "Starting Spatial Unit: blkgps\n"
     ]
    },
    {
     "name": "stderr",
     "output_type": "stream",
     "text": [
      "100%|██████████| 43/43 [00:18<00:00,  2.27it/s]\n"
     ]
    },
    {
     "name": "stdout",
     "output_type": "stream",
     "text": [
      "Starting Spatial Unit: blocks\n"
     ]
    },
    {
     "name": "stderr",
     "output_type": "stream",
     "text": [
      "100%|██████████| 6370/6370 [29:29<00:00,  3.60it/s]\n"
     ]
    },
    {
     "name": "stdout",
     "output_type": "stream",
     "text": [
      "Starting Zone: 1per\n",
      "Starting Spatial Unit: counties\n"
     ]
    },
    {
     "name": "stderr",
     "output_type": "stream",
     "text": [
      "100%|██████████| 2/2 [00:14<00:00,  7.26s/it]\n"
     ]
    },
    {
     "name": "stdout",
     "output_type": "stream",
     "text": [
      "Starting Spatial Unit: tracts\n"
     ]
    },
    {
     "name": "stderr",
     "output_type": "stream",
     "text": [
      "100%|██████████| 16/16 [00:14<00:00,  1.10it/s]\n"
     ]
    },
    {
     "name": "stdout",
     "output_type": "stream",
     "text": [
      "Starting Spatial Unit: blkgps\n"
     ]
    },
    {
     "name": "stderr",
     "output_type": "stream",
     "text": [
      "100%|██████████| 45/45 [00:30<00:00,  1.48it/s]\n"
     ]
    },
    {
     "name": "stdout",
     "output_type": "stream",
     "text": [
      "Starting Spatial Unit: blocks\n"
     ]
    },
    {
     "name": "stderr",
     "output_type": "stream",
     "text": [
      "100%|██████████| 6469/6469 [59:48<00:00,  1.80it/s]  \n"
     ]
    },
    {
     "name": "stdout",
     "output_type": "stream",
     "text": [
      "Starting Zone: 0\n",
      "Starting Spatial Unit: counties\n"
     ]
    },
    {
     "name": "stderr",
     "output_type": "stream",
     "text": [
      "100%|██████████| 2/2 [00:05<00:00,  2.78s/it]\n"
     ]
    },
    {
     "name": "stdout",
     "output_type": "stream",
     "text": [
      "Starting Spatial Unit: tracts\n"
     ]
    },
    {
     "name": "stderr",
     "output_type": "stream",
     "text": [
      "100%|██████████| 16/16 [00:10<00:00,  1.48it/s]\n"
     ]
    },
    {
     "name": "stdout",
     "output_type": "stream",
     "text": [
      "Starting Spatial Unit: blkgps\n"
     ]
    },
    {
     "name": "stderr",
     "output_type": "stream",
     "text": [
      "100%|██████████| 46/46 [00:24<00:00,  1.89it/s]\n"
     ]
    },
    {
     "name": "stdout",
     "output_type": "stream",
     "text": [
      "Starting Spatial Unit: blocks\n"
     ]
    },
    {
     "name": "stderr",
     "output_type": "stream",
     "text": [
      "100%|██████████| 6469/6469 [55:52<00:00,  1.93it/s]  \n"
     ]
    }
   ],
   "source": [
    "eastshore_area_df = get_perc_fld_zone_in_region(eastshore_fhl, eastshore_sp, logging = True)"
   ]
  },
  {
   "cell_type": "code",
   "execution_count": 14,
   "id": "b21496e3",
   "metadata": {},
   "outputs": [
    {
     "data": {
      "text/plain": [
       "'/Users/micheleclaibourn/Box Sync/mpc/dataForDemocracy/summer-sandbox/eastern_shore_collection'"
      ]
     },
     "execution_count": 14,
     "metadata": {},
     "output_type": "execute_result"
    }
   ],
   "source": [
    "pwd"
   ]
  },
  {
   "cell_type": "code",
   "execution_count": 15,
   "id": "592267d8",
   "metadata": {},
   "outputs": [],
   "source": [
    "for key in ['counties', 'tracts', 'blkgps', 'blocks']:\n",
    "    eastshore_area_df[eastshore_area_df.spatial_unit == key].to_csv('dataraw/nfhl_eastern_{key}.csv'.format(key = key))"
   ]
  }
 ],
 "metadata": {
  "kernelspec": {
   "display_name": "Python 3 (ipykernel)",
   "language": "python",
   "name": "python3"
  },
  "language_info": {
   "codemirror_mode": {
    "name": "ipython",
    "version": 3
   },
   "file_extension": ".py",
   "mimetype": "text/x-python",
   "name": "python",
   "nbconvert_exporter": "python",
   "pygments_lexer": "ipython3",
   "version": "3.9.7"
  }
 },
 "nbformat": 4,
 "nbformat_minor": 5
}
