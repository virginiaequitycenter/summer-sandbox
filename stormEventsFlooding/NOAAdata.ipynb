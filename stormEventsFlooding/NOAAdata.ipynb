{
 "cells": [
  {
   "cell_type": "markdown",
   "metadata": {},
   "source": [
    "## NOAA Flood Sources"
   ]
  },
  {
   "cell_type": "markdown",
   "metadata": {},
   "source": [
    "Storm events: https://www.ncdc.noaa.gov/stormevents/ \n",
    "\n",
    "Sea level rise: https://coast.noaa.gov/digitalcoast/tools/slr.html"
   ]
  },
  {
   "cell_type": "markdown",
   "metadata": {},
   "source": [
    "### Storm Events Database\n",
    "\n",
    "- data from January 1950 to February 2021, as entered by NOAA's National Weather Service (NWS)\n",
    "-  NCEI has performed data reformatting and standardization of event types but has not changed any data values for locations, fatalities, injuries, damage, narratives and any other event specific information"
   ]
  },
  {
   "cell_type": "markdown",
   "metadata": {},
   "source": [
    "**Event Types**\n",
    "\n",
    "1. ***Tornado***: From 1950 through 1954, only tornado events were recorded.\n",
    "\n",
    "2. ***Tornado, Thunderstorm, Wind, and Hail***: From 1955 through 1992, only tornado, thunderstorm wind and hail events were keyed from the paper publications into digital data. From 1993 to 1995, only tornado, thunderstorm wind and hail events have been extracted from the Unformatted Text Files.\n",
    "\n",
    "3. ***All Event Types (48 from Directive 10-1605)***: From 1996 to present, 48 event types are recorded as defined in NWS Directive 10-1605"
   ]
  },
  {
   "cell_type": "markdown",
   "metadata": {},
   "source": [
    "Collection Sources: https://www.ncdc.noaa.gov/stormevents/details.jsp?type=collection"
   ]
  },
  {
   "cell_type": "markdown",
   "metadata": {},
   "source": [
    "Storm Events CSV files: https://www1.ncdc.noaa.gov/pub/data/swdi/stormevents/csvfiles/ \n",
    "\n",
    "\n",
    "(csv.gz files broken up by year, need to be unzipped using something like WinZip or 7-zip) "
   ]
  },
  {
   "cell_type": "markdown",
   "metadata": {},
   "source": [
    "Naming convention: https://www1.ncdc.noaa.gov/pub/data/swdi/stormevents/csvfiles/README \n",
    "\n",
    "- 'StormEvents_details-ftp' describes the table                          ---> (locations, fatalities, or details) \n",
    "\n",
    "- 'v1.0' describes the version of the internal CSV structure\n",
    "\n",
    "of the data, such as columns and column names                            ---> only version 1.0 present \n",
    "\n",
    "- 'd1972' describes the year of data                                     ---> 1950 - 2020, one per year\n",
    "\n",
    "- 'c20140508' describes the date that the file was created              "
   ]
  },
  {
   "cell_type": "markdown",
   "metadata": {},
   "source": [
    "**Storm Data Publications**: https://www.ncdc.noaa.gov/IPS/sd/sd.html#DESCRIPTION \n",
    "\n",
    "**Storm Preparation Report**: https://www.nws.noaa.gov/directives/sym/pd01016005curr.pdf\n",
    "\n",
    "**Search tool**: https://www.ncdc.noaa.gov/stormevents/\n",
    "\n",
    "***the link to \"Detailed information about the fields/columns\" is not functional (https://www1.ncdc.noaa.gov/pub/data/swdi/stormevents/csvfiles/Storm-Data-Export-Format.docx)***"
   ]
  },
  {
   "cell_type": "markdown",
   "metadata": {},
   "source": [
    "Year Ranges: \n",
    "- Locations: 1950 - 2021\n",
    "- Fatalities: 1950 - 2021\n",
    "- Details: 1950 - 2021"
   ]
  },
  {
   "cell_type": "markdown",
   "metadata": {},
   "source": [
    "### Data Exploration"
   ]
  },
  {
   "cell_type": "code",
   "execution_count": 1,
   "metadata": {},
   "outputs": [],
   "source": [
    "import pandas as pd\n",
    "import numpy as np"
   ]
  },
  {
   "cell_type": "markdown",
   "metadata": {},
   "source": [
    "**What’s the smallest spatial scale available?**\n",
    "Longitude and latitude, state and county FIPS codes\n",
    "\n",
    "**What time period/years are present?** 1950 - 2020"
   ]
  },
  {
   "cell_type": "markdown",
   "metadata": {},
   "source": [
    "**1950: details, locations, fatalities**"
   ]
  },
  {
   "cell_type": "code",
   "execution_count": 2,
   "metadata": {},
   "outputs": [],
   "source": [
    "details1950 = pd.read_csv('StormEvents_details-ftp_v1.0_d1950_c20170120.csv', encoding = \"ISO-8859-1\", engine='python') "
   ]
  },
  {
   "cell_type": "markdown",
   "metadata": {},
   "source": [
    "**Details Columns:**\n",
    "- `BEGIN_YEARMONTH`: YYYYMM\n",
    "- `BEGIN_DAY`: DD\n",
    "- `BEGIN_TIME`: HHMM (military time) \n",
    "- `END_YEARMONTH`: YYYYMM\n",
    "- `END_DAY`: DD\n",
    "- `END_TIME`: HHMM (military time) \n",
    "- `BEGIN_LON`, `BEGIN_LAT`: latitude and long values (float)\n",
    "- `BEGIN_RANGE`, `END_RANGE`, `MAGNITUDE`, `DEATHS_INDIRECT`, `INJURIES_INDIRECT`, `DAMAGE_CROPS`: all zeros\n",
    "- `TOR_WIDTH`: int, tornado width (units??) \n",
    "- `TOR_LENGTH`: float, tornado length (units??) \n",
    "- `DAMAGE_PROPERTY`: string, 'XK'\n",
    "- `INJURIES_DIRECT`: int \n",
    "- `END_DATE_TIME`, `BEGIN_DATE_TIME`: string, DD-MON-YY HH:MM:SS\n",
    "- `CZ_TIMEZONE`: all 'CST'\n",
    "- `CZ_NAME`: string, cz??\n",
    "- `EVENT_ID`: int, unique identifier of event \n",
    "- `STATE`: string, state \n",
    "- `DATA_SOURCE`: all 'PUB'\n",
    "- `YEAR`: int\n",
    "- `CZ_FIPS`, `STATE_FIPS`: int \n",
    "- `CZ_TYPE`: 'C'\n",
    "- `EVENT_TYPE`: string, all 'Tornado' bc this is only thing recorded in 1950 \n",
    "- `MONTH_NAME`: string \n",
    "- `TOR_F_SCALE`: string, F0, F1, etc."
   ]
  },
  {
   "cell_type": "markdown",
   "metadata": {},
   "source": [
    "**Missing Values**\n",
    "\n",
    "Completely empty in 1950 details:\n",
    "- `TOR_OTHER_CZ_NAME`\n",
    "- `BEGIN_AZIMUTH`\n",
    "- `SOURCE`\n",
    "- `MAGNITUDE_TYPE`\n",
    "- `FLOOD_CAUSE`\n",
    "- `CATEGORY`\n",
    "- `EPISODE_ID`\n",
    "- `WFO`\n",
    "- `TOR_OTHER_WFO`\n",
    "- `TOR_OTHER_CZ_STATE`\n",
    "- `TOR_OTHER_CZ_FIPS`\n",
    "- `EVENT_NARRATIVE`\n",
    "- `BEGIN_LOCATION`\n",
    "- `END_AZIMUTH`\n",
    "- `END_LOCATION`\n",
    "- `EPISODE_NARRATIVE`"
   ]
  },
  {
   "cell_type": "markdown",
   "metadata": {},
   "source": [
    "`END_LAT`, `END_LONG` ~ 50% empty in 1950\n",
    "\n",
    "All other fields essentially all full "
   ]
  },
  {
   "cell_type": "code",
   "execution_count": 3,
   "metadata": {},
   "outputs": [
    {
     "data": {
      "text/plain": [
       "TOR_OTHER_CZ_NAME     223\n",
       "BEGIN_AZIMUTH         223\n",
       "SOURCE                223\n",
       "MAGNITUDE_TYPE        223\n",
       "FLOOD_CAUSE           223\n",
       "CATEGORY              223\n",
       "EPISODE_ID            223\n",
       "WFO                   223\n",
       "TOR_OTHER_WFO         223\n",
       "TOR_OTHER_CZ_STATE    223\n",
       "TOR_OTHER_CZ_FIPS     223\n",
       "EVENT_NARRATIVE       223\n",
       "BEGIN_LOCATION        223\n",
       "END_AZIMUTH           223\n",
       "END_LOCATION          223\n",
       "EPISODE_NARRATIVE     223\n",
       "END_LAT               108\n",
       "END_LON               108\n",
       "TOR_F_SCALE             6\n",
       "MONTH_NAME              0\n",
       "dtype: int64"
      ]
     },
     "execution_count": 3,
     "metadata": {},
     "output_type": "execute_result"
    }
   ],
   "source": [
    "details1950.isnull().sum().sort_values(ascending = False).head(20)"
   ]
  },
  {
   "cell_type": "code",
   "execution_count": 4,
   "metadata": {},
   "outputs": [],
   "source": [
    "locations1950 = pd.read_csv('StormEvents_locations-ftp_v1.0_d1950_c20170120.csv', encoding = \"ISO-8859-1\", engine='python') "
   ]
  },
  {
   "cell_type": "markdown",
   "metadata": {},
   "source": [
    "**Locations columns:**\n",
    "- `YEARMONTH`\n",
    "- `EPISODE_ID`\n",
    "- `EVENT_ID`\n",
    "- `LOCATION_INDEX`\n",
    "- `RANGE`\n",
    "- `AZIMUTH`\n",
    "- `LOCATION`\n",
    "- `LATITUDE`\n",
    "- `LONGITUDE`\n",
    "- `LAT2`\n",
    "- `LON2`"
   ]
  },
  {
   "cell_type": "markdown",
   "metadata": {},
   "source": [
    "The locations spreadsheet is empty."
   ]
  },
  {
   "cell_type": "code",
   "execution_count": 5,
   "metadata": {},
   "outputs": [
    {
     "data": {
      "text/plain": [
       "0"
      ]
     },
     "execution_count": 5,
     "metadata": {},
     "output_type": "execute_result"
    }
   ],
   "source": [
    "len(locations1950)"
   ]
  },
  {
   "cell_type": "code",
   "execution_count": 6,
   "metadata": {},
   "outputs": [],
   "source": [
    "fatalities1950 = pd.read_csv('StormEvents_fatalities-ftp_v1.0_d1950_c20170120.csv', encoding = \"ISO-8859-1\", engine='python') "
   ]
  },
  {
   "cell_type": "code",
   "execution_count": 7,
   "metadata": {},
   "outputs": [
    {
     "name": "stdout",
     "output_type": "stream",
     "text": [
      "23 entries in the 1950 fatalities csv.\n"
     ]
    }
   ],
   "source": [
    "print(len(fatalities1950), 'entries in the 1950 fatalities csv.')"
   ]
  },
  {
   "cell_type": "markdown",
   "metadata": {},
   "source": [
    "**Fatalities columns:**\n",
    "- `FAT_YEARMONTH`: YYYYMM, int \n",
    "- `FAT_DAY`: DD, int\n",
    "- `FAT_TIME`: (HH)MM, military time, int\n",
    "- `FATALITY_ID`: unique identifier, int \n",
    "- `EVENT_ID`: unique identifier, int \n",
    "- `FATALITY_TYPE`: string, all 'D', probably direct and indirect \n",
    "- `FATALITY_DATE`: MM/DD/YYYY HH:MM:SS, string \n",
    "- `EVENT_YEARMONTH`: YYYYMM, int "
   ]
  },
  {
   "cell_type": "code",
   "execution_count": 8,
   "metadata": {},
   "outputs": [
    {
     "data": {
      "text/plain": [
       "FATALITY_LOCATION    23\n",
       "FATALITY_SEX         23\n",
       "FATALITY_AGE         23\n",
       "EVENT_YEARMONTH       0\n",
       "FATALITY_DATE         0\n",
       "dtype: int64"
      ]
     },
     "execution_count": 8,
     "metadata": {},
     "output_type": "execute_result"
    }
   ],
   "source": [
    "fatalities1950.isnull().sum().sort_values(ascending = False).head()"
   ]
  },
  {
   "cell_type": "markdown",
   "metadata": {},
   "source": [
    "**Completely empty in 1950 fatalities csv:**\n",
    "- `FATALITY_LOCATION`\n",
    "- `FATALITY_SEX`\n",
    "- `FATALITY_AGE`\n",
    "\n",
    "Every other column is completely full"
   ]
  },
  {
   "cell_type": "markdown",
   "metadata": {},
   "source": [
    "**2020: details, locations, fatalities**"
   ]
  },
  {
   "cell_type": "code",
   "execution_count": 9,
   "metadata": {},
   "outputs": [],
   "source": [
    "details2020 = pd.read_csv('StormEvents_details-ftp_v1.0_d2020_c20210604.csv', encoding = \"ISO-8859-1\", engine='python') \n",
    "fatalities2020 = pd.read_csv('StormEvents_fatalities-ftp_v1.0_d2020_c20210223.csv', encoding = \"ISO-8859-1\", engine='python') \n",
    "locations2020 = pd.read_csv('StormEvents_locations-ftp_v1.0_d2020_c20210223.csv', encoding = \"ISO-8859-1\", engine='python') "
   ]
  },
  {
   "cell_type": "markdown",
   "metadata": {},
   "source": [
    "***Percent missing values***"
   ]
  },
  {
   "cell_type": "code",
   "execution_count": 10,
   "metadata": {},
   "outputs": [
    {
     "data": {
      "text/plain": [
       "BEGIN_YEARMONTH        0.00\n",
       "BEGIN_DAY              0.00\n",
       "BEGIN_TIME             0.00\n",
       "END_YEARMONTH          0.00\n",
       "END_DAY                0.00\n",
       "END_TIME               0.00\n",
       "EPISODE_ID             0.00\n",
       "EVENT_ID               0.00\n",
       "STATE                  0.00\n",
       "STATE_FIPS             0.00\n",
       "YEAR                   0.00\n",
       "MONTH_NAME             0.00\n",
       "EVENT_TYPE             0.00\n",
       "CZ_TYPE                0.00\n",
       "CZ_FIPS                0.00\n",
       "CZ_NAME                0.00\n",
       "WFO                    0.00\n",
       "BEGIN_DATE_TIME        0.00\n",
       "CZ_TIMEZONE            0.00\n",
       "END_DATE_TIME          0.00\n",
       "INJURIES_DIRECT        0.00\n",
       "INJURIES_INDIRECT      0.00\n",
       "DEATHS_DIRECT          0.00\n",
       "DEATHS_INDIRECT        0.00\n",
       "DAMAGE_PROPERTY       21.14\n",
       "DAMAGE_CROPS          19.89\n",
       "SOURCE                 0.00\n",
       "MAGNITUDE             42.63\n",
       "MAGNITUDE_TYPE        55.29\n",
       "FLOOD_CAUSE           89.51\n",
       "CATEGORY              99.90\n",
       "TOR_F_SCALE           97.95\n",
       "TOR_LENGTH            97.95\n",
       "TOR_WIDTH             97.95\n",
       "TOR_OTHER_WFO         99.72\n",
       "TOR_OTHER_CZ_STATE    99.72\n",
       "TOR_OTHER_CZ_FIPS     99.72\n",
       "TOR_OTHER_CZ_NAME     99.72\n",
       "BEGIN_RANGE           34.54\n",
       "BEGIN_AZIMUTH         34.54\n",
       "BEGIN_LOCATION        34.54\n",
       "END_RANGE             34.54\n",
       "END_AZIMUTH           34.54\n",
       "END_LOCATION          34.54\n",
       "BEGIN_LAT             34.54\n",
       "BEGIN_LON             34.54\n",
       "END_LAT               34.54\n",
       "END_LON               34.54\n",
       "EPISODE_NARRATIVE      0.00\n",
       "EVENT_NARRATIVE       18.64\n",
       "DATA_SOURCE            0.00\n",
       "dtype: float64"
      ]
     },
     "execution_count": 10,
     "metadata": {},
     "output_type": "execute_result"
    }
   ],
   "source": [
    "round(details2020.isnull().mean() * 100,2)"
   ]
  },
  {
   "cell_type": "code",
   "execution_count": 11,
   "metadata": {},
   "outputs": [
    {
     "data": {
      "text/plain": [
       "FAT_YEARMONTH         0.00\n",
       "FAT_DAY               0.00\n",
       "FAT_TIME              0.00\n",
       "FATALITY_ID           0.00\n",
       "EVENT_ID              0.00\n",
       "FATALITY_TYPE         0.00\n",
       "FATALITY_DATE         0.00\n",
       "FATALITY_AGE         16.49\n",
       "FATALITY_SEX          7.97\n",
       "FATALITY_LOCATION     0.00\n",
       "EVENT_YEARMONTH       0.00\n",
       "dtype: float64"
      ]
     },
     "execution_count": 11,
     "metadata": {},
     "output_type": "execute_result"
    }
   ],
   "source": [
    "round(fatalities2020.isnull().mean() * 100,2)"
   ]
  },
  {
   "cell_type": "markdown",
   "metadata": {},
   "source": [
    "***Locations csv is completely populated***"
   ]
  },
  {
   "cell_type": "code",
   "execution_count": 12,
   "metadata": {},
   "outputs": [
    {
     "data": {
      "text/plain": [
       "50707"
      ]
     },
     "execution_count": 12,
     "metadata": {},
     "output_type": "execute_result"
    }
   ],
   "source": [
    "len(locations2020)"
   ]
  },
  {
   "cell_type": "code",
   "execution_count": 13,
   "metadata": {},
   "outputs": [
    {
     "data": {
      "text/plain": [
       "YEARMONTH         0.0\n",
       "EPISODE_ID        0.0\n",
       "EVENT_ID          0.0\n",
       "LOCATION_INDEX    0.0\n",
       "RANGE             0.0\n",
       "AZIMUTH           0.0\n",
       "LOCATION          0.0\n",
       "LATITUDE          0.0\n",
       "LONGITUDE         0.0\n",
       "LAT2              0.0\n",
       "LON2              0.0\n",
       "dtype: float64"
      ]
     },
     "execution_count": 13,
     "metadata": {},
     "output_type": "execute_result"
    }
   ],
   "source": [
    "round(locations2020.isnull().mean() * 100,2)"
   ]
  },
  {
   "cell_type": "markdown",
   "metadata": {},
   "source": [
    "**Locations Columns**\n",
    "- `YEARMONTH`: YYYYMM string\n",
    "- `EPISODE_ID`: unique id, int\n",
    "- `EVENT_ID`: unique id, int\n",
    "- `LOCATION_INDEX`: int, 1 - 8\n",
    "- `RANGE`: float, 0 - 49.35\n",
    "- `AZIMUTH`: string, cardinal directions\n",
    "- `LOCATION`: string \n",
    "- `LATITUDE`: float \n",
    "- `LONGITUDE`: float \n",
    "- `LAT2`: int, meaning??\n",
    "- `LON2`: int, meaning??"
   ]
  },
  {
   "cell_type": "markdown",
   "metadata": {},
   "source": [
    "***Differences from 1950 to 2020:***\n",
    "- much more data \n",
    "- same details, locations, and fatalities columns\n",
    "- same details column formats"
   ]
  },
  {
   "cell_type": "code",
   "execution_count": 14,
   "metadata": {},
   "outputs": [
    {
     "data": {
      "text/plain": [
       "True"
      ]
     },
     "execution_count": 14,
     "metadata": {},
     "output_type": "execute_result"
    }
   ],
   "source": [
    "details1950.columns.tolist() == details2020.columns.tolist()"
   ]
  },
  {
   "cell_type": "markdown",
   "metadata": {},
   "source": [
    "Join tables using the event IDs"
   ]
  },
  {
   "cell_type": "code",
   "execution_count": 20,
   "metadata": {},
   "outputs": [
    {
     "name": "stdout",
     "output_type": "stream",
     "text": [
      "2368 events in VA in 2020\n"
     ]
    }
   ],
   "source": [
    "print(len(details2020[details2020['STATE'] == 'VIRGINIA']), 'events in VA in 2020')"
   ]
  },
  {
   "cell_type": "code",
   "execution_count": 21,
   "metadata": {},
   "outputs": [],
   "source": [
    "vaEventDetails = details2020[details2020['STATE'] == 'VIRGINIA']"
   ]
  },
  {
   "cell_type": "markdown",
   "metadata": {},
   "source": [
    "**FIPS Codes of Interest**\n",
    "\n",
    "- The larger Charlottesville area: Charlottesville City (51540), Albemarle County (51003), Fluvanna (51065), Greene (51079), Louisa (51109), Nelson (51125)\n",
    "\n",
    "- The Eastern Shore area: Accomack (51001), Northampton (51131)"
   ]
  },
  {
   "cell_type": "markdown",
   "metadata": {},
   "source": [
    "***No areas of interest in the 2020 dataset***"
   ]
  },
  {
   "cell_type": "code",
   "execution_count": 40,
   "metadata": {},
   "outputs": [
    {
     "data": {
      "text/plain": [
       "False"
      ]
     },
     "execution_count": 40,
     "metadata": {},
     "output_type": "execute_result"
    }
   ],
   "source": [
    "51131 in vaEventDetails['CZ_FIPS'].unique()"
   ]
  },
  {
   "cell_type": "markdown",
   "metadata": {},
   "source": [
    "### Sea Level Rise Data\n",
    "https://coast.noaa.gov/digitalcoast/tools/slr.html"
   ]
  },
  {
   "cell_type": "markdown",
   "metadata": {},
   "source": [
    "Use this web mapping tool to visualize community-level impacts from coastal flooding or sea level rise (up to 10 feet above average high tides). Photo simulations of how future flooding might impact local landmarks are also provided, as well as data related to water depth, connectivity, flood frequency, socio-economic vulnerability, wetland loss and migration, and mapping confidence.\n",
    "\n",
    "- Visualize potential impacts from sea level rise through maps and photos\n",
    "- Learn about data and methods through documentation\n",
    "- Share maps and links via email and social media"
   ]
  },
  {
   "cell_type": "markdown",
   "metadata": {},
   "source": [
    "FAQ: https://coast.noaa.gov/data/digitalcoast/pdf/slr-faq.pdf"
   ]
  },
  {
   "cell_type": "markdown",
   "metadata": {},
   "source": [
    "- can view a simulation of sea level rise at certain coastal locations \n",
    "- can zoom into county level \n",
    "- 5 local scenarios in VA\n",
    "- shows marsh migration, flooding vulnerability, areas of high tide flooding, can also view mapping confidence \n",
    "- well documented mapping methods \n",
    "- to download data, you can filter by county (they have Accomack and Northampton)"
   ]
  },
  {
   "cell_type": "markdown",
   "metadata": {},
   "source": [
    "Accomack, Northampton: Sea Level Rise, Sea Level Rise Depth, Mapping Confidence, DEM, Flood Frequency\n",
    "- zip files (unzip w 7zip or WinZip) containing metadata XML files and gdb folders, need a program to open and convert GDB files "
   ]
  },
  {
   "cell_type": "markdown",
   "metadata": {},
   "source": [
    "More general database: https://coast.noaa.gov/digitalcoast/data/home.html"
   ]
  },
  {
   "cell_type": "markdown",
   "metadata": {},
   "source": [
    "### Flood Inundation Mapping (FIM) Program"
   ]
  },
  {
   "cell_type": "markdown",
   "metadata": {},
   "source": [
    "The USGS Flood Inundation Mapping Program has two main functions:\n",
    "\n",
    "**1) Partner with local communities to assist with the development and validation of flood inundation map libraries.**\n",
    "\n",
    "A flood inundation map library is a set of maps that shows where flooding may occur over a range of water levels in the community’s local stream or river. The USGS works with communities to identify an appropriate stream section, gather the necessary data to model where flooding will likely occur, and verify that the maps produced are scientifically sound.\n",
    "\n",
    "**2) Provide online access to flood inundation maps along with real-time streamflow data, flood forecasts, and potential loss estimates.**\n",
    "\n",
    "Once a community’s map library is complete, it is uploaded to the USGS FIM Mapper, an online public mapping application. The FIM Mapper allows users to explore the full set of inundation maps that shows where flooding would occur given a selected stream condition. Users can also access historical flood information and potential loss estimates based on the severity of the flood. The FIM Mapper helps communities visualize potential flooding scenarios, identify areas and resources that may be at risk, and enhance their local response effort during a flooding event."
   ]
  },
  {
   "cell_type": "markdown",
   "metadata": {},
   "source": [
    "**Can see:**\n",
    "- flood watches and warnings \n",
    "- AHPS Forecast Sites (major, moderate, minor flooding)\n",
    "- can show various geographic info and landscape imagery \n",
    "\n",
    "Have attribution links for data sources (see below): Water Resources, Floods and Droughts, Oregon Water Science Center, Upper Midwest Water Science Center"
   ]
  },
  {
   "cell_type": "markdown",
   "metadata": {},
   "source": [
    "**Water Resources**\n",
    "\n",
    "https://www.usgs.gov/mission-areas/water-resources \n",
    "\n",
    "unclear whether there is downloadable data \n",
    "\n",
    "**Floods and Droughts**\n",
    "\n",
    "link returns an error \n",
    "\n",
    "**Oregon Water Science Center**\n",
    "\n",
    "not relevant to VA\n",
    "\n",
    "**Upper Midwest Water Science Center**\n",
    "\n",
    "not relevant to VA"
   ]
  },
  {
   "cell_type": "markdown",
   "metadata": {},
   "source": [
    "***Doesn't seem as well documented, unclear whether there's downloadable/pullable data, not a lot of VA info***"
   ]
  },
  {
   "cell_type": "code",
   "execution_count": null,
   "metadata": {},
   "outputs": [],
   "source": []
  }
 ],
 "metadata": {
  "kernelspec": {
   "display_name": "Python 3",
   "language": "python",
   "name": "python3"
  },
  "language_info": {
   "codemirror_mode": {
    "name": "ipython",
    "version": 3
   },
   "file_extension": ".py",
   "mimetype": "text/x-python",
   "name": "python",
   "nbconvert_exporter": "python",
   "pygments_lexer": "ipython3",
   "version": "3.7.4"
  }
 },
 "nbformat": 4,
 "nbformat_minor": 4
}
