{
 "cells": [
  {
   "cell_type": "code",
   "execution_count": 1,
   "metadata": {},
   "outputs": [
    {
     "data": {
      "text/plain": [
       "'/Users/chasedawson/dev/uva_equity_center/summer-sandbox/nfhl'"
      ]
     },
     "execution_count": 1,
     "metadata": {},
     "output_type": "execute_result"
    }
   ],
   "source": [
    "import numpy as np\n",
    "import geopandas as gpd\n",
    "import pandas as pd\n",
    "import matplotlib.pyplot as plt\n",
    "import os\n",
    "from tqdm import tqdm\n",
    "\n",
    "%matplotlib inline\n",
    "\n",
    "os.chdir('/Users/chasedawson/dev/uva_equity_center/summer-sandbox/nfhl')\n",
    "os.getcwd()"
   ]
  },
  {
   "cell_type": "code",
   "execution_count": 8,
   "metadata": {},
   "outputs": [],
   "source": [
    "def read_spatial_data(basename, clip_coast=False, path_to_spatial_data=\"/../spatial_units/data\", path_to_water=\"/data/water/ne_10m_ocean.shp\"):\n",
    "    \"\"\"\n",
    "    Reads in spatial data that is in the format 'basename_spatialUnit.shp'.\n",
    "    \n",
    "    Parameters\n",
    "    ----------\n",
    "    basename : str, required\n",
    "        Base name of shape files. For example, if the files you want to read are of the format\n",
    "        'cville_counties.shp', 'cville_blocks.shp', etc. then the basename is 'cville'.\n",
    "        \n",
    "    clip_coast : bool, optional (default is False)\n",
    "        If True, shp data will be compared to coast line data and oceans will be clipped out.\n",
    "    \n",
    "    Output\n",
    "    ------\n",
    "    dictionary containing geopandas dataframes for each spatial unit\n",
    "    \n",
    "    \"\"\"\n",
    "    print('Reading spatial data for {basename}...'.format(basename = basename))\n",
    "    # read in coast line data \n",
    "    if clip_coast:\n",
    "        ocean = gpd.read_file(os.getcwd() + path_to_water)\n",
    "    \n",
    "    # store current working directory\n",
    "    og_wd = os.getcwd()\n",
    "    \n",
    "    \n",
    "    # change working directory to where spatial data is located\n",
    "    os.chdir(og_wd + path_to_spatial_data)\n",
    "    \n",
    "    # create empty dictionary\n",
    "    data = {}\n",
    "    \n",
    "    if clip_coast:\n",
    "        spatial_units = ['blocks', 'blkgps', 'tracts']\n",
    "\n",
    "        # read in counties and clip first\n",
    "        print(\"Reading counties...\")\n",
    "        counties = gpd.read_file(basename + '_counties.shp')\n",
    "        ocean = ocean.to_crs(counties.crs)\n",
    "        counties = gpd.overlay(counties, ocean, how='difference')\n",
    "        data['counties'] = counties\n",
    "        print(\"Done.\")\n",
    "    \n",
    "        # read in rest of shapefiles, clip respective to counties, store as keys in dict\n",
    "        for spatial_unit in spatial_units:\n",
    "            print(\"Reading {spatial_unit}...\".format(spatial_unit = spatial_unit))\n",
    "            # read in shp file\n",
    "            shp = gpd.read_file(basename + '_{spatial_unit}.shp'.format(spatial_unit = spatial_unit))\n",
    "\n",
    "            # convert coast line data to crs of shp \n",
    "            counties = counties.to_crs(shp.crs)\n",
    "\n",
    "            # clip out ocean\n",
    "            shp = gpd.overlay(shp, counties[['geometry']], how='intersection', keep_geom_type=True)\n",
    "\n",
    "            # add dict with spatial unit as key\n",
    "            data[spatial_unit] = shp\n",
    "            print(\"Done.\")\n",
    "            \n",
    "    else:\n",
    "        spatial_units = ['counties', 'blocks', 'blkgps', 'tracts']\n",
    "        for spatial_unit in spatial_units:\n",
    "            print(\"Reading {spatial_unit}...\".format(spatial_unit = spatial_unit))\n",
    "            shp = gpd.read_file(basename + '_{spatial_unit}.shp'.format(spatial_unit = spatial_unit))\n",
    "            data[spatial_unit] = shp\n",
    "            print(\"Done.\")\n",
    "\n",
    "    # reset back to original working directory\n",
    "    os.chdir(og_wd)\n",
    "    \n",
    "    return data"
   ]
  },
  {
   "cell_type": "code",
   "execution_count": 9,
   "metadata": {},
   "outputs": [
    {
     "name": "stdout",
     "output_type": "stream",
     "text": [
      "Reading spatial data for eastshore...\n",
      "Reading counties...\n",
      "Done.\n",
      "Reading blocks...\n",
      "Done.\n",
      "Reading blkgps...\n",
      "Done.\n",
      "Reading tracts...\n",
      "Done.\n"
     ]
    }
   ],
   "source": [
    "eastshore_clipped = read_spatial_data(\"eastshore\", clip_coast=True)"
   ]
  },
  {
   "cell_type": "code",
   "execution_count": 11,
   "metadata": {},
   "outputs": [],
   "source": [
    "# save clipped data\n",
    "for key in eastshore_clipped:\n",
    "    eastshore_clipped[key].to_file('../spatial_units/data/clipped_coast/eastshore_{sp}_clipped_coast.shp'.format(sp = key))"
   ]
  },
  {
   "cell_type": "code",
   "execution_count": null,
   "metadata": {},
   "outputs": [],
   "source": []
  }
 ],
 "metadata": {
  "kernelspec": {
   "display_name": "earth-analytics-python",
   "language": "python",
   "name": "earth-analytics-python"
  },
  "language_info": {
   "codemirror_mode": {
    "name": "ipython",
    "version": 3
   },
   "file_extension": ".py",
   "mimetype": "text/x-python",
   "name": "python",
   "nbconvert_exporter": "python",
   "pygments_lexer": "ipython3",
   "version": "3.8.10"
  }
 },
 "nbformat": 4,
 "nbformat_minor": 4
}
