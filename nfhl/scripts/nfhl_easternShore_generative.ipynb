{
 "cells": [
  {
   "cell_type": "code",
   "execution_count": 2,
   "metadata": {},
   "outputs": [
    {
     "data": {
      "text/plain": [
       "'/Users/chasedawson/dev/uva_equity_center/summer-sandbox/nfhl'"
      ]
     },
     "execution_count": 2,
     "metadata": {},
     "output_type": "execute_result"
    }
   ],
   "source": [
    "import numpy as np\n",
    "import geopandas as gpd\n",
    "import pandas as pd\n",
    "import matplotlib.pyplot as plt\n",
    "import os\n",
    "from tqdm import tqdm\n",
    "\n",
    "%matplotlib inline\n",
    "\n",
    "os.chdir('/Users/chasedawson/dev/uva_equity_center/summer-sandbox/nfhl')\n",
    "os.getcwd()"
   ]
  },
  {
   "cell_type": "code",
   "execution_count": 7,
   "metadata": {},
   "outputs": [],
   "source": [
    "# read in eastern shore clipped coast data\n",
    "eastshore_sp = {}\n",
    "spatial_units = ['counties', 'tracts', 'blkgps', 'blocks']\n",
    "path_to_data = '/../spatial_units/data/clipped_coast/'\n",
    "for su in spatial_units:\n",
    "    eastshore_sp[su] = gpd.read_file(os.getcwd() + path_to_data + 'eastshore_{su}_clipped_coast.shp'.format(su = su))"
   ]
  },
  {
   "cell_type": "code",
   "execution_count": 9,
   "metadata": {},
   "outputs": [
    {
     "data": {
      "text/html": [
       "<div>\n",
       "<style scoped>\n",
       "    .dataframe tbody tr th:only-of-type {\n",
       "        vertical-align: middle;\n",
       "    }\n",
       "\n",
       "    .dataframe tbody tr th {\n",
       "        vertical-align: top;\n",
       "    }\n",
       "\n",
       "    .dataframe thead th {\n",
       "        text-align: right;\n",
       "    }\n",
       "</style>\n",
       "<table border=\"1\" class=\"dataframe\">\n",
       "  <thead>\n",
       "    <tr style=\"text-align: right;\">\n",
       "      <th></th>\n",
       "      <th>DFIRM_ID</th>\n",
       "      <th>VERSION_ID</th>\n",
       "      <th>FLD_AR_ID</th>\n",
       "      <th>STUDY_TYP</th>\n",
       "      <th>FLD_ZONE</th>\n",
       "      <th>ZONE_SUBTY</th>\n",
       "      <th>SFHA_TF</th>\n",
       "      <th>STATIC_BFE</th>\n",
       "      <th>V_DATUM</th>\n",
       "      <th>DEPTH</th>\n",
       "      <th>LEN_UNIT</th>\n",
       "      <th>VELOCITY</th>\n",
       "      <th>VEL_UNIT</th>\n",
       "      <th>AR_REVERT</th>\n",
       "      <th>AR_SUBTRV</th>\n",
       "      <th>BFE_REVERT</th>\n",
       "      <th>DEP_REVERT</th>\n",
       "      <th>DUAL_ZONE</th>\n",
       "      <th>SOURCE_CIT</th>\n",
       "      <th>geometry</th>\n",
       "    </tr>\n",
       "  </thead>\n",
       "  <tbody>\n",
       "    <tr>\n",
       "      <th>0</th>\n",
       "      <td>51001C</td>\n",
       "      <td>1.1.1.0</td>\n",
       "      <td>51001C_51001C_491</td>\n",
       "      <td>NP</td>\n",
       "      <td>X</td>\n",
       "      <td>AREA OF MINIMAL FLOOD HAZARD</td>\n",
       "      <td>F</td>\n",
       "      <td>-9999.0</td>\n",
       "      <td>None</td>\n",
       "      <td>-9999.0</td>\n",
       "      <td>None</td>\n",
       "      <td>-9999.0</td>\n",
       "      <td>None</td>\n",
       "      <td>None</td>\n",
       "      <td>None</td>\n",
       "      <td>-9999.0</td>\n",
       "      <td>-9999.0</td>\n",
       "      <td>None</td>\n",
       "      <td>51001C_51001C_STUDY2</td>\n",
       "      <td>POLYGON ((-75.35198 37.92819, -75.35207 37.928...</td>\n",
       "    </tr>\n",
       "    <tr>\n",
       "      <th>1</th>\n",
       "      <td>51001C</td>\n",
       "      <td>1.1.1.0</td>\n",
       "      <td>51001C_51001C_492</td>\n",
       "      <td>NP</td>\n",
       "      <td>AE</td>\n",
       "      <td>None</td>\n",
       "      <td>T</td>\n",
       "      <td>10.0</td>\n",
       "      <td>NAVD88</td>\n",
       "      <td>-9999.0</td>\n",
       "      <td>Feet</td>\n",
       "      <td>-9999.0</td>\n",
       "      <td>None</td>\n",
       "      <td>None</td>\n",
       "      <td>None</td>\n",
       "      <td>-9999.0</td>\n",
       "      <td>-9999.0</td>\n",
       "      <td>None</td>\n",
       "      <td>51001C_51001C_STUDY2</td>\n",
       "      <td>POLYGON ((-75.64995 37.92998, -75.64994 37.930...</td>\n",
       "    </tr>\n",
       "    <tr>\n",
       "      <th>2</th>\n",
       "      <td>51001C</td>\n",
       "      <td>1.1.1.0</td>\n",
       "      <td>51001C_51001C_488</td>\n",
       "      <td>NP</td>\n",
       "      <td>X</td>\n",
       "      <td>AREA OF MINIMAL FLOOD HAZARD</td>\n",
       "      <td>F</td>\n",
       "      <td>-9999.0</td>\n",
       "      <td>None</td>\n",
       "      <td>-9999.0</td>\n",
       "      <td>None</td>\n",
       "      <td>-9999.0</td>\n",
       "      <td>None</td>\n",
       "      <td>None</td>\n",
       "      <td>None</td>\n",
       "      <td>-9999.0</td>\n",
       "      <td>-9999.0</td>\n",
       "      <td>None</td>\n",
       "      <td>51001C_51001C_STUDY2</td>\n",
       "      <td>POLYGON ((-75.34462 37.92899, -75.34462 37.929...</td>\n",
       "    </tr>\n",
       "    <tr>\n",
       "      <th>3</th>\n",
       "      <td>51001C</td>\n",
       "      <td>1.1.1.0</td>\n",
       "      <td>51001C_51001C_489</td>\n",
       "      <td>NP</td>\n",
       "      <td>X</td>\n",
       "      <td>0.2 PCT ANNUAL CHANCE FLOOD HAZARD</td>\n",
       "      <td>F</td>\n",
       "      <td>-9999.0</td>\n",
       "      <td>None</td>\n",
       "      <td>-9999.0</td>\n",
       "      <td>None</td>\n",
       "      <td>-9999.0</td>\n",
       "      <td>None</td>\n",
       "      <td>None</td>\n",
       "      <td>None</td>\n",
       "      <td>-9999.0</td>\n",
       "      <td>-9999.0</td>\n",
       "      <td>None</td>\n",
       "      <td>51001C_51001C_STUDY2</td>\n",
       "      <td>POLYGON ((-75.38406 37.93054, -75.38406 37.930...</td>\n",
       "    </tr>\n",
       "    <tr>\n",
       "      <th>4</th>\n",
       "      <td>51001C</td>\n",
       "      <td>1.1.1.0</td>\n",
       "      <td>51001C_51001C_490</td>\n",
       "      <td>NP</td>\n",
       "      <td>AE</td>\n",
       "      <td>None</td>\n",
       "      <td>T</td>\n",
       "      <td>5.0</td>\n",
       "      <td>NAVD88</td>\n",
       "      <td>-9999.0</td>\n",
       "      <td>Feet</td>\n",
       "      <td>-9999.0</td>\n",
       "      <td>None</td>\n",
       "      <td>None</td>\n",
       "      <td>None</td>\n",
       "      <td>-9999.0</td>\n",
       "      <td>-9999.0</td>\n",
       "      <td>None</td>\n",
       "      <td>51001C_51001C_STUDY2</td>\n",
       "      <td>POLYGON ((-75.37010 37.92721, -75.37037 37.927...</td>\n",
       "    </tr>\n",
       "  </tbody>\n",
       "</table>\n",
       "</div>"
      ],
      "text/plain": [
       "  DFIRM_ID VERSION_ID          FLD_AR_ID STUDY_TYP FLD_ZONE  \\\n",
       "0   51001C    1.1.1.0  51001C_51001C_491        NP        X   \n",
       "1   51001C    1.1.1.0  51001C_51001C_492        NP       AE   \n",
       "2   51001C    1.1.1.0  51001C_51001C_488        NP        X   \n",
       "3   51001C    1.1.1.0  51001C_51001C_489        NP        X   \n",
       "4   51001C    1.1.1.0  51001C_51001C_490        NP       AE   \n",
       "\n",
       "                           ZONE_SUBTY SFHA_TF  STATIC_BFE V_DATUM   DEPTH  \\\n",
       "0        AREA OF MINIMAL FLOOD HAZARD       F     -9999.0    None -9999.0   \n",
       "1                                None       T        10.0  NAVD88 -9999.0   \n",
       "2        AREA OF MINIMAL FLOOD HAZARD       F     -9999.0    None -9999.0   \n",
       "3  0.2 PCT ANNUAL CHANCE FLOOD HAZARD       F     -9999.0    None -9999.0   \n",
       "4                                None       T         5.0  NAVD88 -9999.0   \n",
       "\n",
       "  LEN_UNIT  VELOCITY VEL_UNIT AR_REVERT AR_SUBTRV  BFE_REVERT  DEP_REVERT  \\\n",
       "0     None   -9999.0     None      None      None     -9999.0     -9999.0   \n",
       "1     Feet   -9999.0     None      None      None     -9999.0     -9999.0   \n",
       "2     None   -9999.0     None      None      None     -9999.0     -9999.0   \n",
       "3     None   -9999.0     None      None      None     -9999.0     -9999.0   \n",
       "4     Feet   -9999.0     None      None      None     -9999.0     -9999.0   \n",
       "\n",
       "  DUAL_ZONE            SOURCE_CIT  \\\n",
       "0      None  51001C_51001C_STUDY2   \n",
       "1      None  51001C_51001C_STUDY2   \n",
       "2      None  51001C_51001C_STUDY2   \n",
       "3      None  51001C_51001C_STUDY2   \n",
       "4      None  51001C_51001C_STUDY2   \n",
       "\n",
       "                                            geometry  \n",
       "0  POLYGON ((-75.35198 37.92819, -75.35207 37.928...  \n",
       "1  POLYGON ((-75.64995 37.92998, -75.64994 37.930...  \n",
       "2  POLYGON ((-75.34462 37.92899, -75.34462 37.929...  \n",
       "3  POLYGON ((-75.38406 37.93054, -75.38406 37.930...  \n",
       "4  POLYGON ((-75.37010 37.92721, -75.37037 37.927...  "
      ]
     },
     "execution_count": 9,
     "metadata": {},
     "output_type": "execute_result"
    }
   ],
   "source": [
    "accomack_data_path = \"./data/accomack/51001C_20150617\"\n",
    "northampton_data_path = \"./data/northampton/51131C_20150302\"\n",
    "\n",
    "eastshore_data_paths = [\n",
    "    accomack_data_path,\n",
    "    northampton_data_path\n",
    "]\n",
    "\n",
    "def read_paths(paths):\n",
    "    return pd.concat([gpd.read_file(path) for path in paths])\n",
    "\n",
    "paths = [os.path.join(data_path, \"S_Fld_Haz_Ar.shp\") for data_path in eastshore_data_paths]\n",
    "eastshore_fhl = read_paths(paths)\n",
    "eastshore_fhl.head()"
   ]
  },
  {
   "cell_type": "code",
   "execution_count": 10,
   "metadata": {},
   "outputs": [],
   "source": [
    "def get_area(a):\n",
    "    # get area of shp in km^2\n",
    "    return round(a.geometry.to_crs(\"EPSG:3395\").map(lambda p: p.area / 10**6).iloc[0], 6)\n",
    "\n",
    "def get_intersection_area(a, b):\n",
    "    \"\"\"\n",
    "    Computes the intersection of a and b and returns the intersection area and size of the intersected area\n",
    "    as a percentage of the total area of a.\n",
    "    \n",
    "    Parameters\n",
    "    ----------\n",
    "    a : geopandas GeoDataFrame, required\n",
    "    b : geopandas GeoDataFrame, required\n",
    "    \"\"\"\n",
    "    intersection = gpd.overlay(a, b, how='intersection')\n",
    "    if len(intersection) == 0:\n",
    "        return {'area': 0, 'percent': 0}\n",
    "    \n",
    "    # get area of intersection in km^2\n",
    "    intersect_area = get_area(intersection)\n",
    "    \n",
    "    # get area of original shp in km^2\n",
    "    shp_area = get_area(a)\n",
    "    \n",
    "    # compute percentage of intersection of shp\n",
    "    percentage = (intersect_area / shp_area) * 100\n",
    "    \n",
    "    return {'area': intersect_area, 'percent': percentage}"
   ]
  },
  {
   "cell_type": "code",
   "execution_count": 11,
   "metadata": {},
   "outputs": [
    {
     "data": {
      "text/plain": [
       "['0.2 PCT ANNUAL CHANCE FLOOD HAZARD', 'AREA OF MINIMAL FLOOD HAZARD']"
      ]
     },
     "execution_count": 11,
     "metadata": {},
     "output_type": "execute_result"
    }
   ],
   "source": [
    "fld_zones = eastshore_fhl.ZONE_SUBTY.value_counts().index.tolist()\n",
    "fld_zones"
   ]
  },
  {
   "cell_type": "code",
   "execution_count": 17,
   "metadata": {},
   "outputs": [],
   "source": [
    "def get_perc_fld_zone_in_region(fhl, sp, logging = False):\n",
    "    \"\"\"\n",
    "    Given National Flood Hazard Layer data (fhl) and spatial boundaries (sp) for counties, tracts, block groups, and blocks,\n",
    "    this method computes the intersected area between the flood zone and specific geographic area to get an estimate of how much\n",
    "    of that region is in what flood zone. \n",
    "    \n",
    "    Parameters\n",
    "    ----------\n",
    "    fhl : GeoPandas GeoDataFrame, required\n",
    "        National Flood Hazard Layer data.\n",
    "        \n",
    "    sp : dict, required\n",
    "        Python dictionary containing spatial boundaries for counties, tracts, block groups, and blocks.\n",
    "        Each spatial unit is a key for a GeoPandas GeoDataFrame with the spatial data.\n",
    "        \n",
    "    logging : bool, optional (default is False)\n",
    "        Whether or not print statements should be executed for more information during runtime.\n",
    "        \n",
    "    Output\n",
    "    ------\n",
    "    GeoPandas GeoDataFrame\n",
    "        Each row represents one flood zone type for a geographic region containing the information for how much of \n",
    "        that specific region was intersected by that flood zone type.\n",
    "        \n",
    "    \"\"\"\n",
    "    fld_zones = fhl.ZONE_SUBTY.value_counts().index.tolist()\n",
    "    area_df = pd.DataFrame()\n",
    "    for zone in fld_zones:\n",
    "        if logging:\n",
    "            print('Starting Zone: {zone}'.format(zone=zone))\n",
    "        zone_df = fhl[fhl.ZONE_SUBTY == zone].dissolve()\n",
    "        for su in ['counties', 'tracts', 'blkgps', 'blocks']:\n",
    "            if logging:\n",
    "                print('Starting Spatial Unit: {su}'.format(su = su))\n",
    "                \n",
    "            area_data = {\n",
    "                'GEOID': [],\n",
    "                'zone': [],\n",
    "                'spatial_unit': [],\n",
    "                'area': [],\n",
    "                'perc': []\n",
    "            }\n",
    "            \n",
    "            region = sp[su]\n",
    "            \n",
    "            if su == 'tracts':\n",
    "                # get counties that were intersected by this flood zone\n",
    "                intersected_areas = area_df[(area_df.zone == zone) & (area_df.spatial_unit == \"counties\") & (area_df.area > 0)]\n",
    "                intersected_counties = sp['counties'][sp['counties'].GEOID.isin(intersected_areas.GEOID.values)]\n",
    "                # filter region to only tracts within counties that have been intersected, reduces exploration\n",
    "                region = region[region.COUNTYFP.isin(intersected_counties.COUNTYFP.values)]\n",
    "            \n",
    "            elif su == 'blkgps':\n",
    "                # get tracts that were intersected by this flood zone\n",
    "                intersected_areas = area_df[(area_df.zone == zone) & (area_df.spatial_unit == \"tracts\") & (area_df.area > 0)]\n",
    "                intersected_tracts = sp['tracts'][sp['tracts'].GEOID.isin(intersected_areas.GEOID.values)]\n",
    "                # filter region to only blkgps within tracts that have been intersected, reduces exploration\n",
    "                region = region[region.TRACTCE.isin(intersected_tracts.TRACTCE.values)]\n",
    "                \n",
    "            elif su == 'blocks':\n",
    "                # get tracts that were intersected by this flood zone\n",
    "                intersected_areas = area_df[(area_df.zone == zone) & (area_df.spatial_unit == \"tracts\") & (area_df.area > 0)]\n",
    "                intersected_tracts = sp['tracts'][sp['tracts'].GEOID.isin(intersected_areas.GEOID.values)]\n",
    "                # filter region to only blocks that have been intersected, reduces exploration\n",
    "                region = region[region.TRACTCE.isin(intersected_tracts.TRACTCE.values)]\n",
    "                \n",
    "            for i in tqdm(range(len(region))):\n",
    "                shp = region.iloc[[i]]\n",
    "                stats = get_intersection_area(shp, zone_df)\n",
    "                \n",
    "                # append data to area data\n",
    "                area_data['GEOID'].append(shp.GEOID.iloc[0])\n",
    "                area_data['zone'].append(zone)\n",
    "                area_data['spatial_unit'].append(su)\n",
    "                area_data['area'].append(stats['area'])\n",
    "                area_data['perc'].append(stats['percent'])\n",
    "                \n",
    "            area_df = pd.concat([area_df, pd.DataFrame(area_data)])\n",
    "            \n",
    "    return area_df"
   ]
  },
  {
   "cell_type": "code",
   "execution_count": 18,
   "metadata": {},
   "outputs": [
    {
     "name": "stdout",
     "output_type": "stream",
     "text": [
      "Starting Zone: 0.2 PCT ANNUAL CHANCE FLOOD HAZARD\n"
     ]
    },
    {
     "name": "stderr",
     "output_type": "stream",
     "text": [
      "\r",
      "  0%|          | 0/2 [00:00<?, ?it/s]"
     ]
    },
    {
     "name": "stdout",
     "output_type": "stream",
     "text": [
      "Starting Spatial Unit: counties\n"
     ]
    },
    {
     "name": "stderr",
     "output_type": "stream",
     "text": [
      "100%|██████████| 2/2 [00:09<00:00,  4.59s/it]\n",
      "  0%|          | 0/16 [00:00<?, ?it/s]"
     ]
    },
    {
     "name": "stdout",
     "output_type": "stream",
     "text": [
      "Starting Spatial Unit: tracts\n"
     ]
    },
    {
     "name": "stderr",
     "output_type": "stream",
     "text": [
      "100%|██████████| 16/16 [00:16<00:00,  1.01s/it]\n",
      "  0%|          | 0/43 [00:00<?, ?it/s]"
     ]
    },
    {
     "name": "stdout",
     "output_type": "stream",
     "text": [
      "Starting Spatial Unit: blkgps\n"
     ]
    },
    {
     "name": "stderr",
     "output_type": "stream",
     "text": [
      "100%|██████████| 43/43 [00:30<00:00,  1.41it/s]\n",
      "  0%|          | 0/5526 [00:00<?, ?it/s]"
     ]
    },
    {
     "name": "stdout",
     "output_type": "stream",
     "text": [
      "Starting Spatial Unit: blocks\n"
     ]
    },
    {
     "name": "stderr",
     "output_type": "stream",
     "text": [
      "100%|██████████| 5526/5526 [1:15:57<00:00,  1.21it/s]\n"
     ]
    },
    {
     "name": "stdout",
     "output_type": "stream",
     "text": [
      "Starting Zone: AREA OF MINIMAL FLOOD HAZARD\n"
     ]
    },
    {
     "name": "stderr",
     "output_type": "stream",
     "text": [
      "\r",
      "  0%|          | 0/2 [00:00<?, ?it/s]"
     ]
    },
    {
     "name": "stdout",
     "output_type": "stream",
     "text": [
      "Starting Spatial Unit: counties\n"
     ]
    },
    {
     "name": "stderr",
     "output_type": "stream",
     "text": [
      "100%|██████████| 2/2 [00:09<00:00,  4.94s/it]\n",
      "  0%|          | 0/16 [00:00<?, ?it/s]"
     ]
    },
    {
     "name": "stdout",
     "output_type": "stream",
     "text": [
      "Starting Spatial Unit: tracts\n"
     ]
    },
    {
     "name": "stderr",
     "output_type": "stream",
     "text": [
      "100%|██████████| 16/16 [00:16<00:00,  1.05s/it]\n",
      "  0%|          | 0/42 [00:00<?, ?it/s]"
     ]
    },
    {
     "name": "stdout",
     "output_type": "stream",
     "text": [
      "Starting Spatial Unit: blkgps\n"
     ]
    },
    {
     "name": "stderr",
     "output_type": "stream",
     "text": [
      "100%|██████████| 42/42 [00:38<00:00,  1.10it/s]\n",
      "  0%|          | 0/5438 [00:00<?, ?it/s]"
     ]
    },
    {
     "name": "stdout",
     "output_type": "stream",
     "text": [
      "Starting Spatial Unit: blocks\n"
     ]
    },
    {
     "name": "stderr",
     "output_type": "stream",
     "text": [
      "100%|██████████| 5438/5438 [1:18:57<00:00,  1.15it/s]\n"
     ]
    }
   ],
   "source": [
    "eastshore_area_df = get_perc_fld_zone_in_region(eastshore_fhl, eastshore_sp, logging = True)\n"
   ]
  },
  {
   "cell_type": "code",
   "execution_count": 7,
   "metadata": {},
   "outputs": [
    {
     "data": {
      "text/html": [
       "<div>\n",
       "<style scoped>\n",
       "    .dataframe tbody tr th:only-of-type {\n",
       "        vertical-align: middle;\n",
       "    }\n",
       "\n",
       "    .dataframe tbody tr th {\n",
       "        vertical-align: top;\n",
       "    }\n",
       "\n",
       "    .dataframe thead th {\n",
       "        text-align: right;\n",
       "    }\n",
       "</style>\n",
       "<table border=\"1\" class=\"dataframe\">\n",
       "  <thead>\n",
       "    <tr style=\"text-align: right;\">\n",
       "      <th></th>\n",
       "      <th>Unnamed: 0</th>\n",
       "      <th>GEOID</th>\n",
       "      <th>zone</th>\n",
       "      <th>spatial_unit</th>\n",
       "      <th>area</th>\n",
       "      <th>perc</th>\n",
       "    </tr>\n",
       "  </thead>\n",
       "  <tbody>\n",
       "    <tr>\n",
       "      <th>0</th>\n",
       "      <td>0</td>\n",
       "      <td>51001</td>\n",
       "      <td>0.2 PCT ANNUAL CHANCE FLOOD HAZARD</td>\n",
       "      <td>counties</td>\n",
       "      <td>89.490235</td>\n",
       "      <td>4.970083</td>\n",
       "    </tr>\n",
       "    <tr>\n",
       "      <th>1</th>\n",
       "      <td>1</td>\n",
       "      <td>51131</td>\n",
       "      <td>0.2 PCT ANNUAL CHANCE FLOOD HAZARD</td>\n",
       "      <td>counties</td>\n",
       "      <td>12.561390</td>\n",
       "      <td>1.499431</td>\n",
       "    </tr>\n",
       "    <tr>\n",
       "      <th>2</th>\n",
       "      <td>0</td>\n",
       "      <td>51001090200</td>\n",
       "      <td>0.2 PCT ANNUAL CHANCE FLOOD HAZARD</td>\n",
       "      <td>tracts</td>\n",
       "      <td>7.141430</td>\n",
       "      <td>2.320335</td>\n",
       "    </tr>\n",
       "    <tr>\n",
       "      <th>3</th>\n",
       "      <td>1</td>\n",
       "      <td>51001980200</td>\n",
       "      <td>0.2 PCT ANNUAL CHANCE FLOOD HAZARD</td>\n",
       "      <td>tracts</td>\n",
       "      <td>0.314403</td>\n",
       "      <td>0.355123</td>\n",
       "    </tr>\n",
       "    <tr>\n",
       "      <th>4</th>\n",
       "      <td>2</td>\n",
       "      <td>51001980100</td>\n",
       "      <td>0.2 PCT ANNUAL CHANCE FLOOD HAZARD</td>\n",
       "      <td>tracts</td>\n",
       "      <td>0.443251</td>\n",
       "      <td>0.831531</td>\n",
       "    </tr>\n",
       "  </tbody>\n",
       "</table>\n",
       "</div>"
      ],
      "text/plain": [
       "   Unnamed: 0        GEOID                                zone spatial_unit  \\\n",
       "0           0        51001  0.2 PCT ANNUAL CHANCE FLOOD HAZARD     counties   \n",
       "1           1        51131  0.2 PCT ANNUAL CHANCE FLOOD HAZARD     counties   \n",
       "2           0  51001090200  0.2 PCT ANNUAL CHANCE FLOOD HAZARD       tracts   \n",
       "3           1  51001980200  0.2 PCT ANNUAL CHANCE FLOOD HAZARD       tracts   \n",
       "4           2  51001980100  0.2 PCT ANNUAL CHANCE FLOOD HAZARD       tracts   \n",
       "\n",
       "        area      perc  \n",
       "0  89.490235  4.970083  \n",
       "1  12.561390  1.499431  \n",
       "2   7.141430  2.320335  \n",
       "3   0.314403  0.355123  \n",
       "4   0.443251  0.831531  "
      ]
     },
     "execution_count": 7,
     "metadata": {},
     "output_type": "execute_result"
    }
   ],
   "source": [
    "eastshore_area_df.head()"
   ]
  },
  {
   "cell_type": "code",
   "execution_count": 6,
   "metadata": {},
   "outputs": [],
   "source": [
    "for key in ['counties', 'tracts', 'blkgps', 'blocks']:\n",
    "    to_save = eastshore_area_df[eastshore_area_df.spatial_unit == key]\n",
    "    to_save.to_csv('./data/nfhl_eastshore_{sp}.csv'.format(sp = key))"
   ]
  }
 ],
 "metadata": {
  "kernelspec": {
   "display_name": "earth-analytics-python",
   "language": "python",
   "name": "earth-analytics-python"
  },
  "language_info": {
   "codemirror_mode": {
    "name": "ipython",
    "version": 3
   },
   "file_extension": ".py",
   "mimetype": "text/x-python",
   "name": "python",
   "nbconvert_exporter": "python",
   "pygments_lexer": "ipython3",
   "version": "3.8.10"
  }
 },
 "nbformat": 4,
 "nbformat_minor": 4
}
