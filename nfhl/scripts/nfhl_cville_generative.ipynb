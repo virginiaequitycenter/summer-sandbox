{
 "cells": [
  {
   "cell_type": "code",
   "execution_count": 1,
   "metadata": {},
   "outputs": [
    {
     "data": {
      "text/plain": [
       "'/Users/chasedawson/dev/uva_equity_center/summer-sandbox/nfhl'"
      ]
     },
     "execution_count": 1,
     "metadata": {},
     "output_type": "execute_result"
    }
   ],
   "source": [
    "import numpy as np\n",
    "import geopandas as gpd\n",
    "import pandas as pd\n",
    "import matplotlib.pyplot as plt\n",
    "import os\n",
    "from tqdm import tqdm\n",
    "\n",
    "%matplotlib inline\n",
    "\n",
    "os.chdir('/Users/chasedawson/dev/uva_equity_center/summer-sandbox/nfhl')\n",
    "os.getcwd()"
   ]
  },
  {
   "cell_type": "code",
   "execution_count": 2,
   "metadata": {},
   "outputs": [],
   "source": [
    "# read in eastern shore clipped coast data\n",
    "cville_sp = {}\n",
    "spatial_units = ['counties', 'tracts', 'blkgps', 'blocks']\n",
    "path_to_data = '/../spatial_units/data/'\n",
    "for su in spatial_units:\n",
    "    cville_sp[su] = gpd.read_file(os.getcwd() + path_to_data + 'cville_{su}.shp'.format(su = su))"
   ]
  },
  {
   "cell_type": "code",
   "execution_count": 3,
   "metadata": {},
   "outputs": [
    {
     "data": {
      "text/html": [
       "<div>\n",
       "<style scoped>\n",
       "    .dataframe tbody tr th:only-of-type {\n",
       "        vertical-align: middle;\n",
       "    }\n",
       "\n",
       "    .dataframe tbody tr th {\n",
       "        vertical-align: top;\n",
       "    }\n",
       "\n",
       "    .dataframe thead th {\n",
       "        text-align: right;\n",
       "    }\n",
       "</style>\n",
       "<table border=\"1\" class=\"dataframe\">\n",
       "  <thead>\n",
       "    <tr style=\"text-align: right;\">\n",
       "      <th></th>\n",
       "      <th>DFIRM_ID</th>\n",
       "      <th>VERSION_ID</th>\n",
       "      <th>FLD_AR_ID</th>\n",
       "      <th>STUDY_TYP</th>\n",
       "      <th>FLD_ZONE</th>\n",
       "      <th>ZONE_SUBTY</th>\n",
       "      <th>SFHA_TF</th>\n",
       "      <th>STATIC_BFE</th>\n",
       "      <th>V_DATUM</th>\n",
       "      <th>DEPTH</th>\n",
       "      <th>LEN_UNIT</th>\n",
       "      <th>VELOCITY</th>\n",
       "      <th>VEL_UNIT</th>\n",
       "      <th>AR_REVERT</th>\n",
       "      <th>AR_SUBTRV</th>\n",
       "      <th>BFE_REVERT</th>\n",
       "      <th>DEP_REVERT</th>\n",
       "      <th>DUAL_ZONE</th>\n",
       "      <th>SOURCE_CIT</th>\n",
       "      <th>geometry</th>\n",
       "    </tr>\n",
       "  </thead>\n",
       "  <tbody>\n",
       "    <tr>\n",
       "      <th>0</th>\n",
       "      <td>51003C</td>\n",
       "      <td>1.1.1.0</td>\n",
       "      <td>51003C_788</td>\n",
       "      <td>NP</td>\n",
       "      <td>X</td>\n",
       "      <td>0.2 PCT ANNUAL CHANCE FLOOD HAZARD</td>\n",
       "      <td>F</td>\n",
       "      <td>-9999.0</td>\n",
       "      <td>None</td>\n",
       "      <td>-9999.0</td>\n",
       "      <td>None</td>\n",
       "      <td>-9999.0</td>\n",
       "      <td>None</td>\n",
       "      <td>None</td>\n",
       "      <td>None</td>\n",
       "      <td>-9999.0</td>\n",
       "      <td>-9999.0</td>\n",
       "      <td>None</td>\n",
       "      <td>51003C_FIS1</td>\n",
       "      <td>POLYGON ((-78.54919 38.12872, -78.54919 38.128...</td>\n",
       "    </tr>\n",
       "    <tr>\n",
       "      <th>1</th>\n",
       "      <td>51003C</td>\n",
       "      <td>1.1.1.0</td>\n",
       "      <td>51003C_853</td>\n",
       "      <td>NP</td>\n",
       "      <td>A</td>\n",
       "      <td>None</td>\n",
       "      <td>T</td>\n",
       "      <td>-9999.0</td>\n",
       "      <td>None</td>\n",
       "      <td>-9999.0</td>\n",
       "      <td>None</td>\n",
       "      <td>-9999.0</td>\n",
       "      <td>None</td>\n",
       "      <td>None</td>\n",
       "      <td>None</td>\n",
       "      <td>-9999.0</td>\n",
       "      <td>-9999.0</td>\n",
       "      <td>None</td>\n",
       "      <td>51003C_FIS1</td>\n",
       "      <td>POLYGON ((-78.70209 37.81493, -78.70225 37.815...</td>\n",
       "    </tr>\n",
       "    <tr>\n",
       "      <th>2</th>\n",
       "      <td>51003C</td>\n",
       "      <td>1.1.1.0</td>\n",
       "      <td>51003C_865</td>\n",
       "      <td>NP</td>\n",
       "      <td>A</td>\n",
       "      <td>None</td>\n",
       "      <td>T</td>\n",
       "      <td>-9999.0</td>\n",
       "      <td>None</td>\n",
       "      <td>-9999.0</td>\n",
       "      <td>None</td>\n",
       "      <td>-9999.0</td>\n",
       "      <td>None</td>\n",
       "      <td>None</td>\n",
       "      <td>None</td>\n",
       "      <td>-9999.0</td>\n",
       "      <td>-9999.0</td>\n",
       "      <td>None</td>\n",
       "      <td>51003C_FIS1</td>\n",
       "      <td>POLYGON ((-78.67918 38.02400, -78.67903 38.024...</td>\n",
       "    </tr>\n",
       "    <tr>\n",
       "      <th>3</th>\n",
       "      <td>51003C</td>\n",
       "      <td>1.1.1.0</td>\n",
       "      <td>51003C_968</td>\n",
       "      <td>NP</td>\n",
       "      <td>AE</td>\n",
       "      <td>None</td>\n",
       "      <td>T</td>\n",
       "      <td>-9999.0</td>\n",
       "      <td>None</td>\n",
       "      <td>-9999.0</td>\n",
       "      <td>None</td>\n",
       "      <td>-9999.0</td>\n",
       "      <td>None</td>\n",
       "      <td>None</td>\n",
       "      <td>None</td>\n",
       "      <td>-9999.0</td>\n",
       "      <td>-9999.0</td>\n",
       "      <td>None</td>\n",
       "      <td>51003C_FIS1</td>\n",
       "      <td>POLYGON ((-78.56976 38.06583, -78.56964 38.065...</td>\n",
       "    </tr>\n",
       "    <tr>\n",
       "      <th>4</th>\n",
       "      <td>51003C</td>\n",
       "      <td>1.1.1.0</td>\n",
       "      <td>51003C_864</td>\n",
       "      <td>NP</td>\n",
       "      <td>A</td>\n",
       "      <td>None</td>\n",
       "      <td>T</td>\n",
       "      <td>-9999.0</td>\n",
       "      <td>None</td>\n",
       "      <td>-9999.0</td>\n",
       "      <td>None</td>\n",
       "      <td>-9999.0</td>\n",
       "      <td>None</td>\n",
       "      <td>None</td>\n",
       "      <td>None</td>\n",
       "      <td>-9999.0</td>\n",
       "      <td>-9999.0</td>\n",
       "      <td>None</td>\n",
       "      <td>51003C_FIS1</td>\n",
       "      <td>POLYGON ((-78.52482 37.99485, -78.52485 37.994...</td>\n",
       "    </tr>\n",
       "  </tbody>\n",
       "</table>\n",
       "</div>"
      ],
      "text/plain": [
       "  DFIRM_ID VERSION_ID   FLD_AR_ID STUDY_TYP FLD_ZONE  \\\n",
       "0   51003C    1.1.1.0  51003C_788        NP        X   \n",
       "1   51003C    1.1.1.0  51003C_853        NP        A   \n",
       "2   51003C    1.1.1.0  51003C_865        NP        A   \n",
       "3   51003C    1.1.1.0  51003C_968        NP       AE   \n",
       "4   51003C    1.1.1.0  51003C_864        NP        A   \n",
       "\n",
       "                           ZONE_SUBTY SFHA_TF  STATIC_BFE V_DATUM   DEPTH  \\\n",
       "0  0.2 PCT ANNUAL CHANCE FLOOD HAZARD       F     -9999.0    None -9999.0   \n",
       "1                                None       T     -9999.0    None -9999.0   \n",
       "2                                None       T     -9999.0    None -9999.0   \n",
       "3                                None       T     -9999.0    None -9999.0   \n",
       "4                                None       T     -9999.0    None -9999.0   \n",
       "\n",
       "  LEN_UNIT  VELOCITY VEL_UNIT AR_REVERT AR_SUBTRV  BFE_REVERT  DEP_REVERT  \\\n",
       "0     None   -9999.0     None      None      None     -9999.0     -9999.0   \n",
       "1     None   -9999.0     None      None      None     -9999.0     -9999.0   \n",
       "2     None   -9999.0     None      None      None     -9999.0     -9999.0   \n",
       "3     None   -9999.0     None      None      None     -9999.0     -9999.0   \n",
       "4     None   -9999.0     None      None      None     -9999.0     -9999.0   \n",
       "\n",
       "  DUAL_ZONE   SOURCE_CIT                                           geometry  \n",
       "0      None  51003C_FIS1  POLYGON ((-78.54919 38.12872, -78.54919 38.128...  \n",
       "1      None  51003C_FIS1  POLYGON ((-78.70209 37.81493, -78.70225 37.815...  \n",
       "2      None  51003C_FIS1  POLYGON ((-78.67918 38.02400, -78.67903 38.024...  \n",
       "3      None  51003C_FIS1  POLYGON ((-78.56976 38.06583, -78.56964 38.065...  \n",
       "4      None  51003C_FIS1  POLYGON ((-78.52482 37.99485, -78.52485 37.994...  "
      ]
     },
     "execution_count": 3,
     "metadata": {},
     "output_type": "execute_result"
    }
   ],
   "source": [
    "charlottesville_data_path = \"./data/charlottesville/51003C_20210712\"\n",
    "albemarle_data_path = \"./data/albemarle/51003C_20210712\"\n",
    "fluvanna_data_path = \"./data/fluvanna/51003C_20210712\"\n",
    "greene_data_path = \"./data/greene/51079C_20210323\"\n",
    "louisa_data_path = \"./data/louisa/51109C_20200723\"\n",
    "nelson_data_path = \"./data/nelson/51125C_20100618\"\n",
    "\n",
    "cville_data_paths = [\n",
    "    albemarle_data_path,\n",
    "    charlottesville_data_path, \n",
    "    fluvanna_data_path,\n",
    "    greene_data_path,\n",
    "    louisa_data_path,\n",
    "    nelson_data_path\n",
    "]\n",
    "\n",
    "def read_paths(paths):\n",
    "    return pd.concat([gpd.read_file(path) for path in paths])\n",
    "\n",
    "paths = [os.path.join(data_path, \"S_Fld_Haz_Ar.shp\") for data_path in cville_data_paths]\n",
    "cville_fhl = read_paths(paths)\n",
    "cville_fhl.head()"
   ]
  },
  {
   "cell_type": "code",
   "execution_count": 4,
   "metadata": {},
   "outputs": [],
   "source": [
    "def get_area(a):\n",
    "    # get area of shp in km^2\n",
    "    return round(a.geometry.to_crs(\"EPSG:3395\").map(lambda p: p.area / 10**6).iloc[0], 6)\n",
    "\n",
    "def get_intersection_area(a, b):\n",
    "    \"\"\"\n",
    "    Computes the intersection of a and b and returns the intersection area and size of the intersected area\n",
    "    as a percentage of the total area of a.\n",
    "    \n",
    "    Parameters\n",
    "    ----------\n",
    "    a : geopandas GeoDataFrame, required\n",
    "    b : geopandas GeoDataFrame, required\n",
    "    \"\"\"\n",
    "    intersection = gpd.overlay(a, b, how='intersection')\n",
    "    if len(intersection) == 0:\n",
    "        return {'area': 0, 'percent': 0}\n",
    "    \n",
    "    # get area of intersection in km^2\n",
    "    intersect_area = get_area(intersection)\n",
    "    \n",
    "    # get area of original shp in km^2\n",
    "    shp_area = get_area(a)\n",
    "    \n",
    "    # compute percentage of intersection of shp\n",
    "    percentage = (intersect_area / shp_area) * 100\n",
    "    \n",
    "    return {'area': intersect_area, 'percent': percentage}"
   ]
  },
  {
   "cell_type": "code",
   "execution_count": 5,
   "metadata": {},
   "outputs": [],
   "source": [
    "def get_perc_fld_zone_in_region(fhl, sp, logging = False):\n",
    "    \"\"\"\n",
    "    Given National Flood Hazard Layer data (fhl) and spatial boundaries (sp) for counties, tracts, block groups, and blocks,\n",
    "    this method computes the intersected area between the flood zone and specific geographic area to get an estimate of how much\n",
    "    of that region is in what flood zone. \n",
    "    \n",
    "    Parameters\n",
    "    ----------\n",
    "    fhl : GeoPandas GeoDataFrame, required\n",
    "        National Flood Hazard Layer data.\n",
    "        \n",
    "    sp : dict, required\n",
    "        Python dictionary containing spatial boundaries for counties, tracts, block groups, and blocks.\n",
    "        Each spatial unit is a key for a GeoPandas GeoDataFrame with the spatial data.\n",
    "        \n",
    "    logging : bool, optional (default is False)\n",
    "        Whether or not print statements should be executed for more information during runtime.\n",
    "        \n",
    "    Output\n",
    "    ------\n",
    "    GeoPandas GeoDataFrame\n",
    "        Each row represents one flood zone type for a geographic region containing the information for how much of \n",
    "        that specific region was intersected by that flood zone type.\n",
    "        \n",
    "    \"\"\"\n",
    "    fld_zones = fhl.ZONE_SUBTY.value_counts().index.tolist()\n",
    "    area_df = pd.DataFrame()\n",
    "    for zone in fld_zones:\n",
    "        if logging:\n",
    "            print('Starting Zone: {zone}'.format(zone=zone))\n",
    "        zone_df = fhl[fhl.ZONE_SUBTY == zone].dissolve()\n",
    "        for su in ['counties', 'tracts', 'blkgps', 'blocks']:\n",
    "            if logging:\n",
    "                print('Starting Spatial Unit: {su}'.format(su = su))\n",
    "                \n",
    "            area_data = {\n",
    "                'GEOID': [],\n",
    "                'zone': [],\n",
    "                'spatial_unit': [],\n",
    "                'area': [],\n",
    "                'perc': []\n",
    "            }\n",
    "            \n",
    "            region = sp[su]\n",
    "            \n",
    "            if su == 'tracts':\n",
    "                # get counties that were intersected by this flood zone\n",
    "                intersected_areas = area_df[(area_df.zone == zone) & (area_df.spatial_unit == \"counties\") & (area_df.area > 0)]\n",
    "                intersected_counties = sp['counties'][sp['counties'].GEOID.isin(intersected_areas.GEOID.values)]\n",
    "                # filter region to only tracts within counties that have been intersected, reduces exploration\n",
    "                region = region[region.COUNTYFP.isin(intersected_counties.COUNTYFP.values)]\n",
    "            \n",
    "            elif su == 'blkgps':\n",
    "                # get tracts that were intersected by this flood zone\n",
    "                intersected_areas = area_df[(area_df.zone == zone) & (area_df.spatial_unit == \"tracts\") & (area_df.area > 0)]\n",
    "                intersected_tracts = sp['tracts'][sp['tracts'].GEOID.isin(intersected_areas.GEOID.values)]\n",
    "                # filter region to only blkgps within tracts that have been intersected, reduces exploration\n",
    "                region = region[region.TRACTCE.isin(intersected_tracts.TRACTCE.values)]\n",
    "                \n",
    "            elif su == 'blocks':\n",
    "                # get tracts that were intersected by this flood zone\n",
    "                intersected_areas = area_df[(area_df.zone == zone) & (area_df.spatial_unit == \"tracts\") & (area_df.area > 0)]\n",
    "                intersected_tracts = sp['tracts'][sp['tracts'].GEOID.isin(intersected_areas.GEOID.values)]\n",
    "                # filter region to only blocks that have been intersected, reduces exploration\n",
    "                region = region[region.TRACTCE.isin(intersected_tracts.TRACTCE.values)]\n",
    "                \n",
    "            for i in tqdm(range(len(region))):\n",
    "                shp = region.iloc[[i]]\n",
    "                stats = get_intersection_area(shp, zone_df)\n",
    "                \n",
    "                # append data to area data\n",
    "                area_data['GEOID'].append(shp.GEOID.iloc[0])\n",
    "                area_data['zone'].append(zone)\n",
    "                area_data['spatial_unit'].append(su)\n",
    "                area_data['area'].append(stats['area'])\n",
    "                area_data['perc'].append(stats['percent'])\n",
    "                \n",
    "            area_df = pd.concat([area_df, pd.DataFrame(area_data)])\n",
    "            \n",
    "    return area_df"
   ]
  },
  {
   "cell_type": "code",
   "execution_count": null,
   "metadata": {},
   "outputs": [
    {
     "name": "stdout",
     "output_type": "stream",
     "text": [
      "Starting Zone: 0.2 PCT ANNUAL CHANCE FLOOD HAZARD\n"
     ]
    },
    {
     "name": "stderr",
     "output_type": "stream",
     "text": [
      "\r",
      "  0%|          | 0/6 [00:00<?, ?it/s]"
     ]
    },
    {
     "name": "stdout",
     "output_type": "stream",
     "text": [
      "Starting Spatial Unit: counties\n"
     ]
    },
    {
     "name": "stderr",
     "output_type": "stream",
     "text": [
      "100%|██████████| 6/6 [00:02<00:00,  2.92it/s]\n",
      "  0%|          | 0/41 [00:00<?, ?it/s]"
     ]
    },
    {
     "name": "stdout",
     "output_type": "stream",
     "text": [
      "Starting Spatial Unit: tracts\n"
     ]
    },
    {
     "name": "stderr",
     "output_type": "stream",
     "text": [
      "100%|██████████| 41/41 [00:08<00:00,  4.95it/s]\n",
      "  2%|▏         | 2/105 [00:00<00:06, 15.14it/s]"
     ]
    },
    {
     "name": "stdout",
     "output_type": "stream",
     "text": [
      "Starting Spatial Unit: blkgps\n"
     ]
    },
    {
     "name": "stderr",
     "output_type": "stream",
     "text": [
      "100%|██████████| 105/105 [00:19<00:00,  5.49it/s]\n",
      "  0%|          | 2/7594 [00:00<08:30, 14.86it/s]"
     ]
    },
    {
     "name": "stdout",
     "output_type": "stream",
     "text": [
      "Starting Spatial Unit: blocks\n"
     ]
    },
    {
     "name": "stderr",
     "output_type": "stream",
     "text": [
      "100%|██████████| 7594/7594 [11:54<00:00, 10.63it/s]\n"
     ]
    },
    {
     "name": "stdout",
     "output_type": "stream",
     "text": [
      "Starting Zone: AREA OF MINIMAL FLOOD HAZARD\n"
     ]
    },
    {
     "name": "stderr",
     "output_type": "stream",
     "text": [
      "\r",
      "  0%|          | 0/6 [00:00<?, ?it/s]"
     ]
    },
    {
     "name": "stdout",
     "output_type": "stream",
     "text": [
      "Starting Spatial Unit: counties\n"
     ]
    },
    {
     "name": "stderr",
     "output_type": "stream",
     "text": [
      "100%|██████████| 6/6 [00:23<00:00,  3.95s/it]\n",
      "  0%|          | 0/50 [00:00<?, ?it/s]"
     ]
    },
    {
     "name": "stdout",
     "output_type": "stream",
     "text": [
      "Starting Spatial Unit: tracts\n"
     ]
    },
    {
     "name": "stderr",
     "output_type": "stream",
     "text": [
      "100%|██████████| 50/50 [01:32<00:00,  1.86s/it]\n",
      "  0%|          | 0/152 [00:00<?, ?it/s]"
     ]
    },
    {
     "name": "stdout",
     "output_type": "stream",
     "text": [
      "Starting Spatial Unit: blkgps\n"
     ]
    },
    {
     "name": "stderr",
     "output_type": "stream",
     "text": [
      "100%|██████████| 152/152 [04:42<00:00,  1.86s/it]\n",
      "  0%|          | 0/10503 [00:00<?, ?it/s]"
     ]
    },
    {
     "name": "stdout",
     "output_type": "stream",
     "text": [
      "Starting Spatial Unit: blocks\n"
     ]
    },
    {
     "name": "stderr",
     "output_type": "stream",
     "text": [
      " 72%|███████▏  | 7551/10503 [3:41:38<1:26:52,  1.77s/it]"
     ]
    }
   ],
   "source": [
    "cville_area_df = get_perc_fld_zone_in_region(cville_fhl, cville_sp, logging = True)"
   ]
  },
  {
   "cell_type": "code",
   "execution_count": null,
   "metadata": {},
   "outputs": [],
   "source": []
  }
 ],
 "metadata": {
  "kernelspec": {
   "display_name": "earth-analytics-python",
   "language": "python",
   "name": "earth-analytics-python"
  },
  "language_info": {
   "codemirror_mode": {
    "name": "ipython",
    "version": 3
   },
   "file_extension": ".py",
   "mimetype": "text/x-python",
   "name": "python",
   "nbconvert_exporter": "python",
   "pygments_lexer": "ipython3",
   "version": "3.8.10"
  }
 },
 "nbformat": 4,
 "nbformat_minor": 4
}
